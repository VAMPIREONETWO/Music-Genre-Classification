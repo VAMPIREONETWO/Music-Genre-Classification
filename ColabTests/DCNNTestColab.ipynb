{
 "cells": [
  {
   "cell_type": "code",
   "execution_count": 1,
   "id": "initial_id",
   "metadata": {
    "collapsed": true,
    "ExecuteTime": {
     "end_time": "2024-03-20T20:23:56.892203Z",
     "start_time": "2024-03-20T20:23:53.617395Z"
    }
   },
   "outputs": [],
   "source": [
    "import torch\n",
    "from sklearn.model_selection import train_test_split\n",
    "from models.DCNN import DCNN\n",
    "import os\n",
    "import librosa\n",
    "import numpy as np\n",
    "from torchinfo import summary\n",
    "from torch import nn\n",
    "from torch.optim import Adam\n",
    "from Utils import create_dataloader, k_fold_cross_validation\n",
    "from torcheval.metrics import MulticlassAUROC, MulticlassF1Score"
   ]
  },
  {
   "cell_type": "markdown",
   "source": [
    "# limit GPU usage"
   ],
   "metadata": {
    "collapsed": false
   },
   "id": "51e7ee162c4d26f"
  },
  {
   "cell_type": "code",
   "outputs": [],
   "source": [
    "torch.cuda.set_per_process_memory_fraction(0.625)"
   ],
   "metadata": {
    "collapsed": false,
    "ExecuteTime": {
     "end_time": "2024-03-20T20:23:57.430218Z",
     "start_time": "2024-03-20T20:23:56.893179Z"
    }
   },
   "id": "6583ec646f0cdf76",
   "execution_count": 2
  },
  {
   "cell_type": "markdown",
   "source": [
    "# Read Data"
   ],
   "metadata": {
    "collapsed": false
   },
   "id": "51a5db70937b662"
  },
  {
   "cell_type": "code",
   "outputs": [
    {
     "name": "stdout",
     "output_type": "stream",
     "text": [
      "finsh reading data\n"
     ]
    }
   ],
   "source": [
    "root = 'Data/genres_original'\n",
    "genres = os.listdir(root)\n",
    "x = []\n",
    "y = []\n",
    "length = []\n",
    "sr = 16*1000\n",
    "for genre in genres:\n",
    "    genre_root = os.path.join(root, genre)\n",
    "    audios = os.listdir(genre_root)\n",
    "    for audio in audios:\n",
    "        audio_path = os.path.join(genre_root, audio)\n",
    "        signal, sr = librosa.load(audio_path, sr=sr)\n",
    "        x.append(signal)\n",
    "        length.append(len(signal))\n",
    "        y.append(genres.index(genre))\n",
    "min_length = min(length)\n",
    "print(\"finsh reading data\")"
   ],
   "metadata": {
    "collapsed": false,
    "ExecuteTime": {
     "end_time": "2024-03-20T20:24:06.734363Z",
     "start_time": "2024-03-20T20:23:57.431242Z"
    }
   },
   "id": "688fcddfa5166508",
   "execution_count": 3
  },
  {
   "cell_type": "markdown",
   "source": [
    "# Segment and Normalise "
   ],
   "metadata": {
    "collapsed": false
   },
   "id": "cb9b1d09933e8c"
  },
  {
   "cell_type": "code",
   "outputs": [
    {
     "name": "stdout",
     "output_type": "stream",
     "text": [
      "finish segmentation and normalisation\n"
     ]
    }
   ],
   "source": [
    "for i in range(len(x)):\n",
    "    x[i] = x[i][0:min_length]\n",
    "    x[i] = librosa.util.normalize(x[i])\n",
    "x = np.asarray(x)\n",
    "y = np.asarray(y)\n",
    "# print(x.shape,y.shape)\n",
    "seg_length = 59049\n",
    "frame_num = int(x.shape[1]/seg_length)\n",
    "preprocessed_x = x[:, :frame_num*seg_length].reshape(frame_num*x.shape[0],1,seg_length)\n",
    "preprocessed_y = (y.reshape(y.shape[0],1)*np.ones((y.shape[0],frame_num))).reshape(y.shape[0]*frame_num)\n",
    "# print(preprocessed_x.shape,preprocessed_y.shape)\n",
    "print(\"finish segmentation and normalisation\")"
   ],
   "metadata": {
    "collapsed": false,
    "ExecuteTime": {
     "end_time": "2024-03-20T20:24:11.680958Z",
     "start_time": "2024-03-20T20:24:06.735336Z"
    }
   },
   "id": "adde1dd7a93a75bf",
   "execution_count": 4
  },
  {
   "cell_type": "markdown",
   "source": [
    "# Split Data "
   ],
   "metadata": {
    "collapsed": false
   },
   "id": "980160b9ea266574"
  },
  {
   "cell_type": "code",
   "outputs": [
    {
     "name": "stdout",
     "output_type": "stream",
     "text": [
      "finish splitting data\n"
     ]
    }
   ],
   "source": [
    "x_train, x_test, y_train, y_test = train_test_split(preprocessed_x, preprocessed_y, test_size=0.2,\n",
    "                                                    stratify=preprocessed_y,shuffle=True)\n",
    "# k-fold cross validation\n",
    "k = 5\n",
    "xs_train, ys_train, xs_valid, ys_valid = k_fold_cross_validation(x_train,y_train,k)\n",
    "print(\"finish splitting data\")"
   ],
   "metadata": {
    "collapsed": false,
    "ExecuteTime": {
     "end_time": "2024-03-20T20:24:13.400221Z",
     "start_time": "2024-03-20T20:24:11.682406Z"
    }
   },
   "id": "9beb60e3ce30783e",
   "execution_count": 5
  },
  {
   "cell_type": "markdown",
   "source": [
    "# Create Dataloaders"
   ],
   "metadata": {
    "collapsed": false
   },
   "id": "4e3231aec7017b9d"
  },
  {
   "cell_type": "code",
   "outputs": [
    {
     "name": "stdout",
     "output_type": "stream",
     "text": [
      "finish creating dataloaders\n"
     ]
    }
   ],
   "source": [
    "batch_size = 32\n",
    "dataloaders_train = []\n",
    "dataloaders_valid = []\n",
    "for i in range(k):\n",
    "    dataloaders_train.append(create_dataloader(xs_train[i], ys_train[i], batch_size=batch_size))\n",
    "    dataloaders_valid.append(create_dataloader(xs_valid[i], ys_valid[i], batch_size=batch_size))\n",
    "dataloader_test = create_dataloader(x_test, y_test, batch_size=batch_size)\n",
    "print(\"finish creating dataloaders\")"
   ],
   "metadata": {
    "collapsed": false,
    "ExecuteTime": {
     "end_time": "2024-03-20T20:24:17.735142Z",
     "start_time": "2024-03-20T20:24:13.401195Z"
    }
   },
   "id": "96d7659a191d6c43",
   "execution_count": 6
  },
  {
   "cell_type": "markdown",
   "source": [
    "# Model Construction"
   ],
   "metadata": {
    "collapsed": false
   },
   "id": "5d6cbe706ea9b080"
  },
  {
   "cell_type": "code",
   "outputs": [
    {
     "name": "stdout",
     "output_type": "stream",
     "text": [
      "finish model construction\n"
     ]
    }
   ],
   "source": [
    "model = DCNN(10)\n",
    "model.cuda()\n",
    "loss_function = nn.CrossEntropyLoss()\n",
    "opt = Adam(model.parameters(), lr=0.01)\n",
    "summary(model,[(64,1,seg_length)])\n",
    "print(\"finish model construction\")"
   ],
   "metadata": {
    "collapsed": false,
    "ExecuteTime": {
     "end_time": "2024-03-20T20:24:18.938945Z",
     "start_time": "2024-03-20T20:24:17.737091Z"
    }
   },
   "id": "586f84b92fed94cc",
   "execution_count": 7
  },
  {
   "cell_type": "markdown",
   "source": [
    "# Train"
   ],
   "metadata": {
    "collapsed": false
   },
   "id": "ba0478e4d3367b5f"
  },
  {
   "cell_type": "code",
   "outputs": [
    {
     "name": "stdout",
     "output_type": "stream",
     "text": [
      "-------epoch  1 -------\n",
      "fold 1:\n",
      "train set loss: 2.0882987387478353\n",
      "train set accuracy: 0.3111328184604645\n",
      "valid set Loss: 1.987378939986229\n",
      "valid set accuracy: 0.4085937440395355\n",
      "fold 2:\n",
      "train set loss: 1.9265043050050736\n",
      "train set accuracy: 0.4544921815395355\n",
      "valid set Loss: 1.9292132049798965\n",
      "valid set accuracy: 0.41718751192092896\n",
      "fold 3:\n",
      "train set loss: 1.8766796171665192\n",
      "train set accuracy: 0.4818359315395355\n",
      "valid set Loss: 1.8304516851902009\n",
      "valid set accuracy: 0.546093761920929\n",
      "fold 4:\n",
      "train set loss: 1.8375834472477437\n",
      "train set accuracy: 0.5263671875\n",
      "valid set Loss: 1.8062023967504501\n",
      "valid set accuracy: 0.5609375238418579\n",
      "fold 5:\n",
      "train set loss: 1.7989463292062282\n",
      "train set accuracy: 0.568554699420929\n",
      "valid set Loss: 1.7822080850601196\n",
      "valid set accuracy: 0.565625011920929\n",
      "-------epoch  2 -------\n",
      "fold 1:\n",
      "train set loss: 1.7766260780394076\n",
      "train set accuracy: 0.5863281488418579\n",
      "valid set Loss: 1.7550921469926835\n",
      "valid set accuracy: 0.6312500238418579\n",
      "fold 2:\n",
      "train set loss: 1.7485627338290215\n",
      "train set accuracy: 0.625195324420929\n",
      "valid set Loss: 1.8522211581468582\n",
      "valid set accuracy: 0.4867187440395355\n",
      "fold 3:\n",
      "train set loss: 1.7414939656853676\n",
      "train set accuracy: 0.640625\n",
      "valid set Loss: 1.7390806257724762\n",
      "valid set accuracy: 0.647656261920929\n",
      "fold 4:\n",
      "train set loss: 1.7225712828338147\n",
      "train set accuracy: 0.652539074420929\n",
      "valid set Loss: 1.6860568970441818\n",
      "valid set accuracy: 0.7054687738418579\n",
      "fold 5:\n",
      "train set loss: 1.7088292993605136\n",
      "train set accuracy: 0.6751953363418579\n",
      "valid set Loss: 1.824450546503067\n",
      "valid set accuracy: 0.559374988079071\n",
      "-------epoch  3 -------\n",
      "fold 1:\n",
      "train set loss: 1.6993617407977581\n",
      "train set accuracy: 0.6800781488418579\n",
      "valid set Loss: 1.7776344805955886\n",
      "valid set accuracy: 0.598437488079071\n",
      "fold 2:\n",
      "train set loss: 1.6855656899511815\n",
      "train set accuracy: 0.7035156488418579\n",
      "valid set Loss: 1.6962541162967681\n",
      "valid set accuracy: 0.6890625357627869\n",
      "fold 3:\n",
      "train set loss: 1.6787245504558086\n",
      "train set accuracy: 0.714062511920929\n",
      "valid set Loss: 1.7828471064567566\n",
      "valid set accuracy: 0.5859375\n",
      "fold 4:\n",
      "train set loss: 1.6690671250224114\n",
      "train set accuracy: 0.731249988079071\n",
      "valid set Loss: 1.6640142887830733\n",
      "valid set accuracy: 0.7328125238418579\n",
      "fold 5:\n",
      "train set loss: 1.6483734153211116\n",
      "train set accuracy: 0.7484375238418579\n",
      "valid set Loss: 1.626564335823059\n",
      "valid set accuracy: 0.7867187857627869\n",
      "-------epoch  4 -------\n",
      "fold 1:\n",
      "train set loss: 1.6374129839241505\n",
      "train set accuracy: 0.765820324420929\n",
      "valid set Loss: 1.7495734721422196\n",
      "valid set accuracy: 0.641406238079071\n",
      "fold 2:\n",
      "train set loss: 1.6403517171740531\n",
      "train set accuracy: 0.768359363079071\n",
      "valid set Loss: 1.6437925577163697\n",
      "valid set accuracy: 0.7640625238418579\n",
      "fold 3:\n",
      "train set loss: 1.629519945383072\n",
      "train set accuracy: 0.787890613079071\n",
      "valid set Loss: 1.5900230675935745\n",
      "valid set accuracy: 0.827343761920929\n",
      "fold 4:\n",
      "train set loss: 1.6195434413850307\n",
      "train set accuracy: 0.7802734375\n",
      "valid set Loss: 1.769480100274086\n",
      "valid set accuracy: 0.586718738079071\n",
      "fold 5:\n",
      "train set loss: 1.6218793608248234\n",
      "train set accuracy: 0.7867187857627869\n",
      "valid set Loss: 1.6341927111148835\n",
      "valid set accuracy: 0.776562511920929\n",
      "-------epoch  5 -------\n",
      "fold 1:\n",
      "train set loss: 1.6090630687773229\n",
      "train set accuracy: 0.7974609732627869\n",
      "valid set Loss: 1.573845425248146\n",
      "valid set accuracy: 0.871874988079071\n",
      "fold 2:\n",
      "train set loss: 1.6025527074933053\n",
      "train set accuracy: 0.8111328482627869\n",
      "valid set Loss: 1.6469659447669982\n",
      "valid set accuracy: 0.754687488079071\n",
      "fold 3:\n",
      "train set loss: 1.5934290662407875\n",
      "train set accuracy: 0.832812488079071\n",
      "valid set Loss: 1.6012046754360199\n",
      "valid set accuracy: 0.817187488079071\n",
      "fold 4:\n",
      "train set loss: 1.5976186744868754\n",
      "train set accuracy: 0.822460949420929\n",
      "valid set Loss: 1.5685604602098464\n",
      "valid set accuracy: 0.8515625\n",
      "fold 5:\n",
      "train set loss: 1.5841800473630427\n",
      "train set accuracy: 0.8335937857627869\n",
      "valid set Loss: 1.5959584265947342\n",
      "valid set accuracy: 0.8414062857627869\n",
      "-------epoch  6 -------\n",
      "fold 1:\n",
      "train set loss: 1.5819760978221893\n",
      "train set accuracy: 0.832812488079071\n",
      "valid set Loss: 1.59543174803257\n",
      "valid set accuracy: 0.821093738079071\n",
      "fold 2:\n",
      "train set loss: 1.5645434722304343\n",
      "train set accuracy: 0.8626953363418579\n",
      "valid set Loss: 1.6572089940309525\n",
      "valid set accuracy: 0.733593761920929\n",
      "fold 3:\n",
      "train set loss: 1.579094547778368\n",
      "train set accuracy: 0.83984375\n",
      "valid set Loss: 1.5423407018184663\n",
      "valid set accuracy: 0.8968750238418579\n",
      "fold 4:\n",
      "train set loss: 1.574596004933119\n",
      "train set accuracy: 0.8539062738418579\n",
      "valid set Loss: 1.5926132827997208\n",
      "valid set accuracy: 0.823437511920929\n",
      "fold 5:\n",
      "train set loss: 1.5767638772726058\n",
      "train set accuracy: 0.8492187857627869\n",
      "valid set Loss: 1.5566844314336776\n",
      "valid set accuracy: 0.875781238079071\n",
      "-------epoch  7 -------\n",
      "fold 1:\n",
      "train set loss: 1.5639263473451137\n",
      "train set accuracy: 0.866406261920929\n",
      "valid set Loss: 1.5439161509275436\n",
      "valid set accuracy: 0.90234375\n",
      "fold 2:\n",
      "train set loss: 1.5634981937706471\n",
      "train set accuracy: 0.8607422113418579\n",
      "valid set Loss: 1.6005888342857362\n",
      "valid set accuracy: 0.8414062857627869\n",
      "fold 3:\n",
      "train set loss: 1.5664063401520252\n",
      "train set accuracy: 0.8646484613418579\n",
      "valid set Loss: 1.644050833582878\n",
      "valid set accuracy: 0.7484375238418579\n",
      "fold 4:\n",
      "train set loss: 1.5630974635481834\n",
      "train set accuracy: 0.8638672232627869\n",
      "valid set Loss: 1.566179284453392\n",
      "valid set accuracy: 0.8609375357627869\n",
      "fold 5:\n",
      "train set loss: 1.554983174800873\n",
      "train set accuracy: 0.874218761920929\n",
      "valid set Loss: 1.5764777302742004\n",
      "valid set accuracy: 0.842968761920929\n",
      "-------epoch  8 -------\n",
      "fold 1:\n",
      "train set loss: 1.549625215679407\n",
      "train set accuracy: 0.882617175579071\n",
      "valid set Loss: 1.5446717292070389\n",
      "valid set accuracy: 0.899218738079071\n",
      "fold 2:\n",
      "train set loss: 1.5400654628872872\n",
      "train set accuracy: 0.8949218988418579\n",
      "valid set Loss: 1.5447192043066025\n",
      "valid set accuracy: 0.9039062857627869\n",
      "fold 3:\n",
      "train set loss: 1.5491308115422726\n",
      "train set accuracy: 0.880859375\n",
      "valid set Loss: 1.5271644949913026\n",
      "valid set accuracy: 0.922656238079071\n",
      "fold 4:\n",
      "train set loss: 1.5483033396303654\n",
      "train set accuracy: 0.8822265863418579\n",
      "valid set Loss: 1.5312119245529174\n",
      "valid set accuracy: 0.9140625\n",
      "fold 5:\n",
      "train set loss: 1.5380409061908722\n",
      "train set accuracy: 0.897656261920929\n",
      "valid set Loss: 1.5403728574514388\n",
      "valid set accuracy: 0.889843761920929\n",
      "-------epoch  9 -------\n",
      "fold 1:\n",
      "train set loss: 1.530258769541979\n",
      "train set accuracy: 0.9048828482627869\n",
      "valid set Loss: 1.5012588113546372\n",
      "valid set accuracy: 0.952343761920929\n",
      "fold 2:\n",
      "train set loss: 1.5307208120822906\n",
      "train set accuracy: 0.9076172113418579\n",
      "valid set Loss: 1.519074809551239\n",
      "valid set accuracy: 0.93359375\n",
      "fold 3:\n",
      "train set loss: 1.5335247196257114\n",
      "train set accuracy: 0.9039062857627869\n",
      "valid set Loss: 1.5210485339164734\n",
      "valid set accuracy: 0.925000011920929\n",
      "fold 4:\n",
      "train set loss: 1.5329991586506366\n",
      "train set accuracy: 0.910351574420929\n",
      "valid set Loss: 1.4990719139575959\n",
      "valid set accuracy: 0.948437511920929\n",
      "fold 5:\n",
      "train set loss: 1.531594129651785\n",
      "train set accuracy: 0.9068359732627869\n",
      "valid set Loss: 1.4975402444601058\n",
      "valid set accuracy: 0.952343761920929\n",
      "-------epoch  10 -------\n",
      "fold 1:\n",
      "train set loss: 1.5245131157338618\n",
      "train set accuracy: 0.916210949420929\n",
      "valid set Loss: 1.5176778823137282\n",
      "valid set accuracy: 0.9312500357627869\n",
      "fold 2:\n",
      "train set loss: 1.5303499706089496\n",
      "train set accuracy: 0.9066406488418579\n",
      "valid set Loss: 1.525867310166359\n",
      "valid set accuracy: 0.925000011920929\n",
      "fold 3:\n",
      "train set loss: 1.5312315851449967\n",
      "train set accuracy: 0.9091796875\n",
      "valid set Loss: 1.506995114684105\n",
      "valid set accuracy: 0.952343761920929\n",
      "fold 4:\n",
      "train set loss: 1.5284766368567944\n",
      "train set accuracy: 0.9056640863418579\n",
      "valid set Loss: 1.5209167748689651\n",
      "valid set accuracy: 0.914843738079071\n",
      "fold 5:\n",
      "train set loss: 1.5343623772263526\n",
      "train set accuracy: 0.9072265625\n",
      "valid set Loss: 1.5036693930625915\n",
      "valid set accuracy: 0.952343761920929\n",
      "-------epoch  11 -------\n",
      "fold 1:\n",
      "train set loss: 1.5326082728803159\n",
      "train set accuracy: 0.9068359732627869\n",
      "valid set Loss: 1.5079198271036147\n",
      "valid set accuracy: 0.94140625\n",
      "fold 2:\n",
      "train set loss: 1.5258396834135055\n",
      "train set accuracy: 0.9091796875\n",
      "valid set Loss: 1.5489700764417649\n",
      "valid set accuracy: 0.8812500238418579\n",
      "fold 3:\n",
      "train set loss: 1.5167076602578162\n",
      "train set accuracy: 0.9253906607627869\n",
      "valid set Loss: 1.4883119016885757\n",
      "valid set accuracy: 0.9750000238418579\n",
      "fold 4:\n",
      "train set loss: 1.5198889374732971\n",
      "train set accuracy: 0.9214844107627869\n",
      "valid set Loss: 1.4849368453025817\n",
      "valid set accuracy: 0.965624988079071\n",
      "fold 5:\n",
      "train set loss: 1.5191731013357639\n",
      "train set accuracy: 0.9195312857627869\n",
      "valid set Loss: 1.4883775502443313\n",
      "valid set accuracy: 0.971875011920929\n",
      "-------epoch  12 -------\n",
      "fold 1:\n",
      "train set loss: 1.5162901252508163\n",
      "train set accuracy: 0.927734375\n",
      "valid set Loss: 1.503730246424675\n",
      "valid set accuracy: 0.9515625238418579\n",
      "fold 2:\n",
      "train set loss: 1.5167569026350975\n",
      "train set accuracy: 0.9251953363418579\n",
      "valid set Loss: 1.5067963123321533\n",
      "valid set accuracy: 0.9515625238418579\n",
      "fold 3:\n",
      "train set loss: 1.5136682942509652\n",
      "train set accuracy: 0.933789074420929\n",
      "valid set Loss: 1.4923168450593949\n",
      "valid set accuracy: 0.9703125357627869\n",
      "fold 4:\n",
      "train set loss: 1.515006922185421\n",
      "train set accuracy: 0.9228515625\n",
      "valid set Loss: 1.4800587624311448\n",
      "valid set accuracy: 0.9750000238418579\n",
      "fold 5:\n",
      "train set loss: 1.5120466403663158\n",
      "train set accuracy: 0.9326171875\n",
      "valid set Loss: 1.4826890349388122\n",
      "valid set accuracy: 0.9710937738418579\n",
      "-------epoch  13 -------\n",
      "fold 1:\n",
      "train set loss: 1.5065778076648713\n",
      "train set accuracy: 0.9375\n",
      "valid set Loss: 1.5103502452373505\n",
      "valid set accuracy: 0.9429687857627869\n",
      "fold 2:\n",
      "train set loss: 1.503970217704773\n",
      "train set accuracy: 0.942578136920929\n",
      "valid set Loss: 1.5102356404066086\n",
      "valid set accuracy: 0.9320312738418579\n",
      "fold 3:\n",
      "train set loss: 1.5083488836884498\n",
      "train set accuracy: 0.936328113079071\n",
      "valid set Loss: 1.4908055126667024\n",
      "valid set accuracy: 0.9632812738418579\n",
      "fold 4:\n",
      "train set loss: 1.5142286829650402\n",
      "train set accuracy: 0.9283203482627869\n",
      "valid set Loss: 1.483641728758812\n",
      "valid set accuracy: 0.969531238079071\n",
      "fold 5:\n",
      "train set loss: 1.5101438872516155\n",
      "train set accuracy: 0.9306640625\n",
      "valid set Loss: 1.4864730328321456\n",
      "valid set accuracy: 0.971875011920929\n",
      "-------epoch  14 -------\n",
      "fold 1:\n",
      "train set loss: 1.510842066258192\n",
      "train set accuracy: 0.931835949420929\n",
      "valid set Loss: 1.487393519282341\n",
      "valid set accuracy: 0.969531238079071\n",
      "fold 2:\n",
      "train set loss: 1.5026019848883152\n",
      "train set accuracy: 0.9443359375\n",
      "valid set Loss: 1.483184462785721\n",
      "valid set accuracy: 0.9781250357627869\n",
      "fold 3:\n",
      "train set loss: 1.5021666914224625\n",
      "train set accuracy: 0.941601574420929\n",
      "valid set Loss: 1.476664862036705\n",
      "valid set accuracy: 0.983593761920929\n",
      "fold 4:\n",
      "train set loss: 1.501723225414753\n",
      "train set accuracy: 0.9408203363418579\n",
      "valid set Loss: 1.4751863718032836\n",
      "valid set accuracy: 0.983593761920929\n",
      "fold 5:\n",
      "train set loss: 1.5056375861167908\n",
      "train set accuracy: 0.941210925579071\n",
      "valid set Loss: 1.4956851184368134\n",
      "valid set accuracy: 0.953125\n",
      "-------epoch  15 -------\n",
      "fold 1:\n",
      "train set loss: 1.504801718890667\n",
      "train set accuracy: 0.94140625\n",
      "valid set Loss: 1.4818766921758653\n",
      "valid set accuracy: 0.9789062738418579\n",
      "fold 2:\n",
      "train set loss: 1.4997040070593357\n",
      "train set accuracy: 0.9458984732627869\n",
      "valid set Loss: 1.4862084209918975\n",
      "valid set accuracy: 0.9703125357627869\n",
      "fold 3:\n",
      "train set loss: 1.501927800476551\n",
      "train set accuracy: 0.9423828125\n",
      "valid set Loss: 1.476298326253891\n",
      "valid set accuracy: 0.98046875\n",
      "fold 4:\n",
      "train set loss: 1.5069057069718839\n",
      "train set accuracy: 0.9351562857627869\n",
      "valid set Loss: 1.4749761402606965\n",
      "valid set accuracy: 0.9859375357627869\n",
      "fold 5:\n",
      "train set loss: 1.4993115104734898\n",
      "train set accuracy: 0.9486328363418579\n",
      "valid set Loss: 1.4752081841230393\n",
      "valid set accuracy: 0.983593761920929\n",
      "finish training\n"
     ]
    }
   ],
   "source": [
    "for i in range(15):\n",
    "    print(\"-------epoch  {} -------\".format(i + 1))\n",
    "    for j in range(k):\n",
    "        print(f'fold {j+1}:')\n",
    "        loss_train = 0\n",
    "        accuracy_train = 0\n",
    "        train_size = 0\n",
    "        for batch_idx, (data, target) in enumerate(dataloaders_train[j]):\n",
    "            model.train()\n",
    "            output = model(data)\n",
    "            loss = loss_function(output, target)\n",
    "            opt.zero_grad()\n",
    "            loss.backward()\n",
    "            opt.step()\n",
    "            loss_train += loss.item()*len(data)\n",
    "            accuracy = (output.argmax(1) == target).sum()\n",
    "            accuracy_train += accuracy\n",
    "            train_size += len(data)\n",
    "        print(\"train set loss: {}\".format(loss_train/train_size))\n",
    "        print(\"train set accuracy: {}\".format(accuracy_train /train_size))\n",
    "\n",
    "        loss_valid = 0\n",
    "        accuracy_valid = 0\n",
    "        valid_size = 0\n",
    "        for batch_idx, (data, target) in enumerate(dataloaders_valid[j]):\n",
    "            model.eval()\n",
    "            with torch.no_grad():\n",
    "                output = model(data)\n",
    "                loss = loss_function(output, target)\n",
    "                loss_valid += loss.item()*len(data)\n",
    "                accuracy = (output.argmax(1) == target).sum()\n",
    "                accuracy_valid += accuracy\n",
    "                valid_size += len(data)\n",
    "        print(\"valid set loss: {}\".format(loss_valid/valid_size))\n",
    "        print(\"valid set accuracy: {}\".format(accuracy_valid/valid_size))\n",
    "print(\"finish training\")"
   ],
   "metadata": {
    "collapsed": false,
    "ExecuteTime": {
     "end_time": "2024-03-20T20:47:34.153112Z",
     "start_time": "2024-03-20T20:24:18.939968Z"
    }
   },
   "id": "156ba58e4ff24277",
   "execution_count": 8
  },
  {
   "cell_type": "markdown",
   "source": [
    "# Test"
   ],
   "metadata": {
    "collapsed": false
   },
   "id": "9fd11d0b594c7140"
  },
  {
   "cell_type": "code",
   "outputs": [
    {
     "name": "stdout",
     "output_type": "stream",
     "text": [
      "test set loss: 1.6133132314682006\n",
      "test set accuracy: 0.8299999833106995\n",
      "test set AUC: 0.9529994130134583\n",
      "test set f1-score: 0.8299999833106995\n"
     ]
    }
   ],
   "source": [
    "loss_test = 0\n",
    "accuracy_test = 0\n",
    "AUC_test = 0\n",
    "f1_score_test = 0\n",
    "test_size = 0\n",
    "for batch_idx, (data, target) in enumerate(dataloader_test):\n",
    "    model.eval()\n",
    "    with torch.no_grad():\n",
    "        output = model(data)\n",
    "        loss = loss_function(output, target)\n",
    "        loss_test += loss.item()*len(data)\n",
    "        accuracy = (output.argmax(1) == target).sum()\n",
    "        accuracy_test += accuracy\n",
    "        test_size += len(data)\n",
    "        auc = MulticlassAUROC(num_classes=10)\n",
    "        auc.update(output, target)\n",
    "        AUC_test += auc.compute()*len(data)\n",
    "        f1 = MulticlassF1Score(num_classes=10)\n",
    "        f1.update(output,target)\n",
    "        f1_score_test += f1.compute()*len(data)        \n",
    "print(\"test set loss: {}\".format(loss_test/test_size))\n",
    "print(\"test set accuracy: {}\".format(accuracy_test/test_size))\n",
    "print(\"test set AUC: {}\".format(AUC_test/test_size))\n",
    "print(\"test set f1-score: {}\".format(f1_score_test/test_size))"
   ],
   "metadata": {
    "collapsed": false,
    "ExecuteTime": {
     "end_time": "2024-03-20T22:45:31.223051Z",
     "start_time": "2024-03-20T22:45:29.516398Z"
    }
   },
   "id": "f65311f27441f0d6",
   "execution_count": 13
  }
 ],
 "metadata": {
  "kernelspec": {
   "display_name": "Python 3",
   "language": "python",
   "name": "python3"
  },
  "language_info": {
   "codemirror_mode": {
    "name": "ipython",
    "version": 2
   },
   "file_extension": ".py",
   "mimetype": "text/x-python",
   "name": "python",
   "nbconvert_exporter": "python",
   "pygments_lexer": "ipython2",
   "version": "2.7.6"
  }
 },
 "nbformat": 4,
 "nbformat_minor": 5
}
