{
  "cells": [
    {
      "cell_type": "code",
      "execution_count": 1,
      "id": "initial_id",
      "metadata": {
        "collapsed": true,
        "ExecuteTime": {
          "end_time": "2024-03-20T20:23:56.892203Z",
          "start_time": "2024-03-20T20:23:53.617395Z"
        },
        "colab": {
          "base_uri": "https://localhost:8080/",
          "height": 94
        },
        "id": "initial_id",
        "outputId": "2ef6edde-3f45-4cf7-f09f-293ec1750a90"
      },
      "outputs": [
        {
          "output_type": "stream",
          "name": "stdout",
          "text": [
            "Mounted at /content/drive\n"
          ]
        },
        {
          "output_type": "display_data",
          "data": {
            "text/plain": [
              "<IPython.core.display.HTML object>"
            ],
            "text/html": [
              "\n",
              "     <input type=\"file\" id=\"files-dc7e001f-87c4-429e-b20d-f49529623341\" name=\"files[]\" multiple disabled\n",
              "        style=\"border:none\" />\n",
              "     <output id=\"result-dc7e001f-87c4-429e-b20d-f49529623341\">\n",
              "      Upload widget is only available when the cell has been executed in the\n",
              "      current browser session. Please rerun this cell to enable.\n",
              "      </output>\n",
              "      <script>// Copyright 2017 Google LLC\n",
              "//\n",
              "// Licensed under the Apache License, Version 2.0 (the \"License\");\n",
              "// you may not use this file except in compliance with the License.\n",
              "// You may obtain a copy of the License at\n",
              "//\n",
              "//      http://www.apache.org/licenses/LICENSE-2.0\n",
              "//\n",
              "// Unless required by applicable law or agreed to in writing, software\n",
              "// distributed under the License is distributed on an \"AS IS\" BASIS,\n",
              "// WITHOUT WARRANTIES OR CONDITIONS OF ANY KIND, either express or implied.\n",
              "// See the License for the specific language governing permissions and\n",
              "// limitations under the License.\n",
              "\n",
              "/**\n",
              " * @fileoverview Helpers for google.colab Python module.\n",
              " */\n",
              "(function(scope) {\n",
              "function span(text, styleAttributes = {}) {\n",
              "  const element = document.createElement('span');\n",
              "  element.textContent = text;\n",
              "  for (const key of Object.keys(styleAttributes)) {\n",
              "    element.style[key] = styleAttributes[key];\n",
              "  }\n",
              "  return element;\n",
              "}\n",
              "\n",
              "// Max number of bytes which will be uploaded at a time.\n",
              "const MAX_PAYLOAD_SIZE = 100 * 1024;\n",
              "\n",
              "function _uploadFiles(inputId, outputId) {\n",
              "  const steps = uploadFilesStep(inputId, outputId);\n",
              "  const outputElement = document.getElementById(outputId);\n",
              "  // Cache steps on the outputElement to make it available for the next call\n",
              "  // to uploadFilesContinue from Python.\n",
              "  outputElement.steps = steps;\n",
              "\n",
              "  return _uploadFilesContinue(outputId);\n",
              "}\n",
              "\n",
              "// This is roughly an async generator (not supported in the browser yet),\n",
              "// where there are multiple asynchronous steps and the Python side is going\n",
              "// to poll for completion of each step.\n",
              "// This uses a Promise to block the python side on completion of each step,\n",
              "// then passes the result of the previous step as the input to the next step.\n",
              "function _uploadFilesContinue(outputId) {\n",
              "  const outputElement = document.getElementById(outputId);\n",
              "  const steps = outputElement.steps;\n",
              "\n",
              "  const next = steps.next(outputElement.lastPromiseValue);\n",
              "  return Promise.resolve(next.value.promise).then((value) => {\n",
              "    // Cache the last promise value to make it available to the next\n",
              "    // step of the generator.\n",
              "    outputElement.lastPromiseValue = value;\n",
              "    return next.value.response;\n",
              "  });\n",
              "}\n",
              "\n",
              "/**\n",
              " * Generator function which is called between each async step of the upload\n",
              " * process.\n",
              " * @param {string} inputId Element ID of the input file picker element.\n",
              " * @param {string} outputId Element ID of the output display.\n",
              " * @return {!Iterable<!Object>} Iterable of next steps.\n",
              " */\n",
              "function* uploadFilesStep(inputId, outputId) {\n",
              "  const inputElement = document.getElementById(inputId);\n",
              "  inputElement.disabled = false;\n",
              "\n",
              "  const outputElement = document.getElementById(outputId);\n",
              "  outputElement.innerHTML = '';\n",
              "\n",
              "  const pickedPromise = new Promise((resolve) => {\n",
              "    inputElement.addEventListener('change', (e) => {\n",
              "      resolve(e.target.files);\n",
              "    });\n",
              "  });\n",
              "\n",
              "  const cancel = document.createElement('button');\n",
              "  inputElement.parentElement.appendChild(cancel);\n",
              "  cancel.textContent = 'Cancel upload';\n",
              "  const cancelPromise = new Promise((resolve) => {\n",
              "    cancel.onclick = () => {\n",
              "      resolve(null);\n",
              "    };\n",
              "  });\n",
              "\n",
              "  // Wait for the user to pick the files.\n",
              "  const files = yield {\n",
              "    promise: Promise.race([pickedPromise, cancelPromise]),\n",
              "    response: {\n",
              "      action: 'starting',\n",
              "    }\n",
              "  };\n",
              "\n",
              "  cancel.remove();\n",
              "\n",
              "  // Disable the input element since further picks are not allowed.\n",
              "  inputElement.disabled = true;\n",
              "\n",
              "  if (!files) {\n",
              "    return {\n",
              "      response: {\n",
              "        action: 'complete',\n",
              "      }\n",
              "    };\n",
              "  }\n",
              "\n",
              "  for (const file of files) {\n",
              "    const li = document.createElement('li');\n",
              "    li.append(span(file.name, {fontWeight: 'bold'}));\n",
              "    li.append(span(\n",
              "        `(${file.type || 'n/a'}) - ${file.size} bytes, ` +\n",
              "        `last modified: ${\n",
              "            file.lastModifiedDate ? file.lastModifiedDate.toLocaleDateString() :\n",
              "                                    'n/a'} - `));\n",
              "    const percent = span('0% done');\n",
              "    li.appendChild(percent);\n",
              "\n",
              "    outputElement.appendChild(li);\n",
              "\n",
              "    const fileDataPromise = new Promise((resolve) => {\n",
              "      const reader = new FileReader();\n",
              "      reader.onload = (e) => {\n",
              "        resolve(e.target.result);\n",
              "      };\n",
              "      reader.readAsArrayBuffer(file);\n",
              "    });\n",
              "    // Wait for the data to be ready.\n",
              "    let fileData = yield {\n",
              "      promise: fileDataPromise,\n",
              "      response: {\n",
              "        action: 'continue',\n",
              "      }\n",
              "    };\n",
              "\n",
              "    // Use a chunked sending to avoid message size limits. See b/62115660.\n",
              "    let position = 0;\n",
              "    do {\n",
              "      const length = Math.min(fileData.byteLength - position, MAX_PAYLOAD_SIZE);\n",
              "      const chunk = new Uint8Array(fileData, position, length);\n",
              "      position += length;\n",
              "\n",
              "      const base64 = btoa(String.fromCharCode.apply(null, chunk));\n",
              "      yield {\n",
              "        response: {\n",
              "          action: 'append',\n",
              "          file: file.name,\n",
              "          data: base64,\n",
              "        },\n",
              "      };\n",
              "\n",
              "      let percentDone = fileData.byteLength === 0 ?\n",
              "          100 :\n",
              "          Math.round((position / fileData.byteLength) * 100);\n",
              "      percent.textContent = `${percentDone}% done`;\n",
              "\n",
              "    } while (position < fileData.byteLength);\n",
              "  }\n",
              "\n",
              "  // All done.\n",
              "  yield {\n",
              "    response: {\n",
              "      action: 'complete',\n",
              "    }\n",
              "  };\n",
              "}\n",
              "\n",
              "scope.google = scope.google || {};\n",
              "scope.google.colab = scope.google.colab || {};\n",
              "scope.google.colab._files = {\n",
              "  _uploadFiles,\n",
              "  _uploadFilesContinue,\n",
              "};\n",
              "})(self);\n",
              "</script> "
            ]
          },
          "metadata": {}
        },
        {
          "output_type": "stream",
          "name": "stdout",
          "text": [
            "Saving supports.zip to supports.zip\n"
          ]
        }
      ],
      "source": [
        "# please upload data directory to Google drive before testing\n",
        "# use Google Drive to load data\n",
        "from google.colab import drive, files\n",
        "import zipfile\n",
        "drive.mount('/content/drive')\n",
        "\n",
        "zipname = 'supports.zip'\n",
        "uploaded = files.upload()\n",
        "# Extract the zip file\n",
        "with zipfile.ZipFile(zipname, 'r') as zip_ref:\n",
        "  zip_ref.extractall()  # Extract all files to the current directory"
      ]
    },
    {
      "cell_type": "code",
      "source": [
        "!pip install -r \"requirements.txt\"\n",
        "!pip install torchinfo\n",
        "!pip install torcheval"
      ],
      "metadata": {
        "colab": {
          "base_uri": "https://localhost:8080/"
        },
        "id": "8gN4POoKwe1N",
        "outputId": "678fe6c3-7e3b-4d10-aa97-370ef8a12d8f"
      },
      "id": "8gN4POoKwe1N",
      "execution_count": 2,
      "outputs": [
        {
          "output_type": "stream",
          "name": "stdout",
          "text": [
            "Collecting anyio==4.3.0 (from -r requirements.txt (line 1))\n",
            "  Downloading anyio-4.3.0-py3-none-any.whl (85 kB)\n",
            "\u001b[?25l     \u001b[90m━━━━━━━━━━━━━━━━━━━━━━━━━━━━━━━━━━━━━━━━\u001b[0m \u001b[32m0.0/85.6 kB\u001b[0m \u001b[31m?\u001b[0m eta \u001b[36m-:--:--\u001b[0m\r\u001b[2K     \u001b[90m━━━━━━━━━━━━━━━━━━━━━━━━━━━━━━━━━━━━━━━━\u001b[0m \u001b[32m85.6/85.6 kB\u001b[0m \u001b[31m2.4 MB/s\u001b[0m eta \u001b[36m0:00:00\u001b[0m\n",
            "\u001b[?25hRequirement already satisfied: argon2-cffi==23.1.0 in /usr/local/lib/python3.10/dist-packages (from -r requirements.txt (line 2)) (23.1.0)\n",
            "Requirement already satisfied: argon2-cffi-bindings==21.2.0 in /usr/local/lib/python3.10/dist-packages (from -r requirements.txt (line 3)) (21.2.0)\n",
            "Collecting arrow==1.3.0 (from -r requirements.txt (line 4))\n",
            "  Downloading arrow-1.3.0-py3-none-any.whl (66 kB)\n",
            "\u001b[2K     \u001b[90m━━━━━━━━━━━━━━━━━━━━━━━━━━━━━━━━━━━━━━━━\u001b[0m \u001b[32m66.4/66.4 kB\u001b[0m \u001b[31m6.7 MB/s\u001b[0m eta \u001b[36m0:00:00\u001b[0m\n",
            "\u001b[?25hCollecting asttokens==2.4.1 (from -r requirements.txt (line 5))\n",
            "  Downloading asttokens-2.4.1-py2.py3-none-any.whl (27 kB)\n",
            "Collecting async-lru==2.0.4 (from -r requirements.txt (line 6))\n",
            "  Downloading async_lru-2.0.4-py3-none-any.whl (6.1 kB)\n",
            "Requirement already satisfied: attrs==23.2.0 in /usr/local/lib/python3.10/dist-packages (from -r requirements.txt (line 7)) (23.2.0)\n",
            "Requirement already satisfied: audioread==3.0.1 in /usr/local/lib/python3.10/dist-packages (from -r requirements.txt (line 8)) (3.0.1)\n",
            "Requirement already satisfied: Babel==2.14.0 in /usr/local/lib/python3.10/dist-packages (from -r requirements.txt (line 9)) (2.14.0)\n",
            "Requirement already satisfied: beautifulsoup4==4.12.3 in /usr/local/lib/python3.10/dist-packages (from -r requirements.txt (line 10)) (4.12.3)\n",
            "Requirement already satisfied: bleach==6.1.0 in /usr/local/lib/python3.10/dist-packages (from -r requirements.txt (line 11)) (6.1.0)\n",
            "Requirement already satisfied: certifi==2024.2.2 in /usr/local/lib/python3.10/dist-packages (from -r requirements.txt (line 12)) (2024.2.2)\n",
            "Requirement already satisfied: cffi==1.16.0 in /usr/local/lib/python3.10/dist-packages (from -r requirements.txt (line 13)) (1.16.0)\n",
            "Requirement already satisfied: charset-normalizer==3.3.2 in /usr/local/lib/python3.10/dist-packages (from -r requirements.txt (line 14)) (3.3.2)\n",
            "Collecting colorama==0.4.6 (from -r requirements.txt (line 15))\n",
            "  Downloading colorama-0.4.6-py2.py3-none-any.whl (25 kB)\n",
            "Collecting comm==0.2.2 (from -r requirements.txt (line 16))\n",
            "  Downloading comm-0.2.2-py3-none-any.whl (7.2 kB)\n",
            "Requirement already satisfied: contourpy==1.2.0 in /usr/local/lib/python3.10/dist-packages (from -r requirements.txt (line 17)) (1.2.0)\n",
            "Requirement already satisfied: cycler==0.12.1 in /usr/local/lib/python3.10/dist-packages (from -r requirements.txt (line 18)) (0.12.1)\n",
            "Collecting debugpy==1.8.1 (from -r requirements.txt (line 19))\n",
            "  Downloading debugpy-1.8.1-cp310-cp310-manylinux_2_17_x86_64.manylinux2014_x86_64.whl (3.0 MB)\n",
            "\u001b[2K     \u001b[90m━━━━━━━━━━━━━━━━━━━━━━━━━━━━━━━━━━━━━━━━\u001b[0m \u001b[32m3.0/3.0 MB\u001b[0m \u001b[31m14.9 MB/s\u001b[0m eta \u001b[36m0:00:00\u001b[0m\n",
            "\u001b[?25hCollecting decorator==5.1.1 (from -r requirements.txt (line 20))\n",
            "  Downloading decorator-5.1.1-py3-none-any.whl (9.1 kB)\n",
            "Requirement already satisfied: defusedxml==0.7.1 in /usr/local/lib/python3.10/dist-packages (from -r requirements.txt (line 21)) (0.7.1)\n",
            "Requirement already satisfied: exceptiongroup==1.2.0 in /usr/local/lib/python3.10/dist-packages (from -r requirements.txt (line 22)) (1.2.0)\n",
            "Collecting executing==2.0.1 (from -r requirements.txt (line 23))\n",
            "  Downloading executing-2.0.1-py2.py3-none-any.whl (24 kB)\n",
            "Requirement already satisfied: fastjsonschema==2.19.1 in /usr/local/lib/python3.10/dist-packages (from -r requirements.txt (line 24)) (2.19.1)\n",
            "Collecting filelock==3.9.0 (from -r requirements.txt (line 25))\n",
            "  Downloading filelock-3.9.0-py3-none-any.whl (9.7 kB)\n",
            "Requirement already satisfied: fonttools==4.50.0 in /usr/local/lib/python3.10/dist-packages (from -r requirements.txt (line 26)) (4.50.0)\n",
            "Collecting fqdn==1.5.1 (from -r requirements.txt (line 27))\n",
            "  Downloading fqdn-1.5.1-py3-none-any.whl (9.1 kB)\n",
            "Collecting fsspec==2024.3.0 (from -r requirements.txt (line 28))\n",
            "  Downloading fsspec-2024.3.0-py3-none-any.whl (171 kB)\n",
            "\u001b[2K     \u001b[90m━━━━━━━━━━━━━━━━━━━━━━━━━━━━━━━━━━━━━━━━\u001b[0m \u001b[32m171.9/171.9 kB\u001b[0m \u001b[31m22.4 MB/s\u001b[0m eta \u001b[36m0:00:00\u001b[0m\n",
            "\u001b[?25hCollecting h11==0.14.0 (from -r requirements.txt (line 29))\n",
            "  Downloading h11-0.14.0-py3-none-any.whl (58 kB)\n",
            "\u001b[2K     \u001b[90m━━━━━━━━━━━━━━━━━━━━━━━━━━━━━━━━━━━━━━━━\u001b[0m \u001b[32m58.3/58.3 kB\u001b[0m \u001b[31m8.7 MB/s\u001b[0m eta \u001b[36m0:00:00\u001b[0m\n",
            "\u001b[?25hCollecting httpcore==1.0.4 (from -r requirements.txt (line 30))\n",
            "  Downloading httpcore-1.0.4-py3-none-any.whl (77 kB)\n",
            "\u001b[2K     \u001b[90m━━━━━━━━━━━━━━━━━━━━━━━━━━━━━━━━━━━━━━━━\u001b[0m \u001b[32m77.8/77.8 kB\u001b[0m \u001b[31m12.0 MB/s\u001b[0m eta \u001b[36m0:00:00\u001b[0m\n",
            "\u001b[?25hCollecting httpx==0.27.0 (from -r requirements.txt (line 31))\n",
            "  Downloading httpx-0.27.0-py3-none-any.whl (75 kB)\n",
            "\u001b[2K     \u001b[90m━━━━━━━━━━━━━━━━━━━━━━━━━━━━━━━━━━━━━━━━\u001b[0m \u001b[32m75.6/75.6 kB\u001b[0m \u001b[31m11.4 MB/s\u001b[0m eta \u001b[36m0:00:00\u001b[0m\n",
            "\u001b[?25hCollecting huggingface-hub==0.21.4 (from -r requirements.txt (line 32))\n",
            "  Downloading huggingface_hub-0.21.4-py3-none-any.whl (346 kB)\n",
            "\u001b[2K     \u001b[90m━━━━━━━━━━━━━━━━━━━━━━━━━━━━━━━━━━━━━━━━\u001b[0m \u001b[32m346.4/346.4 kB\u001b[0m \u001b[31m20.6 MB/s\u001b[0m eta \u001b[36m0:00:00\u001b[0m\n",
            "\u001b[?25hRequirement already satisfied: idna==3.6 in /usr/local/lib/python3.10/dist-packages (from -r requirements.txt (line 33)) (3.6)\n",
            "Collecting ipykernel==6.29.3 (from -r requirements.txt (line 34))\n",
            "  Downloading ipykernel-6.29.3-py3-none-any.whl (117 kB)\n",
            "\u001b[2K     \u001b[90m━━━━━━━━━━━━━━━━━━━━━━━━━━━━━━━━━━━━━━━━\u001b[0m \u001b[32m117.1/117.1 kB\u001b[0m \u001b[31m16.9 MB/s\u001b[0m eta \u001b[36m0:00:00\u001b[0m\n",
            "\u001b[?25hCollecting ipython==8.22.2 (from -r requirements.txt (line 35))\n",
            "  Downloading ipython-8.22.2-py3-none-any.whl (811 kB)\n",
            "\u001b[2K     \u001b[90m━━━━━━━━━━━━━━━━━━━━━━━━━━━━━━━━━━━━━━━━\u001b[0m \u001b[32m812.0/812.0 kB\u001b[0m \u001b[31m25.4 MB/s\u001b[0m eta \u001b[36m0:00:00\u001b[0m\n",
            "\u001b[?25hCollecting ipywidgets==8.1.2 (from -r requirements.txt (line 36))\n",
            "  Downloading ipywidgets-8.1.2-py3-none-any.whl (139 kB)\n",
            "\u001b[2K     \u001b[90m━━━━━━━━━━━━━━━━━━━━━━━━━━━━━━━━━━━━━━━━\u001b[0m \u001b[32m139.4/139.4 kB\u001b[0m \u001b[31m19.9 MB/s\u001b[0m eta \u001b[36m0:00:00\u001b[0m\n",
            "\u001b[?25hCollecting isoduration==20.11.0 (from -r requirements.txt (line 37))\n",
            "  Downloading isoduration-20.11.0-py3-none-any.whl (11 kB)\n",
            "Collecting jedi==0.19.1 (from -r requirements.txt (line 38))\n",
            "  Downloading jedi-0.19.1-py2.py3-none-any.whl (1.6 MB)\n",
            "\u001b[2K     \u001b[90m━━━━━━━━━━━━━━━━━━━━━━━━━━━━━━━━━━━━━━━━\u001b[0m \u001b[32m1.6/1.6 MB\u001b[0m \u001b[31m33.6 MB/s\u001b[0m eta \u001b[36m0:00:00\u001b[0m\n",
            "\u001b[?25hRequirement already satisfied: Jinja2==3.1.3 in /usr/local/lib/python3.10/dist-packages (from -r requirements.txt (line 39)) (3.1.3)\n",
            "Requirement already satisfied: joblib==1.3.2 in /usr/local/lib/python3.10/dist-packages (from -r requirements.txt (line 40)) (1.3.2)\n",
            "Collecting json5==0.9.24 (from -r requirements.txt (line 41))\n",
            "  Downloading json5-0.9.24-py3-none-any.whl (30 kB)\n",
            "Collecting jsonpointer==2.4 (from -r requirements.txt (line 42))\n",
            "  Downloading jsonpointer-2.4-py2.py3-none-any.whl (7.8 kB)\n",
            "Collecting jsonschema==4.21.1 (from -r requirements.txt (line 43))\n",
            "  Downloading jsonschema-4.21.1-py3-none-any.whl (85 kB)\n",
            "\u001b[2K     \u001b[90m━━━━━━━━━━━━━━━━━━━━━━━━━━━━━━━━━━━━━━━━\u001b[0m \u001b[32m85.5/85.5 kB\u001b[0m \u001b[31m13.6 MB/s\u001b[0m eta \u001b[36m0:00:00\u001b[0m\n",
            "\u001b[?25hRequirement already satisfied: jsonschema-specifications==2023.12.1 in /usr/local/lib/python3.10/dist-packages (from -r requirements.txt (line 44)) (2023.12.1)\n",
            "Collecting jupyter==1.0.0 (from -r requirements.txt (line 45))\n",
            "  Downloading jupyter-1.0.0-py2.py3-none-any.whl (2.7 kB)\n",
            "Collecting jupyter-console==6.6.3 (from -r requirements.txt (line 46))\n",
            "  Downloading jupyter_console-6.6.3-py3-none-any.whl (24 kB)\n",
            "Collecting jupyter-events==0.9.1 (from -r requirements.txt (line 47))\n",
            "  Downloading jupyter_events-0.9.1-py3-none-any.whl (18 kB)\n",
            "Collecting jupyter-lsp==2.2.4 (from -r requirements.txt (line 48))\n",
            "  Downloading jupyter_lsp-2.2.4-py3-none-any.whl (69 kB)\n",
            "\u001b[2K     \u001b[90m━━━━━━━━━━━━━━━━━━━━━━━━━━━━━━━━━━━━━━━━\u001b[0m \u001b[32m69.1/69.1 kB\u001b[0m \u001b[31m10.1 MB/s\u001b[0m eta \u001b[36m0:00:00\u001b[0m\n",
            "\u001b[?25hCollecting jupyter_client==8.6.1 (from -r requirements.txt (line 49))\n",
            "  Downloading jupyter_client-8.6.1-py3-none-any.whl (105 kB)\n",
            "\u001b[2K     \u001b[90m━━━━━━━━━━━━━━━━━━━━━━━━━━━━━━━━━━━━━━━━\u001b[0m \u001b[32m105.9/105.9 kB\u001b[0m \u001b[31m15.8 MB/s\u001b[0m eta \u001b[36m0:00:00\u001b[0m\n",
            "\u001b[?25hRequirement already satisfied: jupyter_core==5.7.2 in /usr/local/lib/python3.10/dist-packages (from -r requirements.txt (line 50)) (5.7.2)\n",
            "Collecting jupyter_server==2.13.0 (from -r requirements.txt (line 51))\n",
            "  Downloading jupyter_server-2.13.0-py3-none-any.whl (383 kB)\n",
            "\u001b[2K     \u001b[90m━━━━━━━━━━━━━━━━━━━━━━━━━━━━━━━━━━━━━━━━\u001b[0m \u001b[32m383.2/383.2 kB\u001b[0m \u001b[31m28.4 MB/s\u001b[0m eta \u001b[36m0:00:00\u001b[0m\n",
            "\u001b[?25hCollecting jupyter_server_terminals==0.5.3 (from -r requirements.txt (line 52))\n",
            "  Downloading jupyter_server_terminals-0.5.3-py3-none-any.whl (13 kB)\n",
            "Collecting jupyterlab==4.1.5 (from -r requirements.txt (line 53))\n",
            "  Downloading jupyterlab-4.1.5-py3-none-any.whl (11.4 MB)\n",
            "\u001b[2K     \u001b[90m━━━━━━━━━━━━━━━━━━━━━━━━━━━━━━━━━━━━━━━━\u001b[0m \u001b[32m11.4/11.4 MB\u001b[0m \u001b[31m58.8 MB/s\u001b[0m eta \u001b[36m0:00:00\u001b[0m\n",
            "\u001b[?25hRequirement already satisfied: jupyterlab_pygments==0.3.0 in /usr/local/lib/python3.10/dist-packages (from -r requirements.txt (line 54)) (0.3.0)\n",
            "Collecting jupyterlab_server==2.25.4 (from -r requirements.txt (line 55))\n",
            "  Downloading jupyterlab_server-2.25.4-py3-none-any.whl (58 kB)\n",
            "\u001b[2K     \u001b[90m━━━━━━━━━━━━━━━━━━━━━━━━━━━━━━━━━━━━━━━━\u001b[0m \u001b[32m59.0/59.0 kB\u001b[0m \u001b[31m9.3 MB/s\u001b[0m eta \u001b[36m0:00:00\u001b[0m\n",
            "\u001b[?25hRequirement already satisfied: jupyterlab_widgets==3.0.10 in /usr/local/lib/python3.10/dist-packages (from -r requirements.txt (line 56)) (3.0.10)\n",
            "Requirement already satisfied: kiwisolver==1.4.5 in /usr/local/lib/python3.10/dist-packages (from -r requirements.txt (line 57)) (1.4.5)\n",
            "Requirement already satisfied: lazy_loader==0.3 in /usr/local/lib/python3.10/dist-packages (from -r requirements.txt (line 58)) (0.3)\n",
            "Requirement already satisfied: librosa==0.10.1 in /usr/local/lib/python3.10/dist-packages (from -r requirements.txt (line 59)) (0.10.1)\n",
            "Collecting llvmlite==0.42.0 (from -r requirements.txt (line 60))\n",
            "  Downloading llvmlite-0.42.0-cp310-cp310-manylinux_2_17_x86_64.manylinux2014_x86_64.whl (43.8 MB)\n",
            "\u001b[2K     \u001b[90m━━━━━━━━━━━━━━━━━━━━━━━━━━━━━━━━━━━━━━━━\u001b[0m \u001b[32m43.8/43.8 MB\u001b[0m \u001b[31m23.8 MB/s\u001b[0m eta \u001b[36m0:00:00\u001b[0m\n",
            "\u001b[?25hRequirement already satisfied: MarkupSafe==2.1.5 in /usr/local/lib/python3.10/dist-packages (from -r requirements.txt (line 61)) (2.1.5)\n",
            "Collecting matplotlib==3.8.3 (from -r requirements.txt (line 62))\n",
            "  Downloading matplotlib-3.8.3-cp310-cp310-manylinux_2_17_x86_64.manylinux2014_x86_64.whl (11.6 MB)\n",
            "\u001b[2K     \u001b[90m━━━━━━━━━━━━━━━━━━━━━━━━━━━━━━━━━━━━━━━━\u001b[0m \u001b[32m11.6/11.6 MB\u001b[0m \u001b[31m99.3 MB/s\u001b[0m eta \u001b[36m0:00:00\u001b[0m\n",
            "\u001b[?25hRequirement already satisfied: matplotlib-inline==0.1.6 in /usr/local/lib/python3.10/dist-packages (from -r requirements.txt (line 63)) (0.1.6)\n",
            "Collecting mistune==3.0.2 (from -r requirements.txt (line 64))\n",
            "  Downloading mistune-3.0.2-py3-none-any.whl (47 kB)\n",
            "\u001b[2K     \u001b[90m━━━━━━━━━━━━━━━━━━━━━━━━━━━━━━━━━━━━━━━━\u001b[0m \u001b[32m48.0/48.0 kB\u001b[0m \u001b[31m6.4 MB/s\u001b[0m eta \u001b[36m0:00:00\u001b[0m\n",
            "\u001b[?25hRequirement already satisfied: mpmath==1.3.0 in /usr/local/lib/python3.10/dist-packages (from -r requirements.txt (line 65)) (1.3.0)\n",
            "Requirement already satisfied: msgpack==1.0.8 in /usr/local/lib/python3.10/dist-packages (from -r requirements.txt (line 66)) (1.0.8)\n",
            "Requirement already satisfied: nbclient==0.10.0 in /usr/local/lib/python3.10/dist-packages (from -r requirements.txt (line 67)) (0.10.0)\n",
            "Collecting nbconvert==7.16.2 (from -r requirements.txt (line 68))\n",
            "  Downloading nbconvert-7.16.2-py3-none-any.whl (257 kB)\n",
            "\u001b[2K     \u001b[90m━━━━━━━━━━━━━━━━━━━━━━━━━━━━━━━━━━━━━━━━\u001b[0m \u001b[32m257.3/257.3 kB\u001b[0m \u001b[31m32.9 MB/s\u001b[0m eta \u001b[36m0:00:00\u001b[0m\n",
            "\u001b[?25hRequirement already satisfied: nbformat==5.10.3 in /usr/local/lib/python3.10/dist-packages (from -r requirements.txt (line 69)) (5.10.3)\n",
            "Requirement already satisfied: nest-asyncio==1.6.0 in /usr/local/lib/python3.10/dist-packages (from -r requirements.txt (line 70)) (1.6.0)\n",
            "Requirement already satisfied: networkx==3.2.1 in /usr/local/lib/python3.10/dist-packages (from -r requirements.txt (line 71)) (3.2.1)\n",
            "Collecting notebook==7.1.2 (from -r requirements.txt (line 72))\n",
            "  Downloading notebook-7.1.2-py3-none-any.whl (5.0 MB)\n",
            "\u001b[2K     \u001b[90m━━━━━━━━━━━━━━━━━━━━━━━━━━━━━━━━━━━━━━━━\u001b[0m \u001b[32m5.0/5.0 MB\u001b[0m \u001b[31m105.1 MB/s\u001b[0m eta \u001b[36m0:00:00\u001b[0m\n",
            "\u001b[?25hRequirement already satisfied: notebook_shim==0.2.4 in /usr/local/lib/python3.10/dist-packages (from -r requirements.txt (line 73)) (0.2.4)\n",
            "Collecting numba==0.59.0 (from -r requirements.txt (line 74))\n",
            "  Downloading numba-0.59.0-cp310-cp310-manylinux2014_x86_64.manylinux_2_17_x86_64.whl (3.7 MB)\n",
            "\u001b[2K     \u001b[90m━━━━━━━━━━━━━━━━━━━━━━━━━━━━━━━━━━━━━━━━\u001b[0m \u001b[32m3.7/3.7 MB\u001b[0m \u001b[31m101.3 MB/s\u001b[0m eta \u001b[36m0:00:00\u001b[0m\n",
            "\u001b[?25hCollecting numpy==1.26.4 (from -r requirements.txt (line 75))\n",
            "  Downloading numpy-1.26.4-cp310-cp310-manylinux_2_17_x86_64.manylinux2014_x86_64.whl (18.2 MB)\n",
            "\u001b[2K     \u001b[90m━━━━━━━━━━━━━━━━━━━━━━━━━━━━━━━━━━━━━━━━\u001b[0m \u001b[32m18.2/18.2 MB\u001b[0m \u001b[31m48.9 MB/s\u001b[0m eta \u001b[36m0:00:00\u001b[0m\n",
            "\u001b[?25hCollecting overrides==7.7.0 (from -r requirements.txt (line 76))\n",
            "  Downloading overrides-7.7.0-py3-none-any.whl (17 kB)\n",
            "Requirement already satisfied: packaging==24.0 in /usr/local/lib/python3.10/dist-packages (from -r requirements.txt (line 77)) (24.0)\n",
            "Requirement already satisfied: pandocfilters==1.5.1 in /usr/local/lib/python3.10/dist-packages (from -r requirements.txt (line 78)) (1.5.1)\n",
            "Requirement already satisfied: parso==0.8.3 in /usr/local/lib/python3.10/dist-packages (from -r requirements.txt (line 79)) (0.8.3)\n",
            "Collecting pillow==10.2.0 (from -r requirements.txt (line 80))\n",
            "  Downloading pillow-10.2.0-cp310-cp310-manylinux_2_28_x86_64.whl (4.5 MB)\n",
            "\u001b[2K     \u001b[90m━━━━━━━━━━━━━━━━━━━━━━━━━━━━━━━━━━━━━━━━\u001b[0m \u001b[32m4.5/4.5 MB\u001b[0m \u001b[31m107.0 MB/s\u001b[0m eta \u001b[36m0:00:00\u001b[0m\n",
            "\u001b[?25hRequirement already satisfied: platformdirs==4.2.0 in /usr/local/lib/python3.10/dist-packages (from -r requirements.txt (line 81)) (4.2.0)\n",
            "Requirement already satisfied: pooch==1.8.1 in /usr/local/lib/python3.10/dist-packages (from -r requirements.txt (line 82)) (1.8.1)\n",
            "Requirement already satisfied: prometheus_client==0.20.0 in /usr/local/lib/python3.10/dist-packages (from -r requirements.txt (line 83)) (0.20.0)\n",
            "Requirement already satisfied: prompt-toolkit==3.0.43 in /usr/local/lib/python3.10/dist-packages (from -r requirements.txt (line 84)) (3.0.43)\n",
            "Collecting psutil==5.9.8 (from -r requirements.txt (line 85))\n",
            "  Downloading psutil-5.9.8-cp36-abi3-manylinux_2_12_x86_64.manylinux2010_x86_64.manylinux_2_17_x86_64.manylinux2014_x86_64.whl (288 kB)\n",
            "\u001b[2K     \u001b[90m━━━━━━━━━━━━━━━━━━━━━━━━━━━━━━━━━━━━━━━━\u001b[0m \u001b[32m288.2/288.2 kB\u001b[0m \u001b[31m35.7 MB/s\u001b[0m eta \u001b[36m0:00:00\u001b[0m\n",
            "\u001b[?25hCollecting pure-eval==0.2.2 (from -r requirements.txt (line 86))\n",
            "  Downloading pure_eval-0.2.2-py3-none-any.whl (11 kB)\n",
            "Collecting pycparser==2.21 (from -r requirements.txt (line 87))\n",
            "  Downloading pycparser-2.21-py2.py3-none-any.whl (118 kB)\n",
            "\u001b[2K     \u001b[90m━━━━━━━━━━━━━━━━━━━━━━━━━━━━━━━━━━━━━━━━\u001b[0m \u001b[32m118.7/118.7 kB\u001b[0m \u001b[31m18.2 MB/s\u001b[0m eta \u001b[36m0:00:00\u001b[0m\n",
            "\u001b[?25hCollecting Pygments==2.17.2 (from -r requirements.txt (line 88))\n",
            "  Downloading pygments-2.17.2-py3-none-any.whl (1.2 MB)\n",
            "\u001b[2K     \u001b[90m━━━━━━━━━━━━━━━━━━━━━━━━━━━━━━━━━━━━━━━━\u001b[0m \u001b[32m1.2/1.2 MB\u001b[0m \u001b[31m76.3 MB/s\u001b[0m eta \u001b[36m0:00:00\u001b[0m\n",
            "\u001b[?25hRequirement already satisfied: pyparsing==3.1.2 in /usr/local/lib/python3.10/dist-packages (from -r requirements.txt (line 89)) (3.1.2)\n",
            "Collecting python-dateutil==2.9.0.post0 (from -r requirements.txt (line 90))\n",
            "  Downloading python_dateutil-2.9.0.post0-py2.py3-none-any.whl (229 kB)\n",
            "\u001b[2K     \u001b[90m━━━━━━━━━━━━━━━━━━━━━━━━━━━━━━━━━━━━━━━━\u001b[0m \u001b[32m229.9/229.9 kB\u001b[0m \u001b[31m28.1 MB/s\u001b[0m eta \u001b[36m0:00:00\u001b[0m\n",
            "\u001b[?25hCollecting python-json-logger==2.0.7 (from -r requirements.txt (line 91))\n",
            "  Downloading python_json_logger-2.0.7-py3-none-any.whl (8.1 kB)\n",
            "\u001b[31mERROR: Ignored the following versions that require a different python version: 0.36.0 Requires-Python >=3.6,<3.10; 0.37.0 Requires-Python >=3.7,<3.10; 0.52.0 Requires-Python >=3.6,<3.9; 0.52.0rc3 Requires-Python >=3.6,<3.9; 0.53.0 Requires-Python >=3.6,<3.10; 0.53.0rc1.post1 Requires-Python >=3.6,<3.10; 0.53.0rc2 Requires-Python >=3.6,<3.10; 0.53.0rc3 Requires-Python >=3.6,<3.10; 0.53.1 Requires-Python >=3.6,<3.10; 0.54.0 Requires-Python >=3.7,<3.10; 0.54.0rc2 Requires-Python >=3.7,<3.10; 0.54.0rc3 Requires-Python >=3.7,<3.10; 0.54.1 Requires-Python >=3.7,<3.10\u001b[0m\u001b[31m\n",
            "\u001b[0m\u001b[31mERROR: Could not find a version that satisfies the requirement pywin32==306 (from versions: none)\u001b[0m\u001b[31m\n",
            "\u001b[0m\u001b[31mERROR: No matching distribution found for pywin32==306\u001b[0m\u001b[31m\n",
            "\u001b[0mCollecting torchinfo\n",
            "  Downloading torchinfo-1.8.0-py3-none-any.whl (23 kB)\n",
            "Installing collected packages: torchinfo\n",
            "Successfully installed torchinfo-1.8.0\n",
            "Collecting torcheval\n",
            "  Downloading torcheval-0.0.7-py3-none-any.whl (179 kB)\n",
            "\u001b[2K     \u001b[90m━━━━━━━━━━━━━━━━━━━━━━━━━━━━━━━━━━━━━━━━\u001b[0m \u001b[32m179.2/179.2 kB\u001b[0m \u001b[31m5.4 MB/s\u001b[0m eta \u001b[36m0:00:00\u001b[0m\n",
            "\u001b[?25hRequirement already satisfied: typing-extensions in /usr/local/lib/python3.10/dist-packages (from torcheval) (4.10.0)\n",
            "Installing collected packages: torcheval\n",
            "Successfully installed torcheval-0.0.7\n"
          ]
        }
      ]
    },
    {
      "cell_type": "code",
      "source": [
        "from sklearn.model_selection import train_test_split\n",
        "from models.DCNN import DCNN\n",
        "import librosa\n",
        "import numpy as np\n",
        "from torchinfo import summary\n",
        "from torch import nn\n",
        "from torch.optim import Adam\n",
        "from Utils import read_data,create_dataloader, k_fold_cross_validation, train, test\n",
        "import matplotlib.pyplot as plt"
      ],
      "metadata": {
        "id": "MVNZuy_jxqbz"
      },
      "id": "MVNZuy_jxqbz",
      "execution_count": 3,
      "outputs": []
    },
    {
      "cell_type": "markdown",
      "source": [
        "# Read Data"
      ],
      "metadata": {
        "collapsed": false,
        "id": "51a5db70937b662"
      },
      "id": "51a5db70937b662"
    },
    {
      "cell_type": "code",
      "outputs": [
        {
          "output_type": "stream",
          "name": "stdout",
          "text": [
            "finsh reading data\n"
          ]
        }
      ],
      "source": [
        "root = '/content/drive/MyDrive/Data/genres_original' # Change according path storing data\n",
        "sr = 16 * 1000\n",
        "x,y,min_length = read_data(root=root, sr=sr)\n",
        "print(\"finsh reading data\")"
      ],
      "metadata": {
        "ExecuteTime": {
          "end_time": "2024-03-20T20:24:06.734363Z",
          "start_time": "2024-03-20T20:23:57.431242Z"
        },
        "id": "688fcddfa5166508",
        "colab": {
          "base_uri": "https://localhost:8080/"
        },
        "outputId": "94e37e08-e515-4645-fb0c-3c754335a16e"
      },
      "id": "688fcddfa5166508",
      "execution_count": 4
    },
    {
      "cell_type": "markdown",
      "source": [
        "# Segment and Normalise"
      ],
      "metadata": {
        "collapsed": false,
        "id": "cb9b1d09933e8c"
      },
      "id": "cb9b1d09933e8c"
    },
    {
      "cell_type": "code",
      "outputs": [
        {
          "output_type": "stream",
          "name": "stdout",
          "text": [
            "finish segmentation and normalisation\n"
          ]
        }
      ],
      "source": [
        "for i in range(len(x)):\n",
        "    x[i] = x[i][0:min_length]\n",
        "    x[i] = librosa.util.normalize(x[i])\n",
        "x = np.asarray(x)\n",
        "y = np.asarray(y)\n",
        "seg_length = 59049 # segment length must be 59049\n",
        "frame_num = int(x.shape[1]/seg_length)\n",
        "x = x[:, :frame_num*seg_length].reshape(frame_num*x.shape[0],1,seg_length)\n",
        "y = (y.reshape(y.shape[0],1)*np.ones((y.shape[0],frame_num))).reshape(y.shape[0]*frame_num)\n",
        "print(\"finish segmentation and normalisation\")"
      ],
      "metadata": {
        "ExecuteTime": {
          "end_time": "2024-03-20T20:24:11.680958Z",
          "start_time": "2024-03-20T20:24:06.735336Z"
        },
        "id": "adde1dd7a93a75bf",
        "colab": {
          "base_uri": "https://localhost:8080/"
        },
        "outputId": "c4280447-b120-4e03-c870-39074f08825a"
      },
      "id": "adde1dd7a93a75bf",
      "execution_count": 5
    },
    {
      "cell_type": "markdown",
      "source": [
        "# Split Data"
      ],
      "metadata": {
        "collapsed": false,
        "id": "980160b9ea266574"
      },
      "id": "980160b9ea266574"
    },
    {
      "cell_type": "code",
      "outputs": [
        {
          "output_type": "stream",
          "name": "stdout",
          "text": [
            "finish splitting data\n"
          ]
        }
      ],
      "source": [
        "x_train, x_test, y_train, y_test = train_test_split(x, y, test_size=0.2,stratify=y,shuffle=True)\n",
        "# k-fold cross validation\n",
        "k = 5\n",
        "xs_train, ys_train, xs_valid, ys_valid = k_fold_cross_validation(x_train,y_train,k)\n",
        "print(\"finish splitting data\")"
      ],
      "metadata": {
        "ExecuteTime": {
          "end_time": "2024-03-20T20:24:13.400221Z",
          "start_time": "2024-03-20T20:24:11.682406Z"
        },
        "id": "9beb60e3ce30783e",
        "colab": {
          "base_uri": "https://localhost:8080/"
        },
        "outputId": "268114b0-8f16-4a9b-e570-b60a8b14bfd7"
      },
      "id": "9beb60e3ce30783e",
      "execution_count": 6
    },
    {
      "cell_type": "markdown",
      "source": [
        "# Create Dataloaders"
      ],
      "metadata": {
        "collapsed": false,
        "id": "4e3231aec7017b9d"
      },
      "id": "4e3231aec7017b9d"
    },
    {
      "cell_type": "code",
      "outputs": [
        {
          "output_type": "stream",
          "name": "stdout",
          "text": [
            "finish creating dataloaders\n"
          ]
        }
      ],
      "source": [
        "batch_size = 64 # can be adjusted according to GPU memory size\n",
        "dataloaders_train = []\n",
        "dataloaders_valid = []\n",
        "for i in range(k):\n",
        "    dataloaders_train.append(create_dataloader(xs_train[i], ys_train[i], batch_size=batch_size,cuda=True))\n",
        "    dataloaders_valid.append(create_dataloader(xs_valid[i], ys_valid[i], batch_size=batch_size,cuda=True))\n",
        "dataloader_test = create_dataloader(x_test, y_test, batch_size=batch_size,cuda=True)\n",
        "print(\"finish creating dataloaders\")"
      ],
      "metadata": {
        "ExecuteTime": {
          "end_time": "2024-03-20T20:24:17.735142Z",
          "start_time": "2024-03-20T20:24:13.401195Z"
        },
        "id": "96d7659a191d6c43",
        "colab": {
          "base_uri": "https://localhost:8080/"
        },
        "outputId": "5d473f75-9d2f-4d23-8905-fe7b36f2504e"
      },
      "id": "96d7659a191d6c43",
      "execution_count": 7
    },
    {
      "cell_type": "markdown",
      "source": [
        "# Model Construction"
      ],
      "metadata": {
        "collapsed": false,
        "id": "5d6cbe706ea9b080"
      },
      "id": "5d6cbe706ea9b080"
    },
    {
      "cell_type": "code",
      "outputs": [
        {
          "output_type": "execute_result",
          "data": {
            "text/plain": [
              "==========================================================================================\n",
              "Layer (type:depth-idx)                   Output Shape              Param #\n",
              "==========================================================================================\n",
              "DCNN                                     [64, 10]                  --\n",
              "├─ConLayer: 1-1                          [64, 128, 19683]          --\n",
              "│    └─Conv1d: 2-1                       [64, 128, 19683]          512\n",
              "│    └─BatchNorm1d: 2-2                  [64, 128, 19683]          256\n",
              "│    └─ReLU: 2-3                         [64, 128, 19683]          --\n",
              "├─Sequential: 1-2                        [64, 128, 2187]           --\n",
              "│    └─ConLayer: 2-4                     [64, 128, 6561]           --\n",
              "│    │    └─Conv1d: 3-1                  [64, 128, 19683]          49,280\n",
              "│    │    └─BatchNorm1d: 3-2             [64, 128, 19683]          256\n",
              "│    │    └─ReLU: 3-3                    [64, 128, 19683]          --\n",
              "│    │    └─MaxPool1d: 3-4               [64, 128, 6561]           --\n",
              "│    └─ConLayer: 2-5                     [64, 128, 2187]           --\n",
              "│    │    └─Conv1d: 3-5                  [64, 128, 6561]           49,280\n",
              "│    │    └─BatchNorm1d: 3-6             [64, 128, 6561]           256\n",
              "│    │    └─ReLU: 3-7                    [64, 128, 6561]           --\n",
              "│    │    └─MaxPool1d: 3-8               [64, 128, 2187]           --\n",
              "├─Sequential: 1-3                        [64, 256, 3]              --\n",
              "│    └─ConLayer: 2-6                     [64, 256, 729]            --\n",
              "│    │    └─Conv1d: 3-9                  [64, 256, 2187]           98,560\n",
              "│    │    └─BatchNorm1d: 3-10            [64, 256, 2187]           512\n",
              "│    │    └─ReLU: 3-11                   [64, 256, 2187]           --\n",
              "│    │    └─MaxPool1d: 3-12              [64, 256, 729]            --\n",
              "│    └─ConLayer: 2-7                     [64, 256, 243]            --\n",
              "│    │    └─Conv1d: 3-13                 [64, 256, 729]            196,864\n",
              "│    │    └─BatchNorm1d: 3-14            [64, 256, 729]            512\n",
              "│    │    └─ReLU: 3-15                   [64, 256, 729]            --\n",
              "│    │    └─MaxPool1d: 3-16              [64, 256, 243]            --\n",
              "│    └─ConLayer: 2-8                     [64, 256, 81]             --\n",
              "│    │    └─Conv1d: 3-17                 [64, 256, 243]            196,864\n",
              "│    │    └─BatchNorm1d: 3-18            [64, 256, 243]            512\n",
              "│    │    └─ReLU: 3-19                   [64, 256, 243]            --\n",
              "│    │    └─MaxPool1d: 3-20              [64, 256, 81]             --\n",
              "│    └─ConLayer: 2-9                     [64, 256, 27]             --\n",
              "│    │    └─Conv1d: 3-21                 [64, 256, 81]             196,864\n",
              "│    │    └─BatchNorm1d: 3-22            [64, 256, 81]             512\n",
              "│    │    └─ReLU: 3-23                   [64, 256, 81]             --\n",
              "│    │    └─MaxPool1d: 3-24              [64, 256, 27]             --\n",
              "│    └─ConLayer: 2-10                    [64, 256, 9]              --\n",
              "│    │    └─Conv1d: 3-25                 [64, 256, 27]             196,864\n",
              "│    │    └─BatchNorm1d: 3-26            [64, 256, 27]             512\n",
              "│    │    └─ReLU: 3-27                   [64, 256, 27]             --\n",
              "│    │    └─MaxPool1d: 3-28              [64, 256, 9]              --\n",
              "│    └─ConLayer: 2-11                    [64, 256, 3]              --\n",
              "│    │    └─Conv1d: 3-29                 [64, 256, 9]              196,864\n",
              "│    │    └─BatchNorm1d: 3-30            [64, 256, 9]              512\n",
              "│    │    └─ReLU: 3-31                   [64, 256, 9]              --\n",
              "│    │    └─MaxPool1d: 3-32              [64, 256, 3]              --\n",
              "├─ConLayer: 1-4                          [64, 512, 1]              --\n",
              "│    └─Conv1d: 2-12                      [64, 512, 3]              393,728\n",
              "│    └─BatchNorm1d: 2-13                 [64, 512, 3]              1,024\n",
              "│    └─ReLU: 2-14                        [64, 512, 3]              --\n",
              "│    └─MaxPool1d: 2-15                   [64, 512, 1]              --\n",
              "├─Sequential: 1-5                        [64, 512, 1]              --\n",
              "│    └─ConLayer: 2-16                    [64, 512, 1]              --\n",
              "│    │    └─Conv1d: 3-33                 [64, 512, 1]              262,656\n",
              "│    │    └─BatchNorm1d: 3-34            [64, 512, 1]              1,024\n",
              "│    │    └─ReLU: 3-35                   [64, 512, 1]              --\n",
              "│    └─Dropout: 2-17                     [64, 512, 1]              --\n",
              "├─Sequential: 1-6                        [64, 10]                  --\n",
              "│    └─Linear: 2-18                      [64, 10]                  5,130\n",
              "│    └─BatchNorm1d: 2-19                 [64, 10]                  20\n",
              "│    └─Sigmoid: 2-20                     [64, 10]                  --\n",
              "==========================================================================================\n",
              "Total params: 1,849,374\n",
              "Trainable params: 1,849,374\n",
              "Non-trainable params: 0\n",
              "Total mult-adds (G): 111.03\n",
              "==========================================================================================\n",
              "Input size (MB): 15.12\n",
              "Forward/backward pass size (MB): 6880.63\n",
              "Params size (MB): 7.40\n",
              "Estimated Total Size (MB): 6903.15\n",
              "=========================================================================================="
            ]
          },
          "metadata": {},
          "execution_count": 8
        }
      ],
      "source": [
        "model = DCNN(10)\n",
        "model.cuda()\n",
        "loss_function = nn.CrossEntropyLoss()\n",
        "opt = Adam(model.parameters(), lr=0.001)\n",
        "summary(model,[(batch_size,1,seg_length)])"
      ],
      "metadata": {
        "ExecuteTime": {
          "end_time": "2024-03-20T20:24:18.938945Z",
          "start_time": "2024-03-20T20:24:17.737091Z"
        },
        "id": "586f84b92fed94cc",
        "colab": {
          "base_uri": "https://localhost:8080/"
        },
        "outputId": "84f91b39-8e2f-4095-ed68-159c1b423be6"
      },
      "id": "586f84b92fed94cc",
      "execution_count": 8
    },
    {
      "cell_type": "markdown",
      "source": [
        "# Train"
      ],
      "metadata": {
        "collapsed": false,
        "id": "ba0478e4d3367b5f"
      },
      "id": "ba0478e4d3367b5f"
    },
    {
      "cell_type": "code",
      "outputs": [
        {
          "output_type": "stream",
          "name": "stdout",
          "text": [
            "-------epoch  1 -------\n",
            "fold 1:\n",
            "train set loss: 2.069170117378235\n",
            "train set accuracy: 0.451171875\n",
            "valid set loss: 2.012753486633301\n",
            "valid set accuracy: 0.5218750238418579\n",
            "fold 2:\n",
            "train set loss: 1.9774481549859046\n",
            "train set accuracy: 0.6142578125\n",
            "valid set loss: 1.949862116575241\n",
            "valid set accuracy: 0.555468738079071\n",
            "fold 3:\n",
            "train set loss: 1.9298509284853935\n",
            "train set accuracy: 0.6898437738418579\n",
            "valid set loss: 1.914419460296631\n",
            "valid set accuracy: 0.6695312857627869\n",
            "fold 4:\n",
            "train set loss: 1.8915757909417152\n",
            "train set accuracy: 0.7392578125\n",
            "valid set loss: 1.921846079826355\n",
            "valid set accuracy: 0.624218761920929\n",
            "fold 5:\n",
            "train set loss: 1.8567814603447914\n",
            "train set accuracy: 0.7861328125\n",
            "valid set loss: 1.8731617629528046\n",
            "valid set accuracy: 0.706250011920929\n",
            "epoch loss: 1.934\n",
            "epoch accuracy: 0.615\n",
            "-------epoch  2 -------\n",
            "fold 1:\n",
            "train set loss: 1.8277826607227325\n",
            "train set accuracy: 0.811718761920929\n",
            "valid set loss: 1.9098197877407075\n",
            "valid set accuracy: 0.6078125238418579\n",
            "fold 2:\n",
            "train set loss: 1.804588544368744\n",
            "train set accuracy: 0.828906238079071\n",
            "valid set loss: 1.8307638764381409\n",
            "valid set accuracy: 0.7484375238418579\n",
            "fold 3:\n",
            "train set loss: 1.7705079585313797\n",
            "train set accuracy: 0.8746094107627869\n",
            "valid set loss: 1.809452188014984\n",
            "valid set accuracy: 0.7679687738418579\n",
            "fold 4:\n",
            "train set loss: 1.7520327255129815\n",
            "train set accuracy: 0.880078136920929\n",
            "valid set loss: 1.8207588076591492\n",
            "valid set accuracy: 0.745312511920929\n",
            "fold 5:\n",
            "train set loss: 1.727823406457901\n",
            "train set accuracy: 0.9019531607627869\n",
            "valid set loss: 1.751337504386902\n",
            "valid set accuracy: 0.815625011920929\n",
            "epoch loss: 1.824\n",
            "epoch accuracy: 0.737\n",
            "-------epoch  3 -------\n",
            "fold 1:\n",
            "train set loss: 1.705401137471199\n",
            "train set accuracy: 0.928515613079071\n",
            "valid set loss: 1.7224528551101685\n",
            "valid set accuracy: 0.8804687857627869\n",
            "fold 2:\n",
            "train set loss: 1.6838558360934257\n",
            "train set accuracy: 0.943554699420929\n",
            "valid set loss: 1.7312215268611908\n",
            "valid set accuracy: 0.8382812738418579\n",
            "fold 3:\n",
            "train set loss: 1.6725699454545975\n",
            "train set accuracy: 0.9443359375\n",
            "valid set loss: 1.6681855082511903\n",
            "valid set accuracy: 0.9437500238418579\n",
            "fold 4:\n",
            "train set loss: 1.6576666966080666\n",
            "train set accuracy: 0.952929675579071\n",
            "valid set loss: 1.657554304599762\n",
            "valid set accuracy: 0.9429687857627869\n",
            "fold 5:\n",
            "train set loss: 1.642128622531891\n",
            "train set accuracy: 0.9644531607627869\n",
            "valid set loss: 1.6548701763153075\n",
            "valid set accuracy: 0.93359375\n",
            "epoch loss: 1.687\n",
            "epoch accuracy: 0.908\n",
            "-------epoch  4 -------\n",
            "fold 1:\n",
            "train set loss: 1.630903072655201\n",
            "train set accuracy: 0.967968761920929\n",
            "valid set loss: 1.773311299085617\n",
            "valid set accuracy: 0.723437488079071\n",
            "fold 2:\n",
            "train set loss: 1.6234403625130653\n",
            "train set accuracy: 0.966015636920929\n",
            "valid set loss: 1.7562469244003296\n",
            "valid set accuracy: 0.770312488079071\n",
            "fold 3:\n",
            "train set loss: 1.6180311873555184\n",
            "train set accuracy: 0.9605469107627869\n",
            "valid set loss: 1.6366078972816467\n",
            "valid set accuracy: 0.9281250238418579\n",
            "fold 4:\n",
            "train set loss: 1.6036461040377616\n",
            "train set accuracy: 0.97265625\n",
            "valid set loss: 1.6157956182956696\n",
            "valid set accuracy: 0.94921875\n",
            "fold 5:\n",
            "train set loss: 1.5909013524651527\n",
            "train set accuracy: 0.9847656488418579\n",
            "valid set loss: 1.6396933495998383\n",
            "valid set accuracy: 0.901562511920929\n",
            "epoch loss: 1.684\n",
            "epoch accuracy: 0.855\n",
            "-------epoch  5 -------\n",
            "fold 1:\n",
            "train set loss: 1.5858733728528023\n",
            "train set accuracy: 0.98046875\n",
            "valid set loss: 1.6019414484500885\n",
            "valid set accuracy: 0.94140625\n",
            "fold 2:\n",
            "train set loss: 1.585042655467987\n",
            "train set accuracy: 0.974609375\n",
            "valid set loss: 1.5880512714385986\n",
            "valid set accuracy: 0.96484375\n",
            "fold 3:\n",
            "train set loss: 1.5736331522464753\n",
            "train set accuracy: 0.981640636920929\n",
            "valid set loss: 1.5621766269207\n",
            "valid set accuracy: 0.9859375357627869\n",
            "fold 4:\n",
            "train set loss: 1.570295350253582\n",
            "train set accuracy: 0.982421875\n",
            "valid set loss: 1.654903531074524\n",
            "valid set accuracy: 0.8929687738418579\n",
            "fold 5:\n",
            "train set loss: 1.5665294423699379\n",
            "train set accuracy: 0.9761719107627869\n",
            "valid set loss: 1.587750744819641\n",
            "valid set accuracy: 0.9375\n",
            "epoch loss: 1.599\n",
            "epoch accuracy: 0.945\n",
            "-------epoch  6 -------\n",
            "fold 1:\n",
            "train set loss: 1.5599042415618896\n",
            "train set accuracy: 0.9818359613418579\n",
            "valid set loss: 1.601385587453842\n",
            "valid set accuracy: 0.913281261920929\n",
            "fold 2:\n",
            "train set loss: 1.556448046863079\n",
            "train set accuracy: 0.980664074420929\n",
            "valid set loss: 1.5583413541316986\n",
            "valid set accuracy: 0.971875011920929\n",
            "fold 3:\n",
            "train set loss: 1.5485761731863021\n",
            "train set accuracy: 0.987500011920929\n",
            "valid set loss: 1.5427332818508148\n",
            "valid set accuracy: 0.992968738079071\n",
            "fold 4:\n",
            "train set loss: 1.539308062195778\n",
            "train set accuracy: 0.994335949420929\n",
            "valid set loss: 1.5220625698566437\n",
            "valid set accuracy: 0.999218761920929\n",
            "fold 5:\n",
            "train set loss: 1.5355790674686431\n",
            "train set accuracy: 0.994140625\n",
            "valid set loss: 1.5302108824253082\n",
            "valid set accuracy: 0.9945312738418579\n",
            "epoch loss: 1.551\n",
            "epoch accuracy: 0.974\n",
            "-------epoch  7 -------\n",
            "fold 1:\n",
            "train set loss: 1.5325252056121825\n",
            "train set accuracy: 0.992968738079071\n",
            "valid set loss: 1.5231887698173523\n",
            "valid set accuracy: 0.992968738079071\n",
            "fold 2:\n",
            "train set loss: 1.5331188201904298\n",
            "train set accuracy: 0.9878906607627869\n",
            "valid set loss: 1.5306881308555602\n",
            "valid set accuracy: 0.989062488079071\n",
            "fold 3:\n",
            "train set loss: 1.5309557870030404\n",
            "train set accuracy: 0.98828125\n",
            "valid set loss: 1.5580640852451324\n",
            "valid set accuracy: 0.9507812857627869\n",
            "fold 4:\n",
            "train set loss: 1.5344210878014564\n",
            "train set accuracy: 0.982617199420929\n",
            "valid set loss: 1.5218101561069488\n",
            "valid set accuracy: 0.9921875\n",
            "fold 5:\n",
            "train set loss: 1.524844853579998\n",
            "train set accuracy: 0.9908203482627869\n",
            "valid set loss: 1.5256273746490479\n",
            "valid set accuracy: 0.987500011920929\n",
            "epoch loss: 1.532\n",
            "epoch accuracy: 0.982\n",
            "-------epoch  8 -------\n",
            "fold 1:\n",
            "train set loss: 1.5283562019467354\n",
            "train set accuracy: 0.983593761920929\n",
            "valid set loss: 1.525863879919052\n",
            "valid set accuracy: 0.98046875\n",
            "fold 2:\n",
            "train set loss: 1.519425483047962\n",
            "train set accuracy: 0.991992175579071\n",
            "valid set loss: 1.5041828751564026\n",
            "valid set accuracy: 0.999218761920929\n",
            "fold 3:\n",
            "train set loss: 1.517575965821743\n",
            "train set accuracy: 0.991015613079071\n",
            "valid set loss: 1.521160513162613\n",
            "valid set accuracy: 0.98046875\n",
            "fold 4:\n",
            "train set loss: 1.519227673113346\n",
            "train set accuracy: 0.986132800579071\n",
            "valid set loss: 1.5249768197536469\n",
            "valid set accuracy: 0.9867187738418579\n",
            "fold 5:\n",
            "train set loss: 1.5180832535028457\n",
            "train set accuracy: 0.9873046875\n",
            "valid set loss: 1.5599877536296844\n",
            "valid set accuracy: 0.9281250238418579\n",
            "epoch loss: 1.527\n",
            "epoch accuracy: 0.975\n",
            "-------epoch  9 -------\n",
            "fold 1:\n",
            "train set loss: 1.5181599289178849\n",
            "train set accuracy: 0.9867187738418579\n",
            "valid set loss: 1.5493607342243194\n",
            "valid set accuracy: 0.9476562738418579\n",
            "fold 2:\n",
            "train set loss: 1.5152369245886803\n",
            "train set accuracy: 0.9876953363418579\n",
            "valid set loss: 1.55575852394104\n",
            "valid set accuracy: 0.9281250238418579\n",
            "fold 3:\n",
            "train set loss: 1.507989314198494\n",
            "train set accuracy: 0.993945300579071\n",
            "valid set loss: 1.529487293958664\n",
            "valid set accuracy: 0.9593750238418579\n",
            "fold 4:\n",
            "train set loss: 1.5058434054255485\n",
            "train set accuracy: 0.9925781488418579\n",
            "valid set loss: 1.493098211288452\n",
            "valid set accuracy: 0.9976562857627869\n",
            "fold 5:\n",
            "train set loss: 1.5045762360095978\n",
            "train set accuracy: 0.9921875\n",
            "valid set loss: 1.5292788922786713\n",
            "valid set accuracy: 0.965624988079071\n",
            "epoch loss: 1.531\n",
            "epoch accuracy: 0.96\n",
            "-------epoch  10 -------\n",
            "fold 1:\n",
            "train set loss: 1.4998693138360977\n",
            "train set accuracy: 0.995312511920929\n",
            "valid set loss: 1.5030525505542756\n",
            "valid set accuracy: 0.9820312857627869\n",
            "fold 2:\n",
            "train set loss: 1.497922021150589\n",
            "train set accuracy: 0.9955078363418579\n",
            "valid set loss: 1.4890959560871124\n",
            "valid set accuracy: 0.999218761920929\n",
            "fold 3:\n",
            "train set loss: 1.4987339124083519\n",
            "train set accuracy: 0.9957031607627869\n",
            "valid set loss: 1.4964031338691712\n",
            "valid set accuracy: 0.992968738079071\n",
            "fold 4:\n",
            "train set loss: 1.501277995109558\n",
            "train set accuracy: 0.991015613079071\n",
            "valid set loss: 1.5526410818099976\n",
            "valid set accuracy: 0.917187511920929\n",
            "fold 5:\n",
            "train set loss: 1.5035193309187889\n",
            "train set accuracy: 0.988476574420929\n",
            "valid set loss: 1.5082046747207642\n",
            "valid set accuracy: 0.9789062738418579\n",
            "epoch loss: 1.51\n",
            "epoch accuracy: 0.974\n",
            "finish training\n"
          ]
        }
      ],
      "source": [
        "epoch = 10\n",
        "history = train(model,loss_function,opt,dataloaders_train,dataloaders_valid,k,epoch=epoch)\n",
        "print(\"finish training\")"
      ],
      "metadata": {
        "ExecuteTime": {
          "end_time": "2024-03-20T20:47:34.153112Z",
          "start_time": "2024-03-20T20:24:18.939968Z"
        },
        "id": "156ba58e4ff24277",
        "colab": {
          "base_uri": "https://localhost:8080/"
        },
        "outputId": "aaad92d3-bc67-4f8e-afcd-62ec93669af6"
      },
      "id": "156ba58e4ff24277",
      "execution_count": 9
    },
    {
      "cell_type": "code",
      "source": [
        "plt.plot(range(epoch),history['loss'])\n",
        "plt.xlabel('Epoch')\n",
        "plt.ylabel('Loss')\n",
        "plt.show()"
      ],
      "metadata": {
        "colab": {
          "base_uri": "https://localhost:8080/",
          "height": 449
        },
        "id": "VG6Su89Tt9jE",
        "outputId": "63a12b07-b5be-4219-9ce7-62cc2b9c48ce"
      },
      "id": "VG6Su89Tt9jE",
      "execution_count": 10,
      "outputs": [
        {
          "output_type": "display_data",
          "data": {
            "text/plain": [
              "<Figure size 640x480 with 1 Axes>"
            ],
            "image/png": "[encoded data removed]"
          },
          "metadata": {}
        }
      ]
    },
    {
      "cell_type": "code",
      "source": [
        "plt.plot(range(epoch), history['accuracy'])\n",
        "plt.xlabel('Epoch')\n",
        "plt.ylabel('Accuracy')\n",
        "plt.show()"
      ],
      "metadata": {
        "colab": {
          "base_uri": "https://localhost:8080/",
          "height": 455
        },
        "id": "Bjb0LGLMt9ya",
        "outputId": "b4584fec-2cde-415b-80ff-c869fba388a0"
      },
      "id": "Bjb0LGLMt9ya",
      "execution_count": 11,
      "outputs": [
        {
          "output_type": "display_data",
          "data": {
            "text/plain": [
              "<Figure size 640x480 with 1 Axes>"
            ],
            "image/png": "[encoded data removed]"
          },
          "metadata": {}
        }
      ]
    },
    {
      "cell_type": "markdown",
      "source": [
        "# Test"
      ],
      "metadata": {
        "collapsed": false,
        "id": "9fd11d0b594c7140"
      },
      "id": "9fd11d0b594c7140"
    },
    {
      "cell_type": "code",
      "outputs": [
        {
          "output_type": "stream",
          "name": "stdout",
          "text": [
            "test set loss: 1.665\n",
            "test set accuracy: 0.796\n",
            "test set AUC: 0.97\n",
            "test set f1-score: 0.796\n"
          ]
        }
      ],
      "source": [
        "loss, acc, AUC, f1 = test(model,loss_function,dataloader_test)"
      ],
      "metadata": {
        "ExecuteTime": {
          "end_time": "2024-03-20T22:45:31.223051Z",
          "start_time": "2024-03-20T22:45:29.516398Z"
        },
        "id": "f65311f27441f0d6",
        "colab": {
          "base_uri": "https://localhost:8080/"
        },
        "outputId": "a3571c7f-c54e-4e56-b756-016a613bd48b"
      },
      "id": "f65311f27441f0d6",
      "execution_count": 12
    }
  ],
  "metadata": {
    "kernelspec": {
      "display_name": "Python 3",
      "name": "python3"
    },
    "language_info": {
      "codemirror_mode": {
        "name": "ipython",
        "version": 2
      },
      "file_extension": ".py",
      "mimetype": "text/x-python",
      "name": "python",
      "nbconvert_exporter": "python",
      "pygments_lexer": "ipython2",
      "version": "2.7.6"
    },
    "colab": {
      "provenance": [],
      "gpuType": "T4"
    },
    "accelerator": "GPU"
  },
  "nbformat": 4,
  "nbformat_minor": 5
}