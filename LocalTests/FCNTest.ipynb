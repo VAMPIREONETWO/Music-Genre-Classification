{
 "cells": [
  {
   "cell_type": "code",
   "execution_count": 18,
   "id": "initial_id",
   "metadata": {
    "collapsed": true,
    "ExecuteTime": {
     "end_time": "2024-04-04T14:04:12.933273Z",
     "start_time": "2024-04-04T14:04:12.918816Z"
    }
   },
   "outputs": [],
   "source": [
    "from sklearn.model_selection import train_test_split\n",
    "from models.FCN import FCN7\n",
    "import librosa\n",
    "import numpy as np\n",
    "from torchinfo import summary\n",
    "from torch import nn\n",
    "from torch.optim import Adam\n",
    "from Utils import read_data,create_dataloader, k_fold_cross_validation, train, test\n",
    "import matplotlib.pyplot as plt"
   ]
  },
  {
   "cell_type": "markdown",
   "source": [
    "# Read Data "
   ],
   "metadata": {
    "collapsed": false
   },
   "id": "35bfab0a09f68507"
  },
  {
   "cell_type": "code",
   "outputs": [
    {
     "name": "stdout",
     "output_type": "stream",
     "text": [
      "finsh reading data\n"
     ]
    }
   ],
   "source": [
    "sr = 16*1000\n",
    "x,y,min_length = read_data(root='../Data/genres_original', sr=sr)\n",
    "print(\"finsh reading data\")"
   ],
   "metadata": {
    "collapsed": false,
    "ExecuteTime": {
     "end_time": "2024-04-04T14:04:19.833218Z",
     "start_time": "2024-04-04T14:04:13.939680Z"
    }
   },
   "id": "f6d4684e6aca316b",
   "execution_count": 19
  },
  {
   "cell_type": "markdown",
   "source": [
    "# Conversion, Compression and Normalisation"
   ],
   "metadata": {
    "collapsed": false
   },
   "id": "abee602f31169a9e"
  },
  {
   "cell_type": "code",
   "outputs": [
    {
     "name": "stdout",
     "output_type": "stream",
     "text": [
      "finish conversion and compression\n"
     ]
    }
   ],
   "source": [
    "top_db = 80\n",
    "for i in range(len(x)):\n",
    "    signal = x[i][:min_length]\n",
    "    mel_spect = librosa.feature.melspectrogram(y=signal,sr=sr,n_fft=2048,hop_length=512) # convert signals to mel spectrogram\n",
    "    mel_spect = librosa.power_to_db(mel_spect, ref=np.max, top_db=top_db) # log compression\n",
    "    x[i] = mel_spect/-top_db # normalisation\n",
    "print(\"finish conversion and compression\")"
   ],
   "metadata": {
    "collapsed": false,
    "ExecuteTime": {
     "end_time": "2024-04-04T14:04:40.825479Z",
     "start_time": "2024-04-04T14:04:27.511136Z"
    }
   },
   "id": "10d08606be2ee6a5",
   "execution_count": 21
  },
  {
   "cell_type": "markdown",
   "source": [
    "# Split Data"
   ],
   "metadata": {
    "collapsed": false
   },
   "id": "5f5a457feb048e00"
  },
  {
   "cell_type": "code",
   "outputs": [
    {
     "name": "stdout",
     "output_type": "stream",
     "text": [
      "(1000, 1, 128, 936)\n"
     ]
    }
   ],
   "source": [
    "x = np.asarray(x)\n",
    "x = x.reshape(x.shape[0],1,x.shape[1],x.shape[2])\n",
    "y = np.asarray(y)\n",
    "print(x.shape)"
   ],
   "metadata": {
    "collapsed": false,
    "ExecuteTime": {
     "end_time": "2024-04-04T14:04:55.898696Z",
     "start_time": "2024-04-04T14:04:55.775026Z"
    }
   },
   "id": "fdb0312ac9fdb7c0",
   "execution_count": 22
  },
  {
   "cell_type": "code",
   "outputs": [
    {
     "name": "stdout",
     "output_type": "stream",
     "text": [
      "finish splitting data\n"
     ]
    }
   ],
   "source": [
    "x_train, x_test, y_train, y_test = train_test_split(x, y, test_size=0.2,\n",
    "                                                    stratify=y,shuffle=True)\n",
    "# k-fold cross validation\n",
    "k = 5\n",
    "xs_train, ys_train, xs_valid, ys_valid = k_fold_cross_validation(x_train,y_train,k)\n",
    "print(\"finish splitting data\")"
   ],
   "metadata": {
    "collapsed": false,
    "ExecuteTime": {
     "end_time": "2024-04-04T13:39:18.898465Z",
     "start_time": "2024-04-04T13:39:18.590105Z"
    }
   },
   "id": "df2254735832f87e",
   "execution_count": 5
  },
  {
   "cell_type": "code",
   "outputs": [
    {
     "name": "stdout",
     "output_type": "stream",
     "text": [
      "finish creating dataloaders\n"
     ]
    }
   ],
   "source": [
    "batch_size = 16\n",
    "dataloaders_train = []\n",
    "dataloaders_valid = []\n",
    "for i in range(k):\n",
    "    dataloaders_train.append(create_dataloader(xs_train[i], ys_train[i], batch_size=batch_size))\n",
    "    dataloaders_valid.append(create_dataloader(xs_valid[i], ys_valid[i], batch_size=batch_size))\n",
    "dataloader_test = create_dataloader(x_test, y_test, batch_size=batch_size)\n",
    "print(\"finish creating dataloaders\")"
   ],
   "metadata": {
    "collapsed": false,
    "ExecuteTime": {
     "end_time": "2024-04-04T13:39:19.575042Z",
     "start_time": "2024-04-04T13:39:18.899648Z"
    }
   },
   "id": "b6af9344bf4293da",
   "execution_count": 6
  },
  {
   "cell_type": "markdown",
   "source": [
    "# Model Construction"
   ],
   "metadata": {
    "collapsed": false
   },
   "id": "75bac39738931f71"
  },
  {
   "cell_type": "code",
   "outputs": [
    {
     "data": {
      "text/plain": "==========================================================================================\nLayer (type:depth-idx)                   Output Shape              Param #\n==========================================================================================\nFCN7                                     [16, 10]                  --\n├─ConvBlock: 1-1                         [16, 128, 128, 936]       --\n│    └─Conv2d: 2-1                       [16, 128, 128, 936]       1,280\n│    └─BatchNorm2d: 2-2                  [16, 128, 128, 936]       256\n│    └─ReLU: 2-3                         [16, 128, 128, 936]       --\n├─MaxPool2d: 1-2                         [16, 128, 64, 234]        --\n├─ConvBlock: 1-3                         [16, 256, 64, 234]        --\n│    └─Conv2d: 2-4                       [16, 256, 64, 234]        295,168\n│    └─BatchNorm2d: 2-5                  [16, 256, 64, 234]        512\n│    └─ReLU: 2-6                         [16, 256, 64, 234]        --\n├─MaxPool2d: 1-4                         [16, 256, 32, 58]         --\n├─ConvBlock: 1-5                         [16, 512, 32, 58]         --\n│    └─Conv2d: 2-7                       [16, 512, 32, 58]         1,180,160\n│    └─BatchNorm2d: 2-8                  [16, 512, 32, 58]         1,024\n│    └─ReLU: 2-9                         [16, 512, 32, 58]         --\n├─MaxPool2d: 1-6                         [16, 512, 16, 14]         --\n├─ConvBlock: 1-7                         [16, 1024, 16, 14]        --\n│    └─Conv2d: 2-10                      [16, 1024, 16, 14]        4,719,616\n│    └─BatchNorm2d: 2-11                 [16, 1024, 16, 14]        2,048\n│    └─ReLU: 2-12                        [16, 1024, 16, 14]        --\n├─MaxPool2d: 1-8                         [16, 1024, 5, 3]          --\n├─ConvBlock: 1-9                         [16, 2048, 5, 3]          --\n│    └─Conv2d: 2-13                      [16, 2048, 5, 3]          18,876,416\n│    └─BatchNorm2d: 2-14                 [16, 2048, 5, 3]          4,096\n│    └─ReLU: 2-15                        [16, 2048, 5, 3]          --\n├─MaxPool2d: 1-10                        [16, 2048, 1, 1]          --\n├─Conv2d: 1-11                           [16, 1024, 1, 1]          2,098,176\n├─Conv2d: 1-12                           [16, 1024, 1, 1]          1,049,600\n├─AdaptiveAvgPool2d: 1-13                [16, 1024, 1, 1]          --\n├─Sequential: 1-14                       [16, 10]                  --\n│    └─Linear: 2-16                      [16, 10]                  10,250\n│    └─BatchNorm1d: 2-17                 [16, 10]                  20\n│    └─Sigmoid: 2-18                     [16, 10]                  --\n==========================================================================================\nTotal params: 28,238,622\nTrainable params: 28,238,622\nNon-trainable params: 0\nTotal mult-adds (G): 129.72\n==========================================================================================\nInput size (MB): 7.67\nForward/backward pass size (MB): 5217.45\nParams size (MB): 112.95\nEstimated Total Size (MB): 5338.08\n=========================================================================================="
     },
     "execution_count": 7,
     "metadata": {},
     "output_type": "execute_result"
    }
   ],
   "source": [
    "model = FCN7(10)\n",
    "model.cuda()\n",
    "loss_function = nn.CrossEntropyLoss()\n",
    "opt = Adam(model.parameters(), lr=0.001)\n",
    "summary(model,[(batch_size,1,x.shape[2],x.shape[3])])"
   ],
   "metadata": {
    "collapsed": false,
    "ExecuteTime": {
     "end_time": "2024-04-04T13:39:21.001372Z",
     "start_time": "2024-04-04T13:39:19.576124Z"
    }
   },
   "id": "8ac890d4d4ca0df0",
   "execution_count": 7
  },
  {
   "cell_type": "markdown",
   "source": [
    "# Train"
   ],
   "metadata": {
    "collapsed": false
   },
   "id": "5934b88b153c69e5"
  },
  {
   "cell_type": "code",
   "outputs": [
    {
     "name": "stdout",
     "output_type": "stream",
     "text": [
      "-------epoch  1 -------\n",
      "fold 1:\n",
      "train set loss: 2.161574739217758\n",
      "train set accuracy: 0.3343749940395355\n",
      "valid set loss: 2.259420371055603\n",
      "valid set accuracy: 0.14374999701976776\n",
      "fold 2:\n",
      "train set loss: 2.086694484949112\n",
      "train set accuracy: 0.4390625059604645\n",
      "valid set loss: 2.113863706588745\n",
      "valid set accuracy: 0.3499999940395355\n",
      "fold 3:\n",
      "train set loss: 2.0519272476434707\n",
      "train set accuracy: 0.4906249940395355\n",
      "valid set loss: 2.1039407730102537\n",
      "valid set accuracy: 0.30000001192092896\n",
      "fold 4:\n",
      "train set loss: 2.037781623005867\n",
      "train set accuracy: 0.5390625\n",
      "valid set loss: 2.0566587448120117\n",
      "valid set accuracy: 0.40625\n",
      "fold 5:\n",
      "train set loss: 2.027223238348961\n",
      "train set accuracy: 0.5531250238418579\n",
      "valid set loss: 2.033651852607727\n",
      "valid set accuracy: 0.4437499940395355\n",
      "epoch loss: 2.114\n",
      "epoch accuracy: 0.329\n",
      "-------epoch  2 -------\n",
      "fold 1:\n",
      "train set loss: 1.9895029574632646\n",
      "train set accuracy: 0.621874988079071\n",
      "valid set loss: 1.9784559249877929\n",
      "valid set accuracy: 0.5625\n",
      "fold 2:\n",
      "train set loss: 1.975945809483528\n",
      "train set accuracy: 0.667187511920929\n",
      "valid set loss: 1.9654870867729186\n",
      "valid set accuracy: 0.606249988079071\n",
      "fold 3:\n",
      "train set loss: 1.9477239549160004\n",
      "train set accuracy: 0.6937500238418579\n",
      "valid set loss: 2.02190363407135\n",
      "valid set accuracy: 0.4937500059604645\n",
      "fold 4:\n",
      "train set loss: 1.9410705000162125\n",
      "train set accuracy: 0.715624988079071\n",
      "valid set loss: 1.967081320285797\n",
      "valid set accuracy: 0.606249988079071\n",
      "fold 5:\n",
      "train set loss: 1.9159706860780716\n",
      "train set accuracy: 0.762499988079071\n",
      "valid set loss: 1.929433822631836\n",
      "valid set accuracy: 0.737500011920929\n",
      "epoch loss: 1.972\n",
      "epoch accuracy: 0.601\n",
      "-------epoch  3 -------\n",
      "fold 1:\n",
      "train set loss: 1.9050115555524827\n",
      "train set accuracy: 0.75\n",
      "valid set loss: 1.9445484161376954\n",
      "valid set accuracy: 0.59375\n",
      "fold 2:\n",
      "train set loss: 1.8988286644220351\n",
      "train set accuracy: 0.768750011920929\n",
      "valid set loss: 1.9230851650238037\n",
      "valid set accuracy: 0.581250011920929\n",
      "fold 3:\n",
      "train set loss: 1.8642968147993089\n",
      "train set accuracy: 0.8265625238418579\n",
      "valid set loss: 1.8729133248329162\n",
      "valid set accuracy: 0.8500000238418579\n",
      "fold 4:\n",
      "train set loss: 1.8463432520627976\n",
      "train set accuracy: 0.846875011920929\n",
      "valid set loss: 1.8548395156860351\n",
      "valid set accuracy: 0.7875000238418579\n",
      "fold 5:\n",
      "train set loss: 1.8441931545734405\n",
      "train set accuracy: 0.839062511920929\n",
      "valid set loss: 1.8804884910583497\n",
      "valid set accuracy: 0.5687500238418579\n",
      "epoch loss: 1.895\n",
      "epoch accuracy: 0.676\n",
      "-------epoch  4 -------\n",
      "fold 1:\n",
      "train set loss: 1.825374388694763\n",
      "train set accuracy: 0.875\n",
      "valid set loss: 1.8905533790588378\n",
      "valid set accuracy: 0.6500000357627869\n",
      "fold 2:\n",
      "train set loss: 1.817685705423355\n",
      "train set accuracy: 0.893750011920929\n",
      "valid set loss: 1.7891420483589173\n",
      "valid set accuracy: 0.9312500357627869\n",
      "fold 3:\n",
      "train set loss: 1.8066972732543944\n",
      "train set accuracy: 0.8890625238418579\n",
      "valid set loss: 1.836242687702179\n",
      "valid set accuracy: 0.65625\n",
      "fold 4:\n",
      "train set loss: 1.80626283288002\n",
      "train set accuracy: 0.8890625238418579\n",
      "valid set loss: 1.772419548034668\n",
      "valid set accuracy: 0.9625000357627869\n",
      "fold 5:\n",
      "train set loss: 1.7829756677150725\n",
      "train set accuracy: 0.9156250357627869\n",
      "valid set loss: 1.7582850694656371\n",
      "valid set accuracy: 0.981249988079071\n",
      "epoch loss: 1.809\n",
      "epoch accuracy: 0.836\n",
      "-------epoch  5 -------\n",
      "fold 1:\n",
      "train set loss: 1.7690975964069366\n",
      "train set accuracy: 0.9312500357627869\n",
      "valid set loss: 1.7552143216133118\n",
      "valid set accuracy: 0.9750000238418579\n",
      "fold 2:\n",
      "train set loss: 1.7668926805257796\n",
      "train set accuracy: 0.9156250357627869\n",
      "valid set loss: 1.7445942401885985\n",
      "valid set accuracy: 0.981249988079071\n",
      "fold 3:\n",
      "train set loss: 1.7635705441236496\n",
      "train set accuracy: 0.90625\n",
      "valid set loss: 1.7993045210838319\n",
      "valid set accuracy: 0.893750011920929\n",
      "fold 4:\n",
      "train set loss: 1.743973010778427\n",
      "train set accuracy: 0.934374988079071\n",
      "valid set loss: 1.714866816997528\n",
      "valid set accuracy: 0.987500011920929\n",
      "fold 5:\n",
      "train set loss: 1.7409740477800368\n",
      "train set accuracy: 0.9203125238418579\n",
      "valid set loss: 1.7912416815757752\n",
      "valid set accuracy: 0.7750000357627869\n",
      "epoch loss: 1.761\n",
      "epoch accuracy: 0.922\n",
      "-------epoch  6 -------\n",
      "fold 1:\n",
      "train set loss: 1.7453394919633864\n",
      "train set accuracy: 0.910937488079071\n",
      "valid set loss: 1.768841552734375\n",
      "valid set accuracy: 0.8812500238418579\n",
      "fold 2:\n",
      "train set loss: 1.7331297159194947\n",
      "train set accuracy: 0.921875\n",
      "valid set loss: 1.7180119633674622\n",
      "valid set accuracy: 0.956250011920929\n",
      "fold 3:\n",
      "train set loss: 1.7368613064289093\n",
      "train set accuracy: 0.90625\n",
      "valid set loss: 1.7260429620742799\n",
      "valid set accuracy: 0.893750011920929\n",
      "fold 4:\n",
      "train set loss: 1.7218117475509644\n",
      "train set accuracy: 0.925000011920929\n",
      "valid set loss: 1.6706164956092835\n",
      "valid set accuracy: 0.9937500357627869\n",
      "fold 5:\n",
      "train set loss: 1.7211116135120392\n",
      "train set accuracy: 0.934374988079071\n",
      "valid set loss: 1.6982967853546143\n",
      "valid set accuracy: 0.981249988079071\n",
      "epoch loss: 1.716\n",
      "epoch accuracy: 0.941\n",
      "-------epoch  7 -------\n",
      "fold 1:\n",
      "train set loss: 1.7092332154512406\n",
      "train set accuracy: 0.917187511920929\n",
      "valid set loss: 1.7202773809432983\n",
      "valid set accuracy: 0.96875\n",
      "fold 2:\n",
      "train set loss: 1.7052941530942918\n",
      "train set accuracy: 0.9203125238418579\n",
      "valid set loss: 1.6934208393096923\n",
      "valid set accuracy: 0.9750000238418579\n",
      "fold 3:\n",
      "train set loss: 1.6976742416620254\n",
      "train set accuracy: 0.925000011920929\n",
      "valid set loss: 1.6710779428482057\n",
      "valid set accuracy: 0.9937500357627869\n",
      "fold 4:\n",
      "train set loss: 1.6997948974370956\n",
      "train set accuracy: 0.918749988079071\n",
      "valid set loss: 1.6584978699684143\n",
      "valid set accuracy: 0.9937500357627869\n",
      "fold 5:\n",
      "train set loss: 1.7012484967708588\n",
      "train set accuracy: 0.9156250357627869\n",
      "valid set loss: 1.6603296756744386\n",
      "valid set accuracy: 0.9937500357627869\n",
      "epoch loss: 1.681\n",
      "epoch accuracy: 0.985\n",
      "-------epoch  8 -------\n",
      "fold 1:\n",
      "train set loss: 1.6906219512224196\n",
      "train set accuracy: 0.932812511920929\n",
      "valid set loss: 1.663561499118805\n",
      "valid set accuracy: 0.9937500357627869\n",
      "fold 2:\n",
      "train set loss: 1.6974704712629318\n",
      "train set accuracy: 0.909375011920929\n",
      "valid set loss: 1.7385603070259095\n",
      "valid set accuracy: 0.862500011920929\n",
      "fold 3:\n",
      "train set loss: 1.6832682341337204\n",
      "train set accuracy: 0.932812511920929\n",
      "valid set loss: 1.6551135063171387\n",
      "valid set accuracy: 1.0\n",
      "fold 4:\n",
      "train set loss: 1.6865751296281815\n",
      "train set accuracy: 0.925000011920929\n",
      "valid set loss: 1.69060138463974\n",
      "valid set accuracy: 0.90625\n",
      "fold 5:\n",
      "train set loss: 1.6788754522800446\n",
      "train set accuracy: 0.9281250238418579\n",
      "valid set loss: 1.6305493712425232\n",
      "valid set accuracy: 0.9937500357627869\n",
      "epoch loss: 1.676\n",
      "epoch accuracy: 0.951\n",
      "-------epoch  9 -------\n",
      "fold 1:\n",
      "train set loss: 1.681838908791542\n",
      "train set accuracy: 0.909375011920929\n",
      "valid set loss: 1.6549181938171387\n",
      "valid set accuracy: 1.0\n",
      "fold 2:\n",
      "train set loss: 1.6684789448976516\n",
      "train set accuracy: 0.909375011920929\n",
      "valid set loss: 1.6388004899024964\n",
      "valid set accuracy: 0.981249988079071\n",
      "fold 3:\n",
      "train set loss: 1.6585806399583816\n",
      "train set accuracy: 0.925000011920929\n",
      "valid set loss: 1.612327229976654\n",
      "valid set accuracy: 0.9937500357627869\n",
      "fold 4:\n",
      "train set loss: 1.6522593319416046\n",
      "train set accuracy: 0.9515625238418579\n",
      "valid set loss: 1.7046899676322937\n",
      "valid set accuracy: 0.793749988079071\n",
      "fold 5:\n",
      "train set loss: 1.6721328258514405\n",
      "train set accuracy: 0.9390625357627869\n",
      "valid set loss: 1.6899811387062074\n",
      "valid set accuracy: 0.9312500357627869\n",
      "epoch loss: 1.66\n",
      "epoch accuracy: 0.94\n",
      "-------epoch  10 -------\n",
      "fold 1:\n",
      "train set loss: 1.661492732167244\n",
      "train set accuracy: 0.910937488079071\n",
      "valid set loss: 1.618878424167633\n",
      "valid set accuracy: 0.9937500357627869\n",
      "fold 2:\n",
      "train set loss: 1.6566047579050065\n",
      "train set accuracy: 0.9140625\n",
      "valid set loss: 1.6071808218955994\n",
      "valid set accuracy: 0.981249988079071\n",
      "fold 3:\n",
      "train set loss: 1.6529637575149536\n",
      "train set accuracy: 0.917187511920929\n",
      "valid set loss: 1.66206556558609\n",
      "valid set accuracy: 0.9312500357627869\n",
      "fold 4:\n",
      "train set loss: 1.651655411720276\n",
      "train set accuracy: 0.917187511920929\n",
      "valid set loss: 1.7096638798713684\n",
      "valid set accuracy: 0.793749988079071\n",
      "fold 5:\n",
      "train set loss: 1.6604232519865036\n",
      "train set accuracy: 0.9000000357627869\n",
      "valid set loss: 1.6014585494995117\n",
      "valid set accuracy: 1.0\n",
      "epoch loss: 1.64\n",
      "epoch accuracy: 0.94\n",
      "finish training\n"
     ]
    }
   ],
   "source": [
    "epoch = 10\n",
    "history = train(model,loss_function,opt,dataloaders_train,dataloaders_valid,k,epoch=epoch)\n",
    "print(\"finish training\")"
   ],
   "metadata": {
    "collapsed": false,
    "ExecuteTime": {
     "end_time": "2024-04-04T13:43:33.314397Z",
     "start_time": "2024-04-04T13:39:21.002373Z"
    }
   },
   "id": "f337739ec944959",
   "execution_count": 8
  },
  {
   "cell_type": "code",
   "outputs": [
    {
     "data": {
      "text/plain": "<Figure size 640x480 with 1 Axes>",
      "image/png": "[encoded data removed]"
     },
     "metadata": {},
     "output_type": "display_data"
    }
   ],
   "source": [
    "plt.plot(range(epoch),history['loss'])\n",
    "plt.xlabel('Epoch')\n",
    "plt.ylabel('Loss')\n",
    "plt.show()"
   ],
   "metadata": {
    "collapsed": false,
    "ExecuteTime": {
     "end_time": "2024-04-04T13:43:33.407786Z",
     "start_time": "2024-04-04T13:43:33.316442Z"
    }
   },
   "id": "e9886d660052e25",
   "execution_count": 9
  },
  {
   "cell_type": "code",
   "outputs": [
    {
     "data": {
      "text/plain": "<Figure size 640x480 with 1 Axes>",
      "image/png": "[encoded data removed]"
     },
     "metadata": {},
     "output_type": "display_data"
    }
   ],
   "source": [
    "plt.plot(range(epoch),history['accuracy'])\n",
    "plt.xlabel('Epoch')\n",
    "plt.ylabel('Accuracy')\n",
    "plt.show()"
   ],
   "metadata": {
    "collapsed": false,
    "ExecuteTime": {
     "end_time": "2024-04-04T13:43:33.501961Z",
     "start_time": "2024-04-04T13:43:33.408806Z"
    }
   },
   "id": "a8414674895804af",
   "execution_count": 10
  },
  {
   "cell_type": "markdown",
   "source": [
    "# Test"
   ],
   "metadata": {
    "collapsed": false
   },
   "id": "5c0911516d6f57ea"
  },
  {
   "cell_type": "code",
   "outputs": [
    {
     "name": "stdout",
     "output_type": "stream",
     "text": [
      "test set loss: 1.792\n",
      "test set accuracy: 0.76\n",
      "test set AUC: 0.861\n",
      "test set f1-score: 0.76\n"
     ]
    }
   ],
   "source": [
    "loss, acc, AUC, f1 = test(model,loss_function,dataloader_test)"
   ],
   "metadata": {
    "collapsed": false,
    "ExecuteTime": {
     "end_time": "2024-04-04T13:43:33.999892Z",
     "start_time": "2024-04-04T13:43:33.503041Z"
    }
   },
   "id": "f6fbd2319ef5abaa",
   "execution_count": 11
  }
 ],
 "metadata": {
  "kernelspec": {
   "display_name": "Python 3",
   "language": "python",
   "name": "python3"
  },
  "language_info": {
   "codemirror_mode": {
    "name": "ipython",
    "version": 2
   },
   "file_extension": ".py",
   "mimetype": "text/x-python",
   "name": "python",
   "nbconvert_exporter": "python",
   "pygments_lexer": "ipython2",
   "version": "2.7.6"
  }
 },
 "nbformat": 4,
 "nbformat_minor": 5
}
