{
 "cells": [
  {
   "cell_type": "code",
   "execution_count": 1,
   "id": "initial_id",
   "metadata": {
    "collapsed": true,
    "ExecuteTime": {
     "end_time": "2024-03-21T18:15:30.718750Z",
     "start_time": "2024-03-21T18:15:28.653747Z"
    }
   },
   "outputs": [],
   "source": [
    "import torch\n",
    "from sklearn.model_selection import train_test_split\n",
    "from models.AST import AST\n",
    "import os\n",
    "import librosa\n",
    "import numpy as np\n",
    "from torchinfo import summary\n",
    "from torch import nn\n",
    "from torch.optim import Adam\n",
    "from Utils import create_dataloader, k_fold_cross_validation"
   ]
  },
  {
   "cell_type": "markdown",
   "source": [
    "# limit GPU usage"
   ],
   "metadata": {
    "collapsed": false
   },
   "id": "c11fc8c9ca3ab4ed"
  },
  {
   "cell_type": "code",
   "outputs": [],
   "source": [
    "torch.cuda.set_per_process_memory_fraction(0.625)"
   ],
   "metadata": {
    "collapsed": false,
    "ExecuteTime": {
     "end_time": "2024-03-21T18:15:30.843753Z",
     "start_time": "2024-03-21T18:15:30.719750Z"
    }
   },
   "id": "d76e1eb1ca9e4fe9",
   "execution_count": 2
  },
  {
   "cell_type": "markdown",
   "source": [
    "# Read Data "
   ],
   "metadata": {
    "collapsed": false
   },
   "id": "35bfab0a09f68507"
  },
  {
   "cell_type": "code",
   "outputs": [
    {
     "name": "stdout",
     "output_type": "stream",
     "text": [
      "finsh reading data\n"
     ]
    }
   ],
   "source": [
    "root = '../Data/genres_original'\n",
    "genres = os.listdir(root)\n",
    "x = []\n",
    "y = []\n",
    "length = []\n",
    "sr = 16*1000\n",
    "for genre in genres:\n",
    "    genre_root = os.path.join(root, genre)\n",
    "    audios = os.listdir(genre_root)\n",
    "    for audio in audios:\n",
    "        audio_path = os.path.join(genre_root, audio)\n",
    "        signal, sr = librosa.load(audio_path, sr=sr)\n",
    "        x.append(signal)\n",
    "        length.append(len(signal))\n",
    "        y.append(genres.index(genre))\n",
    "min_length = min(length)\n",
    "print(\"finsh reading data\")"
   ],
   "metadata": {
    "collapsed": false,
    "ExecuteTime": {
     "end_time": "2024-03-21T18:15:36.509828Z",
     "start_time": "2024-03-21T18:15:30.843753Z"
    }
   },
   "id": "f6d4684e6aca316b",
   "execution_count": 3
  },
  {
   "cell_type": "markdown",
   "source": [
    "# Conversion and Compression"
   ],
   "metadata": {
    "collapsed": false
   },
   "id": "abee602f31169a9e"
  },
  {
   "cell_type": "code",
   "outputs": [
    {
     "name": "stdout",
     "output_type": "stream",
     "text": [
      "finish conversion and compression\n"
     ]
    }
   ],
   "source": [
    "top_db = 80\n",
    "for i in range(len(x)):\n",
    "    signal = x[i][:min_length]\n",
    "    mel_spect = librosa.feature.melspectrogram(y=signal,sr=sr) # convert signals to mel spectrogram\n",
    "    mel_spect = librosa.power_to_db(mel_spect, ref=np.max) # log compression\n",
    "    x[i] = mel_spect/-top_db\n",
    "print(\"finish conversion and compression\")"
   ],
   "metadata": {
    "collapsed": false,
    "ExecuteTime": {
     "end_time": "2024-03-21T18:15:49.044183Z",
     "start_time": "2024-03-21T18:15:36.510826Z"
    }
   },
   "id": "10d08606be2ee6a5",
   "execution_count": 4
  },
  {
   "cell_type": "markdown",
   "source": [
    "# Split Data"
   ],
   "metadata": {
    "collapsed": false
   },
   "id": "5f5a457feb048e00"
  },
  {
   "cell_type": "code",
   "outputs": [
    {
     "name": "stdout",
     "output_type": "stream",
     "text": [
      "finish splitting data\n"
     ]
    }
   ],
   "source": [
    "x = np.asarray(x)\n",
    "x = x.transpose((0,2,1))\n",
    "y = np.asarray(y)\n",
    "x_train, x_test, y_train, y_test = train_test_split(x, y, test_size=0.2,\n",
    "                                                    stratify=y,shuffle=True)\n",
    "# k-fold cross validation\n",
    "k = 5\n",
    "xs_train, ys_train, xs_valid, ys_valid = k_fold_cross_validation(x_train,y_train,k)\n",
    "print(\"finish splitting data\")"
   ],
   "metadata": {
    "collapsed": false,
    "ExecuteTime": {
     "end_time": "2024-03-21T18:15:49.426140Z",
     "start_time": "2024-03-21T18:15:49.045209Z"
    }
   },
   "id": "df2254735832f87e",
   "execution_count": 5
  },
  {
   "cell_type": "code",
   "outputs": [
    {
     "name": "stdout",
     "output_type": "stream",
     "text": [
      "finish creating dataloaders\n"
     ]
    }
   ],
   "source": [
    "batch_size = 16\n",
    "dataloaders_train = []\n",
    "dataloaders_valid = []\n",
    "for i in range(k):\n",
    "    dataloaders_train.append(create_dataloader(xs_train[i], ys_train[i], batch_size=batch_size))\n",
    "    dataloaders_valid.append(create_dataloader(xs_valid[i], ys_valid[i], batch_size=batch_size))\n",
    "dataloader_test = create_dataloader(x_test, y_test, batch_size=batch_size)\n",
    "print(\"finish creating dataloaders\")"
   ],
   "metadata": {
    "collapsed": false,
    "ExecuteTime": {
     "end_time": "2024-03-21T18:15:49.930144Z",
     "start_time": "2024-03-21T18:15:49.427140Z"
    }
   },
   "id": "b6af9344bf4293da",
   "execution_count": 6
  },
  {
   "cell_type": "code",
   "outputs": [
    {
     "name": "stdout",
     "output_type": "stream",
     "text": [
      "frequncey stride=10, time stride=10\n",
      "number of patches=1116\n"
     ]
    },
    {
     "name": "stderr",
     "output_type": "stream",
     "text": [
      "E:\\learning\\master\\1.2\\COMP47700SA\\Music-Genre-Classification\\venv\\lib\\site-packages\\timm\\models\\vision_transformer.py:91: UserWarning: 1Torch was not compiled with flash attention. (Triggered internally at ..\\aten\\src\\ATen\\native\\transformers\\cuda\\sdp_utils.cpp:263.)\n",
      "  x = F.scaled_dot_product_attention(\n"
     ]
    },
    {
     "data": {
      "text/plain": "===============================================================================================\nLayer (type:depth-idx)                        Output Shape              Param #\n===============================================================================================\nAST                                           [16, 10]                  --\n├─VisionTransformerDistilled: 1-1             --                        2,398,160\n│    └─ASTPatchEmbed: 2-1                     [16, 1116, 768]           --\n│    │    └─Conv2d: 3-1                       [16, 768, 12, 93]         197,376\n│    └─Dropout: 2-2                           [16, 1118, 768]           --\n│    └─Sequential: 2-3                        --                        --\n│    │    └─Block: 3-2                        [16, 1118, 768]           7,087,872\n│    │    └─Block: 3-3                        [16, 1118, 768]           7,087,872\n│    │    └─Block: 3-4                        [16, 1118, 768]           7,087,872\n│    │    └─Block: 3-5                        [16, 1118, 768]           7,087,872\n│    │    └─Block: 3-6                        [16, 1118, 768]           7,087,872\n│    │    └─Block: 3-7                        [16, 1118, 768]           7,087,872\n│    │    └─Block: 3-8                        [16, 1118, 768]           7,087,872\n│    │    └─Block: 3-9                        [16, 1118, 768]           7,087,872\n│    │    └─Block: 3-10                       [16, 1118, 768]           7,087,872\n│    │    └─Block: 3-11                       [16, 1118, 768]           7,087,872\n│    │    └─Block: 3-12                       [16, 1118, 768]           7,087,872\n│    │    └─Block: 3-13                       [16, 1118, 768]           7,087,872\n│    └─LayerNorm: 2-4                         [16, 1118, 768]           1,536\n├─Sequential: 1-2                             [16, 10]                  --\n│    └─LayerNorm: 2-5                         [16, 768]                 1,536\n│    └─Linear: 2-6                            [16, 10]                  7,690\n===============================================================================================\nTotal params: 87,660,762\nTrainable params: 87,660,762\nNon-trainable params: 0\nTotal mult-adds (G): 4.89\n===============================================================================================\nInput size (MB): 7.67\nForward/backward pass size (MB): 8737.36\nParams size (MB): 341.05\nEstimated Total Size (MB): 9086.08\n==============================================================================================="
     },
     "execution_count": 7,
     "metadata": {},
     "output_type": "execute_result"
    }
   ],
   "source": [
    "model = AST(10,input_fdim=x.shape[2],input_tdim=x.shape[1])\n",
    "model.cuda()\n",
    "loss_function = nn.CrossEntropyLoss()\n",
    "opt = Adam(model.parameters(), lr=0.001)\n",
    "summary(model,[(16,x.shape[1],x.shape[2])])"
   ],
   "metadata": {
    "collapsed": false,
    "ExecuteTime": {
     "end_time": "2024-03-21T18:15:51.080371Z",
     "start_time": "2024-03-21T18:15:49.931141Z"
    }
   },
   "id": "8ac890d4d4ca0df0",
   "execution_count": 7
  },
  {
   "cell_type": "code",
   "outputs": [
    {
     "name": "stdout",
     "output_type": "stream",
     "text": [
      "-------epoch  1 -------\n",
      "fold 1:\n",
      "train set loss: 2.692578125\n",
      "train set accuracy: 0.10000000149011612\n",
      "valid set loss: 2.3814453125\n",
      "valid set accuracy: 0.10625000298023224\n",
      "fold 2:\n",
      "train set loss: 2.368701171875\n",
      "train set accuracy: 0.0859375\n",
      "valid set loss: 2.3462890625\n",
      "valid set accuracy: 0.08125000447034836\n",
      "fold 3:\n",
      "train set loss: 2.36455078125\n",
      "train set accuracy: 0.12031250447034836\n",
      "valid set loss: 2.3779296875\n",
      "valid set accuracy: 0.10000000149011612\n",
      "fold 4:\n",
      "train set loss: 2.3572265625\n",
      "train set accuracy: 0.10468750447034836\n",
      "valid set loss: 2.371875\n",
      "valid set accuracy: 0.08749999850988388\n",
      "fold 5:\n",
      "train set loss: 2.342822265625\n",
      "train set accuracy: 0.10625000298023224\n",
      "valid set loss: 2.3400390625\n",
      "valid set accuracy: 0.05625000223517418\n",
      "-------epoch  2 -------\n",
      "fold 1:\n",
      "train set loss: 2.33037109375\n",
      "train set accuracy: 0.11874999850988388\n",
      "valid set loss: 2.32734375\n",
      "valid set accuracy: 0.13125000894069672\n",
      "fold 2:\n",
      "train set loss: 2.27978515625\n",
      "train set accuracy: 0.12812499701976776\n",
      "valid set loss: 2.2421875\n",
      "valid set accuracy: 0.20624999701976776\n",
      "fold 3:\n",
      "train set loss: 2.2489013671875\n",
      "train set accuracy: 0.13593749701976776\n",
      "valid set loss: 2.23046875\n",
      "valid set accuracy: 0.18125000596046448\n",
      "fold 4:\n",
      "train set loss: 2.2193359375\n",
      "train set accuracy: 0.17031250894069672\n",
      "valid set loss: 2.2669921875\n",
      "valid set accuracy: 0.13125000894069672\n",
      "fold 5:\n",
      "train set loss: 2.2907470703125\n",
      "train set accuracy: 0.17031250894069672\n",
      "valid set loss: 2.327734375\n",
      "valid set accuracy: 0.09375\n",
      "-------epoch  3 -------\n",
      "fold 1:\n",
      "train set loss: 2.274658203125\n",
      "train set accuracy: 0.13437500596046448\n",
      "valid set loss: 2.18349609375\n",
      "valid set accuracy: 0.16250000894069672\n",
      "fold 2:\n",
      "train set loss: 2.252294921875\n",
      "train set accuracy: 0.15781250596046448\n",
      "valid set loss: 2.1224609375\n",
      "valid set accuracy: 0.21250000596046448\n",
      "fold 3:\n",
      "train set loss: 2.1768798828125\n",
      "train set accuracy: 0.18281249701976776\n",
      "valid set loss: 2.19970703125\n",
      "valid set accuracy: 0.11874999850988388\n",
      "fold 4:\n",
      "train set loss: 2.1430419921875\n",
      "train set accuracy: 0.21562500298023224\n",
      "valid set loss: 2.200390625\n",
      "valid set accuracy: 0.19375000894069672\n",
      "fold 5:\n",
      "train set loss: 2.140576171875\n",
      "train set accuracy: 0.19062499701976776\n",
      "valid set loss: 2.0837890625\n",
      "valid set accuracy: 0.22500000894069672\n",
      "-------epoch  4 -------\n",
      "fold 1:\n",
      "train set loss: 2.1206787109375\n",
      "train set accuracy: 0.22343750298023224\n",
      "valid set loss: 2.06318359375\n",
      "valid set accuracy: 0.22500000894069672\n",
      "fold 2:\n",
      "train set loss: 2.1225341796875\n",
      "train set accuracy: 0.22500000894069672\n",
      "valid set loss: 2.1666015625\n",
      "valid set accuracy: 0.21250000596046448\n",
      "fold 3:\n"
     ]
    },
    {
     "ename": "KeyboardInterrupt",
     "evalue": "",
     "output_type": "error",
     "traceback": [
      "\u001B[1;31m---------------------------------------------------------------------------\u001B[0m",
      "\u001B[1;31mKeyboardInterrupt\u001B[0m                         Traceback (most recent call last)",
      "Cell \u001B[1;32mIn[8], line 15\u001B[0m\n\u001B[0;32m     13\u001B[0m loss\u001B[38;5;241m.\u001B[39mbackward()\n\u001B[0;32m     14\u001B[0m opt\u001B[38;5;241m.\u001B[39mstep()\n\u001B[1;32m---> 15\u001B[0m loss_train \u001B[38;5;241m+\u001B[39m\u001B[38;5;241m=\u001B[39m \u001B[43mloss\u001B[49m\u001B[38;5;241;43m.\u001B[39;49m\u001B[43mitem\u001B[49m\u001B[43m(\u001B[49m\u001B[43m)\u001B[49m\u001B[38;5;241m*\u001B[39m\u001B[38;5;28mlen\u001B[39m(data)\n\u001B[0;32m     16\u001B[0m accuracy \u001B[38;5;241m=\u001B[39m (output\u001B[38;5;241m.\u001B[39margmax(\u001B[38;5;241m1\u001B[39m) \u001B[38;5;241m==\u001B[39m target)\u001B[38;5;241m.\u001B[39msum()\n\u001B[0;32m     17\u001B[0m accuracy_train \u001B[38;5;241m+\u001B[39m\u001B[38;5;241m=\u001B[39m accuracy\n",
      "\u001B[1;31mKeyboardInterrupt\u001B[0m: "
     ]
    }
   ],
   "source": [
    "for i in range(10):\n",
    "    print(\"-------epoch  {} -------\".format(i + 1))\n",
    "    for j in range(k):\n",
    "        print(f'fold {j+1}:')\n",
    "        loss_train = 0\n",
    "        accuracy_train = 0\n",
    "        train_size = 0\n",
    "        for batch_idx, (data, target) in enumerate(dataloaders_train[j]):\n",
    "            model.train()\n",
    "            output = model(data)\n",
    "            loss = loss_function(output, target)\n",
    "            opt.zero_grad()\n",
    "            loss.backward()\n",
    "            opt.step()\n",
    "            loss_train += loss.item()*len(data)\n",
    "            accuracy = (output.argmax(1) == target).sum()\n",
    "            accuracy_train += accuracy\n",
    "            train_size += len(data)\n",
    "        print(\"train set loss: {}\".format(loss_train/train_size))\n",
    "        print(\"train set accuracy: {}\".format(accuracy_train /train_size))\n",
    "\n",
    "        loss_valid = 0\n",
    "        accuracy_valid = 0\n",
    "        valid_size = 0\n",
    "        for batch_idx, (data, target) in enumerate(dataloaders_valid[j]):\n",
    "            model.eval()\n",
    "            with torch.no_grad():\n",
    "                output = model(data)\n",
    "                loss = loss_function(output, target)\n",
    "                loss_valid += loss.item()*len(data)\n",
    "                accuracy = (output.argmax(1) == target).sum()\n",
    "                accuracy_valid += accuracy\n",
    "                valid_size += len(data)\n",
    "        print(\"valid set loss: {}\".format(loss_valid/valid_size))\n",
    "        print(\"valid set accuracy: {}\".format(accuracy_valid/valid_size))\n",
    "print(\"finish training\")"
   ],
   "metadata": {
    "collapsed": false,
    "ExecuteTime": {
     "end_time": "2024-03-21T18:20:47.556350Z",
     "start_time": "2024-03-21T18:15:51.081371Z"
    }
   },
   "id": "f337739ec944959",
   "execution_count": 8
  }
 ],
 "metadata": {
  "kernelspec": {
   "display_name": "Python 3",
   "language": "python",
   "name": "python3"
  },
  "language_info": {
   "codemirror_mode": {
    "name": "ipython",
    "version": 2
   },
   "file_extension": ".py",
   "mimetype": "text/x-python",
   "name": "python",
   "nbconvert_exporter": "python",
   "pygments_lexer": "ipython2",
   "version": "2.7.6"
  }
 },
 "nbformat": 4,
 "nbformat_minor": 5
}
