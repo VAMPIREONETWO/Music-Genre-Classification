{
 "cells": [
  {
   "cell_type": "code",
   "execution_count": 12,
   "id": "initial_id",
   "metadata": {
    "collapsed": true,
    "ExecuteTime": {
     "end_time": "2024-04-02T16:13:39.062190Z",
     "start_time": "2024-04-02T16:13:38.793186Z"
    }
   },
   "outputs": [],
   "source": [
    "from sklearn.model_selection import train_test_split\n",
    "from models.AST import AST\n",
    "import librosa\n",
    "import numpy as np\n",
    "from torchinfo import summary\n",
    "from torch import nn\n",
    "from torch.optim import Adam\n",
    "from Utils import read_data,create_dataloader, k_fold_cross_validation, train, test\n",
    "import matplotlib.pyplot as plt"
   ]
  },
  {
   "cell_type": "markdown",
   "source": [
    "# Read Data "
   ],
   "metadata": {
    "collapsed": false
   },
   "id": "35bfab0a09f68507"
  },
  {
   "cell_type": "code",
   "outputs": [
    {
     "name": "stdout",
     "output_type": "stream",
     "text": [
      "finsh reading data\n"
     ]
    }
   ],
   "source": [
    "sr = 16 * 1000\n",
    "x,y,min_length = read_data(root='../Data/genres_original', sr=sr)\n",
    "print(\"finsh reading data\")"
   ],
   "metadata": {
    "collapsed": false,
    "ExecuteTime": {
     "end_time": "2024-04-02T15:54:31.563572Z",
     "start_time": "2024-04-02T15:54:24.027466Z"
    }
   },
   "id": "f6d4684e6aca316b",
   "execution_count": 3
  },
  {
   "cell_type": "markdown",
   "source": [
    "# Conversion, Compression and Normalisation"
   ],
   "metadata": {
    "collapsed": false
   },
   "id": "abee602f31169a9e"
  },
  {
   "cell_type": "code",
   "outputs": [
    {
     "name": "stdout",
     "output_type": "stream",
     "text": [
      "finish conversion and compression\n"
     ]
    }
   ],
   "source": [
    "top_db = 80\n",
    "for i in range(len(x)):\n",
    "    signal = x[i][:min_length]\n",
    "    mel_spect = librosa.feature.melspectrogram(y=signal,sr=sr,n_fft=1024) # convert signals to mel spectrogram\n",
    "    mel_spect = librosa.power_to_db(mel_spect, ref=np.max, top_db=top_db) # log compression\n",
    "    x[i] = mel_spect/-top_db # normalisation\n",
    "print(\"finish conversion and compression\")"
   ],
   "metadata": {
    "collapsed": false,
    "ExecuteTime": {
     "end_time": "2024-04-02T15:54:40.973744Z",
     "start_time": "2024-04-02T15:54:31.564458Z"
    }
   },
   "id": "10d08606be2ee6a5",
   "execution_count": 4
  },
  {
   "cell_type": "markdown",
   "source": [
    "# Split Data"
   ],
   "metadata": {
    "collapsed": false
   },
   "id": "5f5a457feb048e00"
  },
  {
   "cell_type": "code",
   "outputs": [
    {
     "name": "stdout",
     "output_type": "stream",
     "text": [
      "(1000, 936, 128)\n"
     ]
    }
   ],
   "source": [
    "x = np.asarray(x)\n",
    "x = x.transpose((0,2,1))\n",
    "y = np.asarray(y)\n",
    "print(x.shape)"
   ],
   "metadata": {
    "collapsed": false,
    "ExecuteTime": {
     "end_time": "2024-04-02T15:54:41.097742Z",
     "start_time": "2024-04-02T15:54:40.974742Z"
    }
   },
   "id": "e4568465986543d",
   "execution_count": 5
  },
  {
   "cell_type": "code",
   "outputs": [
    {
     "name": "stdout",
     "output_type": "stream",
     "text": [
      "finish splitting data\n"
     ]
    }
   ],
   "source": [
    "x_train, x_test, y_train, y_test = train_test_split(x, y, test_size=0.2,\n",
    "                                                    stratify=y,shuffle=True)\n",
    "# k-fold cross validation\n",
    "k = 5\n",
    "xs_train, ys_train, xs_valid, ys_valid = k_fold_cross_validation(x_train,y_train,k)\n",
    "print(\"finish splitting data\")"
   ],
   "metadata": {
    "collapsed": false,
    "ExecuteTime": {
     "end_time": "2024-04-02T15:54:41.392809Z",
     "start_time": "2024-04-02T15:54:41.098742Z"
    }
   },
   "id": "df2254735832f87e",
   "execution_count": 6
  },
  {
   "cell_type": "markdown",
   "source": [
    "# Create Dataloaders"
   ],
   "metadata": {
    "collapsed": false
   },
   "id": "aaa7535d8cb71119"
  },
  {
   "cell_type": "code",
   "outputs": [
    {
     "name": "stdout",
     "output_type": "stream",
     "text": [
      "finish creating dataloaders\n"
     ]
    }
   ],
   "source": [
    "batch_size = 16\n",
    "dataloaders_train = []\n",
    "dataloaders_valid = []\n",
    "for i in range(k):\n",
    "    dataloaders_train.append(create_dataloader(xs_train[i], ys_train[i], batch_size=batch_size))\n",
    "    dataloaders_valid.append(create_dataloader(xs_valid[i], ys_valid[i], batch_size=batch_size))\n",
    "dataloader_test = create_dataloader(x_test, y_test, batch_size=batch_size)\n",
    "print(\"finish creating dataloaders\")"
   ],
   "metadata": {
    "collapsed": false,
    "ExecuteTime": {
     "end_time": "2024-04-02T15:54:41.625741Z",
     "start_time": "2024-04-02T15:54:41.393742Z"
    }
   },
   "id": "b6af9344bf4293da",
   "execution_count": 7
  },
  {
   "cell_type": "markdown",
   "source": [
    "# Model Construction"
   ],
   "metadata": {
    "collapsed": false
   },
   "id": "335dc683bb978cc8"
  },
  {
   "cell_type": "code",
   "outputs": [
    {
     "name": "stdout",
     "output_type": "stream",
     "text": [
      "frequncey stride=10, time stride=10\n",
      "number of patches=1116\n"
     ]
    },
    {
     "name": "stderr",
     "output_type": "stream",
     "text": [
      "E:\\learning\\master\\1.2\\COMP47700SA\\Music-Genre-Classification\\venv\\lib\\site-packages\\timm\\models\\vision_transformer.py:91: UserWarning: 1Torch was not compiled with flash attention. (Triggered internally at ..\\aten\\src\\ATen\\native\\transformers\\cuda\\sdp_utils.cpp:263.)\n",
      "  x = F.scaled_dot_product_attention(\n"
     ]
    },
    {
     "data": {
      "text/plain": "==========================================================================================\nLayer (type:depth-idx)                   Output Shape              Param #\n==========================================================================================\nAST                                      [16, 10]                  2,398,160\n├─VisionTransformerDistilled: 1-3        --                        (recursive)\n│    └─ASTPatchEmbed: 2-1                [16, 1116, 768]           --\n│    │    └─Conv2d: 3-1                  [16, 768, 12, 93]         197,376\n│    └─Dropout: 2-2                      [16, 1118, 768]           --\n├─ModuleList: 1-2                        --                        --\n│    └─Block: 2-3                        [16, 1118, 768]           --\n│    │    └─LayerNorm: 3-2               [16, 1118, 768]           1,536\n│    │    └─Attention: 3-3               [16, 1118, 768]           2,362,368\n│    │    └─Identity: 3-4                [16, 1118, 768]           --\n│    │    └─Identity: 3-5                [16, 1118, 768]           --\n│    │    └─LayerNorm: 3-6               [16, 1118, 768]           1,536\n│    │    └─Mlp: 3-7                     [16, 1118, 768]           4,722,432\n│    │    └─Identity: 3-8                [16, 1118, 768]           --\n│    │    └─Identity: 3-9                [16, 1118, 768]           --\n│    └─Block: 2-4                        [16, 1118, 768]           --\n│    │    └─LayerNorm: 3-10              [16, 1118, 768]           1,536\n│    │    └─Attention: 3-11              [16, 1118, 768]           2,362,368\n│    │    └─Identity: 3-12               [16, 1118, 768]           --\n│    │    └─Identity: 3-13               [16, 1118, 768]           --\n│    │    └─LayerNorm: 3-14              [16, 1118, 768]           1,536\n│    │    └─Mlp: 3-15                    [16, 1118, 768]           4,722,432\n│    │    └─Identity: 3-16               [16, 1118, 768]           --\n│    │    └─Identity: 3-17               [16, 1118, 768]           --\n│    └─Block: 2-5                        [16, 1118, 768]           --\n│    │    └─LayerNorm: 3-18              [16, 1118, 768]           1,536\n│    │    └─Attention: 3-19              [16, 1118, 768]           2,362,368\n│    │    └─Identity: 3-20               [16, 1118, 768]           --\n│    │    └─Identity: 3-21               [16, 1118, 768]           --\n│    │    └─LayerNorm: 3-22              [16, 1118, 768]           1,536\n│    │    └─Mlp: 3-23                    [16, 1118, 768]           4,722,432\n│    │    └─Identity: 3-24               [16, 1118, 768]           --\n│    │    └─Identity: 3-25               [16, 1118, 768]           --\n│    └─Dropout: 2-6                      [16, 1118, 768]           --\n│    └─Block: 2-7                        [16, 1118, 768]           --\n│    │    └─LayerNorm: 3-26              [16, 1118, 768]           1,536\n│    │    └─Attention: 3-27              [16, 1118, 768]           2,362,368\n│    │    └─Identity: 3-28               [16, 1118, 768]           --\n│    │    └─Identity: 3-29               [16, 1118, 768]           --\n│    │    └─LayerNorm: 3-30              [16, 1118, 768]           1,536\n│    │    └─Mlp: 3-31                    [16, 1118, 768]           4,722,432\n│    │    └─Identity: 3-32               [16, 1118, 768]           --\n│    │    └─Identity: 3-33               [16, 1118, 768]           --\n│    └─Block: 2-8                        [16, 1118, 768]           --\n│    │    └─LayerNorm: 3-34              [16, 1118, 768]           1,536\n│    │    └─Attention: 3-35              [16, 1118, 768]           2,362,368\n│    │    └─Identity: 3-36               [16, 1118, 768]           --\n│    │    └─Identity: 3-37               [16, 1118, 768]           --\n│    │    └─LayerNorm: 3-38              [16, 1118, 768]           1,536\n│    │    └─Mlp: 3-39                    [16, 1118, 768]           4,722,432\n│    │    └─Identity: 3-40               [16, 1118, 768]           --\n│    │    └─Identity: 3-41               [16, 1118, 768]           --\n│    └─Block: 2-9                        [16, 1118, 768]           --\n│    │    └─LayerNorm: 3-42              [16, 1118, 768]           1,536\n│    │    └─Attention: 3-43              [16, 1118, 768]           2,362,368\n│    │    └─Identity: 3-44               [16, 1118, 768]           --\n│    │    └─Identity: 3-45               [16, 1118, 768]           --\n│    │    └─LayerNorm: 3-46              [16, 1118, 768]           1,536\n│    │    └─Mlp: 3-47                    [16, 1118, 768]           4,722,432\n│    │    └─Identity: 3-48               [16, 1118, 768]           --\n│    │    └─Identity: 3-49               [16, 1118, 768]           --\n│    └─Dropout: 2-10                     [16, 1118, 768]           --\n│    └─Block: 2-11                       [16, 1118, 768]           --\n│    │    └─LayerNorm: 3-50              [16, 1118, 768]           1,536\n│    │    └─Attention: 3-51              [16, 1118, 768]           2,362,368\n│    │    └─Identity: 3-52               [16, 1118, 768]           --\n│    │    └─Identity: 3-53               [16, 1118, 768]           --\n│    │    └─LayerNorm: 3-54              [16, 1118, 768]           1,536\n│    │    └─Mlp: 3-55                    [16, 1118, 768]           4,722,432\n│    │    └─Identity: 3-56               [16, 1118, 768]           --\n│    │    └─Identity: 3-57               [16, 1118, 768]           --\n│    └─Block: 2-12                       [16, 1118, 768]           --\n│    │    └─LayerNorm: 3-58              [16, 1118, 768]           1,536\n│    │    └─Attention: 3-59              [16, 1118, 768]           2,362,368\n│    │    └─Identity: 3-60               [16, 1118, 768]           --\n│    │    └─Identity: 3-61               [16, 1118, 768]           --\n│    │    └─LayerNorm: 3-62              [16, 1118, 768]           1,536\n│    │    └─Mlp: 3-63                    [16, 1118, 768]           4,722,432\n│    │    └─Identity: 3-64               [16, 1118, 768]           --\n│    │    └─Identity: 3-65               [16, 1118, 768]           --\n│    └─Block: 2-13                       [16, 1118, 768]           --\n│    │    └─LayerNorm: 3-66              [16, 1118, 768]           1,536\n│    │    └─Attention: 3-67              [16, 1118, 768]           2,362,368\n│    │    └─Identity: 3-68               [16, 1118, 768]           --\n│    │    └─Identity: 3-69               [16, 1118, 768]           --\n│    │    └─LayerNorm: 3-70              [16, 1118, 768]           1,536\n│    │    └─Mlp: 3-71                    [16, 1118, 768]           4,722,432\n│    │    └─Identity: 3-72               [16, 1118, 768]           --\n│    │    └─Identity: 3-73               [16, 1118, 768]           --\n│    └─Dropout: 2-14                     [16, 1118, 768]           --\n│    └─Block: 2-15                       [16, 1118, 768]           --\n│    │    └─LayerNorm: 3-74              [16, 1118, 768]           1,536\n│    │    └─Attention: 3-75              [16, 1118, 768]           2,362,368\n│    │    └─Identity: 3-76               [16, 1118, 768]           --\n│    │    └─Identity: 3-77               [16, 1118, 768]           --\n│    │    └─LayerNorm: 3-78              [16, 1118, 768]           1,536\n│    │    └─Mlp: 3-79                    [16, 1118, 768]           4,722,432\n│    │    └─Identity: 3-80               [16, 1118, 768]           --\n│    │    └─Identity: 3-81               [16, 1118, 768]           --\n│    └─Block: 2-16                       [16, 1118, 768]           --\n│    │    └─LayerNorm: 3-82              [16, 1118, 768]           1,536\n│    │    └─Attention: 3-83              [16, 1118, 768]           2,362,368\n│    │    └─Identity: 3-84               [16, 1118, 768]           --\n│    │    └─Identity: 3-85               [16, 1118, 768]           --\n│    │    └─LayerNorm: 3-86              [16, 1118, 768]           1,536\n│    │    └─Mlp: 3-87                    [16, 1118, 768]           4,722,432\n│    │    └─Identity: 3-88               [16, 1118, 768]           --\n│    │    └─Identity: 3-89               [16, 1118, 768]           --\n│    └─Block: 2-17                       [16, 1118, 768]           --\n│    │    └─LayerNorm: 3-90              [16, 1118, 768]           1,536\n│    │    └─Attention: 3-91              [16, 1118, 768]           2,362,368\n│    │    └─Identity: 3-92               [16, 1118, 768]           --\n│    │    └─Identity: 3-93               [16, 1118, 768]           --\n│    │    └─LayerNorm: 3-94              [16, 1118, 768]           1,536\n│    │    └─Mlp: 3-95                    [16, 1118, 768]           4,722,432\n│    │    └─Identity: 3-96               [16, 1118, 768]           --\n│    │    └─Identity: 3-97               [16, 1118, 768]           --\n│    └─Dropout: 2-18                     [16, 1118, 768]           --\n├─VisionTransformerDistilled: 1-3        --                        (recursive)\n│    └─LayerNorm: 2-19                   [16, 1118, 768]           1,536\n├─Sequential: 1-4                        [16, 10]                  --\n│    └─LayerNorm: 2-20                   [16, 768]                 1,536\n│    └─Linear: 2-21                      [16, 10]                  7,690\n│    └─BatchNorm1d: 2-22                 [16, 10]                  20\n│    └─Sigmoid: 2-23                     [16, 10]                  --\n==========================================================================================\nTotal params: 87,660,782\nTrainable params: 87,660,782\nNon-trainable params: 0\nTotal mult-adds (G): 4.89\n==========================================================================================\nInput size (MB): 7.67\nForward/backward pass size (MB): 8737.36\nParams size (MB): 341.05\nEstimated Total Size (MB): 9086.08\n=========================================================================================="
     },
     "execution_count": 8,
     "metadata": {},
     "output_type": "execute_result"
    }
   ],
   "source": [
    "model = AST(10,input_fdim=x.shape[2],input_tdim=x.shape[1])\n",
    "model.cuda()\n",
    "loss_function = nn.CrossEntropyLoss()\n",
    "opt = Adam(model.parameters(), lr=1e-5)\n",
    "summary(model,[(batch_size,x.shape[1],x.shape[2])])"
   ],
   "metadata": {
    "collapsed": false,
    "ExecuteTime": {
     "end_time": "2024-04-02T15:54:43.658749Z",
     "start_time": "2024-04-02T15:54:41.626741Z"
    }
   },
   "id": "8ac890d4d4ca0df0",
   "execution_count": 8
  },
  {
   "cell_type": "markdown",
   "source": [
    "# Train"
   ],
   "metadata": {
    "collapsed": false
   },
   "id": "7e7a30a5decf3c8a"
  },
  {
   "cell_type": "code",
   "outputs": [
    {
     "name": "stdout",
     "output_type": "stream",
     "text": [
      "-------epoch  1 -------\n",
      "fold 1:\n",
      "train set loss: 2.31220703125\n",
      "train set accuracy: 0.1171875\n",
      "valid set loss: 2.247265625\n",
      "valid set accuracy: 0.16875000298023224\n",
      "fold 2:\n",
      "train set loss: 2.275390625\n",
      "train set accuracy: 0.1484375\n",
      "valid set loss: 2.170703125\n",
      "valid set accuracy: 0.35625001788139343\n",
      "fold 3:\n",
      "train set loss: 2.2361328125\n",
      "train set accuracy: 0.19218750298023224\n",
      "valid set loss: 2.098828125\n",
      "valid set accuracy: 0.48125001788139343\n",
      "fold 4:\n",
      "train set loss: 2.201953125\n",
      "train set accuracy: 0.2109375\n",
      "valid set loss: 2.07841796875\n",
      "valid set accuracy: 0.36250001192092896\n",
      "fold 5:\n",
      "train set loss: 2.16962890625\n",
      "train set accuracy: 0.28125\n",
      "valid set loss: 2.0521484375\n",
      "valid set accuracy: 0.41875001788139343\n",
      "epoch loss: 2.129\n",
      "epoch accuracy: 0.358\n",
      "-------epoch  2 -------\n",
      "fold 1:\n",
      "train set loss: 2.146728515625\n",
      "train set accuracy: 0.3046875\n",
      "valid set loss: 2.02841796875\n",
      "valid set accuracy: 0.45625001192092896\n",
      "fold 2:\n",
      "train set loss: 2.1162109375\n",
      "train set accuracy: 0.34687501192092896\n",
      "valid set loss: 2.04091796875\n",
      "valid set accuracy: 0.45000001788139343\n",
      "fold 3:\n",
      "train set loss: 2.121240234375\n",
      "train set accuracy: 0.3515625\n",
      "valid set loss: 2.01708984375\n",
      "valid set accuracy: 0.4124999940395355\n",
      "fold 4:\n",
      "train set loss: 2.105615234375\n",
      "train set accuracy: 0.37812501192092896\n",
      "valid set loss: 1.984765625\n",
      "valid set accuracy: 0.5062500238418579\n",
      "fold 5:\n",
      "train set loss: 2.08154296875\n",
      "train set accuracy: 0.4609375\n",
      "valid set loss: 1.98232421875\n",
      "valid set accuracy: 0.4437499940395355\n",
      "epoch loss: 2.011\n",
      "epoch accuracy: 0.454\n",
      "-------epoch  3 -------\n",
      "fold 1:\n",
      "train set loss: 2.079833984375\n",
      "train set accuracy: 0.4281249940395355\n",
      "valid set loss: 1.956640625\n",
      "valid set accuracy: 0.53125\n",
      "fold 2:\n",
      "train set loss: 2.064794921875\n",
      "train set accuracy: 0.4765625\n",
      "valid set loss: 1.967578125\n",
      "valid set accuracy: 0.53125\n",
      "fold 3:\n",
      "train set loss: 2.063427734375\n",
      "train set accuracy: 0.4546875059604645\n",
      "valid set loss: 1.93232421875\n",
      "valid set accuracy: 0.59375\n",
      "fold 4:\n",
      "train set loss: 2.0462890625\n",
      "train set accuracy: 0.518750011920929\n",
      "valid set loss: 1.9423828125\n",
      "valid set accuracy: 0.6187500357627869\n",
      "fold 5:\n",
      "train set loss: 2.0425537109375\n",
      "train set accuracy: 0.546875\n",
      "valid set loss: 1.94921875\n",
      "valid set accuracy: 0.518750011920929\n",
      "epoch loss: 1.95\n",
      "epoch accuracy: 0.559\n",
      "-------epoch  4 -------\n",
      "fold 1:\n",
      "train set loss: 2.0385498046875\n",
      "train set accuracy: 0.5484375357627869\n",
      "valid set loss: 1.9115234375\n",
      "valid set accuracy: 0.643750011920929\n",
      "fold 2:\n",
      "train set loss: 2.0295654296875\n",
      "train set accuracy: 0.5843750238418579\n",
      "valid set loss: 1.9197265625\n",
      "valid set accuracy: 0.581250011920929\n",
      "fold 3:\n",
      "train set loss: 2.024609375\n",
      "train set accuracy: 0.582812488079071\n",
      "valid set loss: 1.92666015625\n",
      "valid set accuracy: 0.668749988079071\n",
      "fold 4:\n",
      "train set loss: 2.007080078125\n",
      "train set accuracy: 0.6265625357627869\n",
      "valid set loss: 1.8908203125\n",
      "valid set accuracy: 0.6937500238418579\n",
      "fold 5:\n",
      "train set loss: 1.999658203125\n",
      "train set accuracy: 0.6187500357627869\n",
      "valid set loss: 1.90712890625\n",
      "valid set accuracy: 0.625\n",
      "epoch loss: 1.911\n",
      "epoch accuracy: 0.643\n",
      "-------epoch  5 -------\n",
      "fold 1:\n",
      "train set loss: 2.0056884765625\n",
      "train set accuracy: 0.6156250238418579\n",
      "valid set loss: 1.88798828125\n",
      "valid set accuracy: 0.6312500238418579\n",
      "fold 2:\n",
      "train set loss: 1.99482421875\n",
      "train set accuracy: 0.659375011920929\n",
      "valid set loss: 1.8931640625\n",
      "valid set accuracy: 0.65625\n",
      "fold 3:\n",
      "train set loss: 1.9964599609375\n",
      "train set accuracy: 0.6656250357627869\n",
      "valid set loss: 1.87060546875\n",
      "valid set accuracy: 0.71875\n",
      "fold 4:\n",
      "train set loss: 1.9721923828125\n",
      "train set accuracy: 0.7046875357627869\n",
      "valid set loss: 1.88330078125\n",
      "valid set accuracy: 0.7250000238418579\n",
      "fold 5:\n",
      "train set loss: 1.966162109375\n",
      "train set accuracy: 0.706250011920929\n",
      "valid set loss: 1.86796875\n",
      "valid set accuracy: 0.7250000238418579\n",
      "epoch loss: 1.881\n",
      "epoch accuracy: 0.691\n",
      "-------epoch  6 -------\n",
      "fold 1:\n",
      "train set loss: 1.9711669921875\n",
      "train set accuracy: 0.7171875238418579\n",
      "valid set loss: 1.8615234375\n",
      "valid set accuracy: 0.71875\n",
      "fold 2:\n",
      "train set loss: 1.966064453125\n",
      "train set accuracy: 0.6953125\n",
      "valid set loss: 1.86123046875\n",
      "valid set accuracy: 0.7250000238418579\n",
      "fold 3:\n",
      "train set loss: 1.9635009765625\n",
      "train set accuracy: 0.7265625\n",
      "valid set loss: 1.92041015625\n",
      "valid set accuracy: 0.574999988079071\n",
      "fold 4:\n",
      "train set loss: 1.9552734375\n",
      "train set accuracy: 0.739062488079071\n",
      "valid set loss: 1.85712890625\n",
      "valid set accuracy: 0.7750000357627869\n",
      "fold 5:\n",
      "train set loss: 1.9464111328125\n",
      "train set accuracy: 0.7828125357627869\n",
      "valid set loss: 1.85673828125\n",
      "valid set accuracy: 0.800000011920929\n",
      "epoch loss: 1.871\n",
      "epoch accuracy: 0.719\n",
      "-------epoch  7 -------\n",
      "fold 1:\n",
      "train set loss: 1.94951171875\n",
      "train set accuracy: 0.7593750357627869\n",
      "valid set loss: 1.827734375\n",
      "valid set accuracy: 0.8125\n",
      "fold 2:\n",
      "train set loss: 1.9403564453125\n",
      "train set accuracy: 0.785937488079071\n",
      "valid set loss: 1.84794921875\n",
      "valid set accuracy: 0.8062500357627869\n",
      "fold 3:\n",
      "train set loss: 1.94384765625\n",
      "train set accuracy: 0.7734375\n",
      "valid set loss: 1.85888671875\n",
      "valid set accuracy: 0.75\n",
      "fold 4:\n",
      "train set loss: 1.943603515625\n",
      "train set accuracy: 0.7906250357627869\n",
      "valid set loss: 1.85576171875\n",
      "valid set accuracy: 0.71875\n",
      "fold 5:\n",
      "train set loss: 1.9344482421875\n",
      "train set accuracy: 0.792187511920929\n",
      "valid set loss: 1.8462890625\n",
      "valid set accuracy: 0.7875000238418579\n",
      "epoch loss: 1.847\n",
      "epoch accuracy: 0.775\n",
      "-------epoch  8 -------\n",
      "fold 1:\n",
      "train set loss: 1.9292724609375\n",
      "train set accuracy: 0.8203125\n",
      "valid set loss: 1.8357421875\n",
      "valid set accuracy: 0.8125\n",
      "fold 2:\n",
      "train set loss: 1.928369140625\n",
      "train set accuracy: 0.793749988079071\n",
      "valid set loss: 1.84130859375\n",
      "valid set accuracy: 0.75\n",
      "fold 3:\n",
      "train set loss: 1.9268798828125\n",
      "train set accuracy: 0.8265625238418579\n",
      "valid set loss: 1.8216796875\n",
      "valid set accuracy: 0.856249988079071\n",
      "fold 4:\n",
      "train set loss: 1.9239013671875\n",
      "train set accuracy: 0.839062511920929\n",
      "valid set loss: 1.85986328125\n",
      "valid set accuracy: 0.7562500238418579\n",
      "fold 5:\n",
      "train set loss: 1.9287353515625\n",
      "train set accuracy: 0.809374988079071\n",
      "valid set loss: 1.85888671875\n",
      "valid set accuracy: 0.7875000238418579\n",
      "epoch loss: 1.843\n",
      "epoch accuracy: 0.793\n",
      "-------epoch  9 -------\n",
      "fold 1:\n",
      "train set loss: 1.92578125\n",
      "train set accuracy: 0.8203125\n",
      "valid set loss: 1.810546875\n",
      "valid set accuracy: 0.949999988079071\n",
      "fold 2:\n",
      "train set loss: 1.91748046875\n",
      "train set accuracy: 0.870312511920929\n",
      "valid set loss: 1.8283203125\n",
      "valid set accuracy: 0.8500000238418579\n",
      "fold 3:\n",
      "train set loss: 1.9163818359375\n",
      "train set accuracy: 0.871874988079071\n",
      "valid set loss: 1.83623046875\n",
      "valid set accuracy: 0.856249988079071\n",
      "fold 4:\n",
      "train set loss: 1.916552734375\n",
      "train set accuracy: 0.8531250357627869\n",
      "valid set loss: 1.821484375\n",
      "valid set accuracy: 0.8500000238418579\n",
      "fold 5:\n",
      "train set loss: 1.915087890625\n",
      "train set accuracy: 0.8671875\n",
      "valid set loss: 1.8244140625\n",
      "valid set accuracy: 0.875\n",
      "epoch loss: 1.824\n",
      "epoch accuracy: 0.876\n",
      "-------epoch  10 -------\n",
      "fold 1:\n",
      "train set loss: 1.9056884765625\n",
      "train set accuracy: 0.859375\n",
      "valid set loss: 1.8546875\n",
      "valid set accuracy: 0.831250011920929\n",
      "fold 2:\n",
      "train set loss: 1.906787109375\n",
      "train set accuracy: 0.875\n",
      "valid set loss: 1.8142578125\n",
      "valid set accuracy: 0.925000011920929\n",
      "fold 3:\n",
      "train set loss: 1.91103515625\n",
      "train set accuracy: 0.878125011920929\n",
      "valid set loss: 1.827734375\n",
      "valid set accuracy: 0.8062500357627869\n",
      "fold 4:\n",
      "train set loss: 1.9075927734375\n",
      "train set accuracy: 0.871874988079071\n",
      "valid set loss: 1.8251953125\n",
      "valid set accuracy: 0.8812500238418579\n",
      "fold 5:\n",
      "train set loss: 1.9052734375\n",
      "train set accuracy: 0.887499988079071\n",
      "valid set loss: 1.8263671875\n",
      "valid set accuracy: 0.887499988079071\n",
      "epoch loss: 1.83\n",
      "epoch accuracy: 0.866\n",
      "finish training\n"
     ]
    }
   ],
   "source": [
    "epoch = 10\n",
    "history = train(model,loss_function,opt,dataloaders_train,dataloaders_valid,k,epoch=epoch)\n",
    "print(\"finish training\")"
   ],
   "metadata": {
    "collapsed": false,
    "ExecuteTime": {
     "end_time": "2024-04-02T16:13:01.840212Z",
     "start_time": "2024-04-02T15:54:43.659750Z"
    }
   },
   "id": "f337739ec944959",
   "execution_count": 9
  },
  {
   "cell_type": "code",
   "outputs": [
    {
     "data": {
      "text/plain": "<Figure size 640x480 with 1 Axes>",
      "image/png": "[encoded data removed]"
     },
     "metadata": {},
     "output_type": "display_data"
    }
   ],
   "source": [
    "plt.plot(range(epoch),history['loss'])\n",
    "plt.xlabel('Epoch')\n",
    "plt.ylabel('Loss')\n",
    "plt.show()"
   ],
   "metadata": {
    "collapsed": false,
    "ExecuteTime": {
     "end_time": "2024-04-02T16:13:51.244681Z",
     "start_time": "2024-04-02T16:13:51.149681Z"
    }
   },
   "id": "1f498a00887aff51",
   "execution_count": 15
  },
  {
   "cell_type": "code",
   "outputs": [
    {
     "data": {
      "text/plain": "<Figure size 640x480 with 1 Axes>",
      "image/png": "[encoded data removed]"
     },
     "metadata": {},
     "output_type": "display_data"
    }
   ],
   "source": [
    "plt.plot(range(epoch),history['accuracy'])\n",
    "plt.xlabel('Epoch')\n",
    "plt.ylabel('Accuracy')\n",
    "plt.show()"
   ],
   "metadata": {
    "collapsed": false,
    "ExecuteTime": {
     "end_time": "2024-04-02T16:13:53.478015Z",
     "start_time": "2024-04-02T16:13:53.412054Z"
    }
   },
   "id": "20b079f9c17068ff",
   "execution_count": 16
  },
  {
   "cell_type": "markdown",
   "source": [
    "# Test"
   ],
   "metadata": {
    "collapsed": false
   },
   "id": "c1394b1ca3ec4066"
  },
  {
   "cell_type": "code",
   "outputs": [
    {
     "name": "stdout",
     "output_type": "stream",
     "text": [
      "test set loss: 1.887\n",
      "test set accuracy: 0.74\n",
      "test set AUC: 0.888\n",
      "test set f1-score: 0.74\n"
     ]
    },
    {
     "data": {
      "text/plain": "(1.887, 0.74, 0.888, 0.74)"
     },
     "execution_count": 10,
     "metadata": {},
     "output_type": "execute_result"
    }
   ],
   "source": [
    "loss, acc, AUC, f1 = test(model,loss_function,dataloader_test)"
   ],
   "metadata": {
    "collapsed": false,
    "ExecuteTime": {
     "end_time": "2024-04-02T16:13:07.104652Z",
     "start_time": "2024-04-02T16:13:01.842216Z"
    }
   },
   "id": "b6485bffb786659c",
   "execution_count": 10
  }
 ],
 "metadata": {
  "kernelspec": {
   "display_name": "Python 3",
   "language": "python",
   "name": "python3"
  },
  "language_info": {
   "codemirror_mode": {
    "name": "ipython",
    "version": 2
   },
   "file_extension": ".py",
   "mimetype": "text/x-python",
   "name": "python",
   "nbconvert_exporter": "python",
   "pygments_lexer": "ipython2",
   "version": "2.7.6"
  }
 },
 "nbformat": 4,
 "nbformat_minor": 5
}
