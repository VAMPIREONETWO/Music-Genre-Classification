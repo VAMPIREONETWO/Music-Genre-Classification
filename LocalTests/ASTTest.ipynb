{
 "cells": [
  {
   "cell_type": "code",
   "execution_count": 12,
   "id": "initial_id",
   "metadata": {
    "collapsed": true,
    "ExecuteTime": {
     "end_time": "2024-04-11T13:46:13.970548Z",
     "start_time": "2024-04-11T13:46:13.962011Z"
    }
   },
   "outputs": [],
   "source": [
    "from sklearn.model_selection import train_test_split\n",
    "from models.AST import AST\n",
    "import librosa\n",
    "import numpy as np\n",
    "from torchinfo import summary\n",
    "from torch import nn\n",
    "from torch.optim import Adam\n",
    "from Utils import read_data,create_dataloader, k_fold_cross_validation, train, test\n",
    "import matplotlib.pyplot as plt"
   ]
  },
  {
   "cell_type": "markdown",
   "source": [
    "# Read Data "
   ],
   "metadata": {
    "collapsed": false
   },
   "id": "35bfab0a09f68507"
  },
  {
   "cell_type": "code",
   "outputs": [
    {
     "name": "stdout",
     "output_type": "stream",
     "text": [
      "finsh reading data\n"
     ]
    }
   ],
   "source": [
    "sr = 16 * 1000\n",
    "x,y,min_length = read_data(root='../Data/genres_original', sr=sr)\n",
    "print(\"finsh reading data\")"
   ],
   "metadata": {
    "collapsed": false,
    "ExecuteTime": {
     "end_time": "2024-04-11T13:46:20.042115Z",
     "start_time": "2024-04-11T13:46:13.990658Z"
    }
   },
   "id": "f6d4684e6aca316b",
   "execution_count": 13
  },
  {
   "cell_type": "markdown",
   "source": [
    "# Conversion, Compression and Normalisation"
   ],
   "metadata": {
    "collapsed": false
   },
   "id": "abee602f31169a9e"
  },
  {
   "cell_type": "code",
   "outputs": [
    {
     "name": "stdout",
     "output_type": "stream",
     "text": [
      "finish conversion and compression\n"
     ]
    }
   ],
   "source": [
    "top_db = 80\n",
    "for i in range(len(x)):\n",
    "    signal = x[i][:min_length]\n",
    "    mel_spect = librosa.feature.melspectrogram(y=signal,sr=sr,n_fft=1024) # convert signals to mel spectrogram\n",
    "    mel_spect = librosa.power_to_db(mel_spect, ref=np.max, top_db=top_db) # log compression\n",
    "    x[i] = mel_spect/-top_db # normalisation\n",
    "print(\"finish conversion and compression\")"
   ],
   "metadata": {
    "collapsed": false,
    "ExecuteTime": {
     "end_time": "2024-04-11T13:46:32.205490Z",
     "start_time": "2024-04-11T13:46:20.043112Z"
    }
   },
   "id": "10d08606be2ee6a5",
   "execution_count": 14
  },
  {
   "cell_type": "markdown",
   "source": [
    "# Split Data"
   ],
   "metadata": {
    "collapsed": false
   },
   "id": "5f5a457feb048e00"
  },
  {
   "cell_type": "code",
   "outputs": [
    {
     "name": "stdout",
     "output_type": "stream",
     "text": [
      "(1000, 936, 128)\n"
     ]
    }
   ],
   "source": [
    "x = np.asarray(x)\n",
    "x = x.transpose((0,2,1))\n",
    "y = np.asarray(y)\n",
    "print(x.shape)"
   ],
   "metadata": {
    "collapsed": false,
    "ExecuteTime": {
     "end_time": "2024-04-11T13:46:32.376980Z",
     "start_time": "2024-04-11T13:46:32.206740Z"
    }
   },
   "id": "e4568465986543d",
   "execution_count": 15
  },
  {
   "cell_type": "code",
   "outputs": [
    {
     "name": "stdout",
     "output_type": "stream",
     "text": [
      "finish splitting data\n"
     ]
    }
   ],
   "source": [
    "x_train, x_test, y_train, y_test = train_test_split(x, y, test_size=0.2,\n",
    "                                                    stratify=y,shuffle=True)\n",
    "# k-fold cross validation\n",
    "k = 5\n",
    "xs_train, ys_train, xs_valid, ys_valid = k_fold_cross_validation(x_train,y_train,k)\n",
    "print(\"finish splitting data\")"
   ],
   "metadata": {
    "collapsed": false,
    "ExecuteTime": {
     "end_time": "2024-04-11T13:46:32.922667Z",
     "start_time": "2024-04-11T13:46:32.378918Z"
    }
   },
   "id": "df2254735832f87e",
   "execution_count": 16
  },
  {
   "cell_type": "markdown",
   "source": [
    "# Create Dataloaders"
   ],
   "metadata": {
    "collapsed": false
   },
   "id": "aaa7535d8cb71119"
  },
  {
   "cell_type": "code",
   "outputs": [
    {
     "name": "stdout",
     "output_type": "stream",
     "text": [
      "finish creating dataloaders\n"
     ]
    }
   ],
   "source": [
    "batch_size = 16\n",
    "dataloaders_train = []\n",
    "dataloaders_valid = []\n",
    "for i in range(k):\n",
    "    dataloaders_train.append(create_dataloader(xs_train[i], ys_train[i], batch_size=batch_size))\n",
    "    dataloaders_valid.append(create_dataloader(xs_valid[i], ys_valid[i], batch_size=batch_size))\n",
    "dataloader_test = create_dataloader(x_test, y_test, batch_size=batch_size)\n",
    "print(\"finish creating dataloaders\")"
   ],
   "metadata": {
    "collapsed": false,
    "ExecuteTime": {
     "end_time": "2024-04-11T13:46:33.047203Z",
     "start_time": "2024-04-11T13:46:32.926318Z"
    }
   },
   "id": "b6af9344bf4293da",
   "execution_count": 17
  },
  {
   "cell_type": "markdown",
   "source": [
    "# Model Construction"
   ],
   "metadata": {
    "collapsed": false
   },
   "id": "335dc683bb978cc8"
  },
  {
   "cell_type": "code",
   "outputs": [
    {
     "name": "stdout",
     "output_type": "stream",
     "text": [
      "frequncey stride=10, time stride=10\n",
      "number of patches=1116\n"
     ]
    },
    {
     "data": {
      "text/plain": "==========================================================================================\nLayer (type:depth-idx)                   Output Shape              Param #\n==========================================================================================\nAST                                      [16, 10]                  2,398,160\n├─VisionTransformerDistilled: 1-3        --                        (recursive)\n│    └─ASTPatchEmbed: 2-1                [16, 1116, 768]           --\n│    │    └─Conv2d: 3-1                  [16, 768, 12, 93]         197,376\n│    └─Dropout: 2-2                      [16, 1118, 768]           --\n├─ModuleList: 1-2                        --                        --\n│    └─Block: 2-3                        [16, 1118, 768]           --\n│    │    └─LayerNorm: 3-2               [16, 1118, 768]           1,536\n│    │    └─Attention: 3-3               [16, 1118, 768]           2,362,368\n│    │    └─Identity: 3-4                [16, 1118, 768]           --\n│    │    └─Identity: 3-5                [16, 1118, 768]           --\n│    │    └─LayerNorm: 3-6               [16, 1118, 768]           1,536\n│    │    └─Mlp: 3-7                     [16, 1118, 768]           4,722,432\n│    │    └─Identity: 3-8                [16, 1118, 768]           --\n│    │    └─Identity: 3-9                [16, 1118, 768]           --\n│    └─Block: 2-4                        [16, 1118, 768]           --\n│    │    └─LayerNorm: 3-10              [16, 1118, 768]           1,536\n│    │    └─Attention: 3-11              [16, 1118, 768]           2,362,368\n│    │    └─Identity: 3-12               [16, 1118, 768]           --\n│    │    └─Identity: 3-13               [16, 1118, 768]           --\n│    │    └─LayerNorm: 3-14              [16, 1118, 768]           1,536\n│    │    └─Mlp: 3-15                    [16, 1118, 768]           4,722,432\n│    │    └─Identity: 3-16               [16, 1118, 768]           --\n│    │    └─Identity: 3-17               [16, 1118, 768]           --\n│    └─Block: 2-5                        [16, 1118, 768]           --\n│    │    └─LayerNorm: 3-18              [16, 1118, 768]           1,536\n│    │    └─Attention: 3-19              [16, 1118, 768]           2,362,368\n│    │    └─Identity: 3-20               [16, 1118, 768]           --\n│    │    └─Identity: 3-21               [16, 1118, 768]           --\n│    │    └─LayerNorm: 3-22              [16, 1118, 768]           1,536\n│    │    └─Mlp: 3-23                    [16, 1118, 768]           4,722,432\n│    │    └─Identity: 3-24               [16, 1118, 768]           --\n│    │    └─Identity: 3-25               [16, 1118, 768]           --\n│    └─Block: 2-6                        [16, 1118, 768]           --\n│    │    └─LayerNorm: 3-26              [16, 1118, 768]           1,536\n│    │    └─Attention: 3-27              [16, 1118, 768]           2,362,368\n│    │    └─Identity: 3-28               [16, 1118, 768]           --\n│    │    └─Identity: 3-29               [16, 1118, 768]           --\n│    │    └─LayerNorm: 3-30              [16, 1118, 768]           1,536\n│    │    └─Mlp: 3-31                    [16, 1118, 768]           4,722,432\n│    │    └─Identity: 3-32               [16, 1118, 768]           --\n│    │    └─Identity: 3-33               [16, 1118, 768]           --\n│    └─Dropout: 2-7                      [16, 1118, 768]           --\n│    └─Block: 2-8                        [16, 1118, 768]           --\n│    │    └─LayerNorm: 3-34              [16, 1118, 768]           1,536\n│    │    └─Attention: 3-35              [16, 1118, 768]           2,362,368\n│    │    └─Identity: 3-36               [16, 1118, 768]           --\n│    │    └─Identity: 3-37               [16, 1118, 768]           --\n│    │    └─LayerNorm: 3-38              [16, 1118, 768]           1,536\n│    │    └─Mlp: 3-39                    [16, 1118, 768]           4,722,432\n│    │    └─Identity: 3-40               [16, 1118, 768]           --\n│    │    └─Identity: 3-41               [16, 1118, 768]           --\n│    └─Block: 2-9                        [16, 1118, 768]           --\n│    │    └─LayerNorm: 3-42              [16, 1118, 768]           1,536\n│    │    └─Attention: 3-43              [16, 1118, 768]           2,362,368\n│    │    └─Identity: 3-44               [16, 1118, 768]           --\n│    │    └─Identity: 3-45               [16, 1118, 768]           --\n│    │    └─LayerNorm: 3-46              [16, 1118, 768]           1,536\n│    │    └─Mlp: 3-47                    [16, 1118, 768]           4,722,432\n│    │    └─Identity: 3-48               [16, 1118, 768]           --\n│    │    └─Identity: 3-49               [16, 1118, 768]           --\n│    └─Block: 2-10                       [16, 1118, 768]           --\n│    │    └─LayerNorm: 3-50              [16, 1118, 768]           1,536\n│    │    └─Attention: 3-51              [16, 1118, 768]           2,362,368\n│    │    └─Identity: 3-52               [16, 1118, 768]           --\n│    │    └─Identity: 3-53               [16, 1118, 768]           --\n│    │    └─LayerNorm: 3-54              [16, 1118, 768]           1,536\n│    │    └─Mlp: 3-55                    [16, 1118, 768]           4,722,432\n│    │    └─Identity: 3-56               [16, 1118, 768]           --\n│    │    └─Identity: 3-57               [16, 1118, 768]           --\n│    └─Block: 2-11                       [16, 1118, 768]           --\n│    │    └─LayerNorm: 3-58              [16, 1118, 768]           1,536\n│    │    └─Attention: 3-59              [16, 1118, 768]           2,362,368\n│    │    └─Identity: 3-60               [16, 1118, 768]           --\n│    │    └─Identity: 3-61               [16, 1118, 768]           --\n│    │    └─LayerNorm: 3-62              [16, 1118, 768]           1,536\n│    │    └─Mlp: 3-63                    [16, 1118, 768]           4,722,432\n│    │    └─Identity: 3-64               [16, 1118, 768]           --\n│    │    └─Identity: 3-65               [16, 1118, 768]           --\n│    └─Dropout: 2-12                     [16, 1118, 768]           --\n│    └─Block: 2-13                       [16, 1118, 768]           --\n│    │    └─LayerNorm: 3-66              [16, 1118, 768]           1,536\n│    │    └─Attention: 3-67              [16, 1118, 768]           2,362,368\n│    │    └─Identity: 3-68               [16, 1118, 768]           --\n│    │    └─Identity: 3-69               [16, 1118, 768]           --\n│    │    └─LayerNorm: 3-70              [16, 1118, 768]           1,536\n│    │    └─Mlp: 3-71                    [16, 1118, 768]           4,722,432\n│    │    └─Identity: 3-72               [16, 1118, 768]           --\n│    │    └─Identity: 3-73               [16, 1118, 768]           --\n│    └─Block: 2-14                       [16, 1118, 768]           --\n│    │    └─LayerNorm: 3-74              [16, 1118, 768]           1,536\n│    │    └─Attention: 3-75              [16, 1118, 768]           2,362,368\n│    │    └─Identity: 3-76               [16, 1118, 768]           --\n│    │    └─Identity: 3-77               [16, 1118, 768]           --\n│    │    └─LayerNorm: 3-78              [16, 1118, 768]           1,536\n│    │    └─Mlp: 3-79                    [16, 1118, 768]           4,722,432\n│    │    └─Identity: 3-80               [16, 1118, 768]           --\n│    │    └─Identity: 3-81               [16, 1118, 768]           --\n│    └─Block: 2-15                       [16, 1118, 768]           --\n│    │    └─LayerNorm: 3-82              [16, 1118, 768]           1,536\n│    │    └─Attention: 3-83              [16, 1118, 768]           2,362,368\n│    │    └─Identity: 3-84               [16, 1118, 768]           --\n│    │    └─Identity: 3-85               [16, 1118, 768]           --\n│    │    └─LayerNorm: 3-86              [16, 1118, 768]           1,536\n│    │    └─Mlp: 3-87                    [16, 1118, 768]           4,722,432\n│    │    └─Identity: 3-88               [16, 1118, 768]           --\n│    │    └─Identity: 3-89               [16, 1118, 768]           --\n│    └─Block: 2-16                       [16, 1118, 768]           --\n│    │    └─LayerNorm: 3-90              [16, 1118, 768]           1,536\n│    │    └─Attention: 3-91              [16, 1118, 768]           2,362,368\n│    │    └─Identity: 3-92               [16, 1118, 768]           --\n│    │    └─Identity: 3-93               [16, 1118, 768]           --\n│    │    └─LayerNorm: 3-94              [16, 1118, 768]           1,536\n│    │    └─Mlp: 3-95                    [16, 1118, 768]           4,722,432\n│    │    └─Identity: 3-96               [16, 1118, 768]           --\n│    │    └─Identity: 3-97               [16, 1118, 768]           --\n│    └─Dropout: 2-17                     [16, 1118, 768]           --\n├─VisionTransformerDistilled: 1-3        --                        (recursive)\n│    └─LayerNorm: 2-18                   [16, 1118, 768]           1,536\n├─Sequential: 1-4                        [16, 10]                  --\n│    └─LayerNorm: 2-19                   [16, 768]                 1,536\n│    └─Linear: 2-20                      [16, 10]                  7,690\n│    └─BatchNorm1d: 2-21                 [16, 10]                  20\n│    └─Sigmoid: 2-22                     [16, 10]                  --\n==========================================================================================\nTotal params: 87,660,782\nTrainable params: 87,660,782\nNon-trainable params: 0\nTotal mult-adds (G): 4.89\n==========================================================================================\nInput size (MB): 7.67\nForward/backward pass size (MB): 8737.36\nParams size (MB): 341.05\nEstimated Total Size (MB): 9086.08\n=========================================================================================="
     },
     "execution_count": 18,
     "metadata": {},
     "output_type": "execute_result"
    }
   ],
   "source": [
    "model = AST(10,input_fdim=x.shape[2],input_tdim=x.shape[1])\n",
    "model.cuda()\n",
    "loss_function = nn.CrossEntropyLoss()\n",
    "opt = Adam(model.parameters(), lr=1e-5)\n",
    "summary(model,[(batch_size,x.shape[1],x.shape[2])])"
   ],
   "metadata": {
    "collapsed": false,
    "ExecuteTime": {
     "end_time": "2024-04-11T13:46:35.050807Z",
     "start_time": "2024-04-11T13:46:33.049188Z"
    }
   },
   "id": "8ac890d4d4ca0df0",
   "execution_count": 18
  },
  {
   "cell_type": "markdown",
   "source": [
    "# Train"
   ],
   "metadata": {
    "collapsed": false
   },
   "id": "7e7a30a5decf3c8a"
  },
  {
   "cell_type": "code",
   "outputs": [
    {
     "name": "stdout",
     "output_type": "stream",
     "text": [
      "-------epoch  1 -------\n",
      "fold 1:\n",
      "train set loss: 2.298583984375\n",
      "train set accuracy: 0.11250000447034836\n",
      "valid set loss: 2.2529296875\n",
      "valid set accuracy: 0.13125000894069672\n",
      "fold 2:\n",
      "train set loss: 2.281787109375\n",
      "train set accuracy: 0.14531250298023224\n",
      "valid set loss: 2.1595703125\n",
      "valid set accuracy: 0.33125001192092896\n",
      "fold 3:\n",
      "train set loss: 2.20390625\n",
      "train set accuracy: 0.2265625\n",
      "valid set loss: 2.0328125\n",
      "valid set accuracy: 0.543749988079071\n",
      "fold 4:\n",
      "train set loss: 2.1259765625\n",
      "train set accuracy: 0.3421874940395355\n",
      "valid set loss: 2.032421875\n",
      "valid set accuracy: 0.512499988079071\n",
      "fold 5:\n",
      "train set loss: 2.0986328125\n",
      "train set accuracy: 0.4078125059604645\n",
      "valid set loss: 2.04150390625\n",
      "valid set accuracy: 0.48125001788139343\n",
      "epoch loss: 2.104\n",
      "epoch accuracy: 0.4\n",
      "-------epoch  2 -------\n",
      "fold 1:\n",
      "train set loss: 2.085693359375\n",
      "train set accuracy: 0.4437499940395355\n",
      "valid set loss: 1.9798828125\n",
      "valid set accuracy: 0.5062500238418579\n",
      "fold 2:\n",
      "train set loss: 2.064599609375\n",
      "train set accuracy: 0.45625001192092896\n",
      "valid set loss: 1.97822265625\n",
      "valid set accuracy: 0.625\n",
      "fold 3:\n",
      "train set loss: 2.047314453125\n",
      "train set accuracy: 0.518750011920929\n",
      "valid set loss: 1.96796875\n",
      "valid set accuracy: 0.59375\n",
      "fold 4:\n",
      "train set loss: 2.0331787109375\n",
      "train set accuracy: 0.559374988079071\n",
      "valid set loss: 1.98193359375\n",
      "valid set accuracy: 0.543749988079071\n",
      "fold 5:\n",
      "train set loss: 2.0208740234375\n",
      "train set accuracy: 0.589062511920929\n",
      "valid set loss: 1.96328125\n",
      "valid set accuracy: 0.643750011920929\n",
      "epoch loss: 1.974\n",
      "epoch accuracy: 0.582\n",
      "-------epoch  3 -------\n",
      "fold 1:\n",
      "train set loss: 2.0129638671875\n",
      "train set accuracy: 0.643750011920929\n",
      "valid set loss: 1.91787109375\n",
      "valid set accuracy: 0.6812500357627869\n",
      "fold 2:\n",
      "train set loss: 1.9986083984375\n",
      "train set accuracy: 0.6625000238418579\n",
      "valid set loss: 1.91279296875\n",
      "valid set accuracy: 0.71875\n",
      "fold 3:\n",
      "train set loss: 1.986083984375\n",
      "train set accuracy: 0.7046875357627869\n",
      "valid set loss: 1.92587890625\n",
      "valid set accuracy: 0.6937500238418579\n",
      "fold 4:\n",
      "train set loss: 1.983447265625\n",
      "train set accuracy: 0.6812500357627869\n",
      "valid set loss: 1.94970703125\n",
      "valid set accuracy: 0.6812500357627869\n",
      "fold 5:\n",
      "train set loss: 1.9792236328125\n",
      "train set accuracy: 0.706250011920929\n",
      "valid set loss: 1.92548828125\n",
      "valid set accuracy: 0.675000011920929\n",
      "epoch loss: 1.926\n",
      "epoch accuracy: 0.69\n",
      "-------epoch  4 -------\n",
      "fold 1:\n",
      "train set loss: 1.975927734375\n",
      "train set accuracy: 0.729687511920929\n",
      "valid set loss: 1.89208984375\n",
      "valid set accuracy: 0.7437500357627869\n",
      "fold 2:\n",
      "train set loss: 1.9662109375\n",
      "train set accuracy: 0.7437500357627869\n",
      "valid set loss: 1.90947265625\n",
      "valid set accuracy: 0.706250011920929\n",
      "fold 3:\n",
      "train set loss: 1.9628173828125\n",
      "train set accuracy: 0.754687488079071\n",
      "valid set loss: 1.90556640625\n",
      "valid set accuracy: 0.78125\n",
      "fold 4:\n",
      "train set loss: 1.9545166015625\n",
      "train set accuracy: 0.75\n",
      "valid set loss: 1.878125\n",
      "valid set accuracy: 0.824999988079071\n",
      "fold 5:\n",
      "train set loss: 1.9453369140625\n",
      "train set accuracy: 0.7734375\n",
      "valid set loss: 1.86884765625\n",
      "valid set accuracy: 0.8375000357627869\n",
      "epoch loss: 1.891\n",
      "epoch accuracy: 0.779\n",
      "-------epoch  5 -------\n",
      "fold 1:\n",
      "train set loss: 1.94423828125\n",
      "train set accuracy: 0.809374988079071\n",
      "valid set loss: 1.8884765625\n",
      "valid set accuracy: 0.762499988079071\n",
      "fold 2:\n",
      "train set loss: 1.9429443359375\n",
      "train set accuracy: 0.7796875238418579\n",
      "valid set loss: 1.87158203125\n",
      "valid set accuracy: 0.800000011920929\n",
      "fold 3:\n",
      "train set loss: 1.9356201171875\n",
      "train set accuracy: 0.823437511920929\n",
      "valid set loss: 1.87119140625\n",
      "valid set accuracy: 0.831250011920929\n",
      "fold 4:\n",
      "train set loss: 1.9313720703125\n",
      "train set accuracy: 0.828125\n",
      "valid set loss: 1.9060546875\n",
      "valid set accuracy: 0.7562500238418579\n",
      "fold 5:\n",
      "train set loss: 1.92802734375\n",
      "train set accuracy: 0.846875011920929\n",
      "valid set loss: 1.865234375\n",
      "valid set accuracy: 0.84375\n",
      "epoch loss: 1.881\n",
      "epoch accuracy: 0.799\n",
      "-------epoch  6 -------\n",
      "fold 1:\n",
      "train set loss: 1.92119140625\n",
      "train set accuracy: 0.8515625\n",
      "valid set loss: 1.878515625\n",
      "valid set accuracy: 0.793749988079071\n",
      "fold 2:\n",
      "train set loss: 1.9247802734375\n",
      "train set accuracy: 0.8343750238418579\n",
      "valid set loss: 1.84140625\n",
      "valid set accuracy: 0.8812500238418579\n",
      "fold 3:\n",
      "train set loss: 1.9142822265625\n",
      "train set accuracy: 0.862500011920929\n",
      "valid set loss: 1.871484375\n",
      "valid set accuracy: 0.8375000357627869\n",
      "fold 4:\n",
      "train set loss: 1.91328125\n",
      "train set accuracy: 0.8656250238418579\n",
      "valid set loss: 1.8751953125\n",
      "valid set accuracy: 0.8187500238418579\n",
      "fold 5:\n",
      "train set loss: 1.9161376953125\n",
      "train set accuracy: 0.8671875\n",
      "valid set loss: 1.83076171875\n",
      "valid set accuracy: 0.9125000238418579\n",
      "epoch loss: 1.859\n",
      "epoch accuracy: 0.849\n",
      "-------epoch  7 -------\n",
      "fold 1:\n",
      "train set loss: 1.9131591796875\n",
      "train set accuracy: 0.878125011920929\n",
      "valid set loss: 1.8306640625\n",
      "valid set accuracy: 0.9312500357627869\n",
      "fold 2:\n",
      "train set loss: 1.90966796875\n",
      "train set accuracy: 0.871874988079071\n",
      "valid set loss: 1.84140625\n",
      "valid set accuracy: 0.9000000357627869\n",
      "fold 3:\n",
      "train set loss: 1.9037841796875\n",
      "train set accuracy: 0.890625\n",
      "valid set loss: 1.8650390625\n",
      "valid set accuracy: 0.84375\n",
      "fold 4:\n",
      "train set loss: 1.9033935546875\n",
      "train set accuracy: 0.90625\n",
      "valid set loss: 1.83466796875\n",
      "valid set accuracy: 0.9437500238418579\n",
      "fold 5:\n",
      "train set loss: 1.9007568359375\n",
      "train set accuracy: 0.9078125357627869\n",
      "valid set loss: 1.85185546875\n",
      "valid set accuracy: 0.893750011920929\n",
      "epoch loss: 1.845\n",
      "epoch accuracy: 0.903\n",
      "-------epoch  8 -------\n",
      "fold 1:\n",
      "train set loss: 1.8986083984375\n",
      "train set accuracy: 0.9281250238418579\n",
      "valid set loss: 1.8541015625\n",
      "valid set accuracy: 0.887499988079071\n",
      "fold 2:\n",
      "train set loss: 1.8976318359375\n",
      "train set accuracy: 0.9156250357627869\n",
      "valid set loss: 1.83916015625\n",
      "valid set accuracy: 0.9375\n",
      "fold 3:\n",
      "train set loss: 1.893896484375\n",
      "train set accuracy: 0.942187488079071\n",
      "valid set loss: 1.8572265625\n",
      "valid set accuracy: 0.9125000238418579\n",
      "fold 4:\n",
      "train set loss: 1.8946044921875\n",
      "train set accuracy: 0.9203125238418579\n",
      "valid set loss: 1.822265625\n",
      "valid set accuracy: 0.9625000357627869\n",
      "fold 5:\n",
      "train set loss: 1.8934326171875\n",
      "train set accuracy: 0.9234375357627869\n",
      "valid set loss: 1.8388671875\n",
      "valid set accuracy: 0.918749988079071\n",
      "epoch loss: 1.842\n",
      "epoch accuracy: 0.924\n",
      "-------epoch  9 -------\n",
      "fold 1:\n",
      "train set loss: 1.891162109375\n",
      "train set accuracy: 0.934374988079071\n",
      "valid set loss: 1.86201171875\n",
      "valid set accuracy: 0.84375\n",
      "fold 2:\n",
      "train set loss: 1.890185546875\n",
      "train set accuracy: 0.9468750357627869\n",
      "valid set loss: 1.82880859375\n",
      "valid set accuracy: 0.9375\n",
      "fold 3:\n",
      "train set loss: 1.8897216796875\n",
      "train set accuracy: 0.9437500238418579\n",
      "valid set loss: 1.858203125\n",
      "valid set accuracy: 0.9000000357627869\n",
      "fold 4:\n",
      "train set loss: 1.8937744140625\n",
      "train set accuracy: 0.932812511920929\n",
      "valid set loss: 1.8234375\n",
      "valid set accuracy: 0.9750000238418579\n",
      "fold 5:\n",
      "train set loss: 1.89453125\n",
      "train set accuracy: 0.926562488079071\n",
      "valid set loss: 1.81708984375\n",
      "valid set accuracy: 0.949999988079071\n",
      "epoch loss: 1.838\n",
      "epoch accuracy: 0.921\n",
      "-------epoch  10 -------\n",
      "fold 1:\n",
      "train set loss: 1.8931396484375\n",
      "train set accuracy: 0.921875\n",
      "valid set loss: 1.84140625\n",
      "valid set accuracy: 0.925000011920929\n",
      "fold 2:\n",
      "train set loss: 1.890576171875\n",
      "train set accuracy: 0.9296875\n",
      "valid set loss: 1.8587890625\n",
      "valid set accuracy: 0.875\n",
      "fold 3:\n",
      "train set loss: 1.895751953125\n",
      "train set accuracy: 0.9140625\n",
      "valid set loss: 1.83798828125\n",
      "valid set accuracy: 0.9125000238418579\n",
      "fold 4:\n",
      "train set loss: 1.888916015625\n",
      "train set accuracy: 0.9312500357627869\n",
      "valid set loss: 1.8306640625\n",
      "valid set accuracy: 0.9375\n",
      "fold 5:\n",
      "train set loss: 1.8919677734375\n",
      "train set accuracy: 0.9203125238418579\n",
      "valid set loss: 1.82568359375\n",
      "valid set accuracy: 0.9625000357627869\n",
      "epoch loss: 1.839\n",
      "epoch accuracy: 0.923\n",
      "finish training\n"
     ]
    }
   ],
   "source": [
    "epoch = 10\n",
    "history = train(model,loss_function,opt,dataloaders_train,dataloaders_valid,k,epoch=epoch)\n",
    "print(\"finish training\")"
   ],
   "metadata": {
    "collapsed": false,
    "ExecuteTime": {
     "end_time": "2024-04-11T14:02:38.841954Z",
     "start_time": "2024-04-11T13:46:35.051906Z"
    }
   },
   "id": "f337739ec944959",
   "execution_count": 19
  },
  {
   "cell_type": "code",
   "outputs": [
    {
     "data": {
      "text/plain": "<Figure size 640x480 with 1 Axes>",
      "image/png": "[encoded data removed]"
     },
     "metadata": {},
     "output_type": "display_data"
    }
   ],
   "source": [
    "plt.plot(range(epoch),history['loss'])\n",
    "plt.xlabel('Epoch')\n",
    "plt.ylabel('Loss')\n",
    "plt.show()"
   ],
   "metadata": {
    "collapsed": false,
    "ExecuteTime": {
     "end_time": "2024-04-11T14:02:38.965949Z",
     "start_time": "2024-04-11T14:02:38.844453Z"
    }
   },
   "id": "1f498a00887aff51",
   "execution_count": 20
  },
  {
   "cell_type": "code",
   "outputs": [
    {
     "data": {
      "text/plain": "<Figure size 640x480 with 1 Axes>",
      "image/png": "[encoded data removed]"
     },
     "metadata": {},
     "output_type": "display_data"
    }
   ],
   "source": [
    "plt.plot(range(epoch),history['accuracy'])\n",
    "plt.xlabel('Epoch')\n",
    "plt.ylabel('Accuracy')\n",
    "plt.show()"
   ],
   "metadata": {
    "collapsed": false,
    "ExecuteTime": {
     "end_time": "2024-04-11T14:02:39.123014Z",
     "start_time": "2024-04-11T14:02:38.967947Z"
    }
   },
   "id": "20b079f9c17068ff",
   "execution_count": 21
  },
  {
   "cell_type": "markdown",
   "source": [
    "# Test"
   ],
   "metadata": {
    "collapsed": false
   },
   "id": "c1394b1ca3ec4066"
  },
  {
   "cell_type": "code",
   "outputs": [
    {
     "name": "stdout",
     "output_type": "stream",
     "text": [
      "test set loss: 1.909\n",
      "test set accuracy: 0.765\n",
      "test set AUC: 0.876\n",
      "test set f1-score: 0.765\n"
     ]
    }
   ],
   "source": [
    "loss, acc, AUC, f1 = test(model,loss_function,dataloader_test)"
   ],
   "metadata": {
    "collapsed": false,
    "ExecuteTime": {
     "end_time": "2024-04-11T14:02:41.121383Z",
     "start_time": "2024-04-11T14:02:39.126024Z"
    }
   },
   "id": "b6485bffb786659c",
   "execution_count": 22
  }
 ],
 "metadata": {
  "kernelspec": {
   "display_name": "Python 3",
   "language": "python",
   "name": "python3"
  },
  "language_info": {
   "codemirror_mode": {
    "name": "ipython",
    "version": 2
   },
   "file_extension": ".py",
   "mimetype": "text/x-python",
   "name": "python",
   "nbconvert_exporter": "python",
   "pygments_lexer": "ipython2",
   "version": "2.7.6"
  }
 },
 "nbformat": 4,
 "nbformat_minor": 5
}
