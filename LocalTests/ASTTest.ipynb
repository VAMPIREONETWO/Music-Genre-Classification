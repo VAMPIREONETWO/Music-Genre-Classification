{
 "cells": [
  {
   "cell_type": "code",
   "execution_count": 1,
   "id": "initial_id",
   "metadata": {
    "collapsed": true,
    "ExecuteTime": {
     "end_time": "2024-03-22T00:58:09.725535Z",
     "start_time": "2024-03-22T00:58:03.725180Z"
    }
   },
   "outputs": [],
   "source": [
    "import torch\n",
    "from sklearn.model_selection import train_test_split\n",
    "from models.AST import AST\n",
    "import os\n",
    "import librosa\n",
    "import numpy as np\n",
    "from torchinfo import summary\n",
    "from torch import nn\n",
    "from torch.optim import Adam\n",
    "from Utils import create_dataloader, k_fold_cross_validation\n",
    "from torcheval.metrics import MulticlassAUROC, MulticlassF1Score"
   ]
  },
  {
   "cell_type": "markdown",
   "source": [
    "# limit GPU usage"
   ],
   "metadata": {
    "collapsed": false
   },
   "id": "c11fc8c9ca3ab4ed"
  },
  {
   "cell_type": "code",
   "outputs": [],
   "source": [
    "torch.cuda.set_per_process_memory_fraction(0.625)"
   ],
   "metadata": {
    "collapsed": false,
    "ExecuteTime": {
     "end_time": "2024-03-22T00:58:09.911144Z",
     "start_time": "2024-03-22T00:58:09.727480Z"
    }
   },
   "id": "d76e1eb1ca9e4fe9",
   "execution_count": 2
  },
  {
   "cell_type": "markdown",
   "source": [
    "# Read Data "
   ],
   "metadata": {
    "collapsed": false
   },
   "id": "35bfab0a09f68507"
  },
  {
   "cell_type": "code",
   "outputs": [
    {
     "name": "stdout",
     "output_type": "stream",
     "text": [
      "finsh reading data\n"
     ]
    }
   ],
   "source": [
    "root = '../Data/genres_original'\n",
    "genres = os.listdir(root)\n",
    "x = []\n",
    "y = []\n",
    "length = []\n",
    "sr = 16*1000\n",
    "for genre in genres:\n",
    "    genre_root = os.path.join(root, genre)\n",
    "    audios = os.listdir(genre_root)\n",
    "    for audio in audios:\n",
    "        audio_path = os.path.join(genre_root, audio)\n",
    "        signal, sr = librosa.load(audio_path, sr=sr)\n",
    "        x.append(signal)\n",
    "        length.append(len(signal))\n",
    "        y.append(genres.index(genre))\n",
    "min_length = min(length)\n",
    "print(\"finsh reading data\")"
   ],
   "metadata": {
    "collapsed": false,
    "ExecuteTime": {
     "end_time": "2024-03-22T00:58:17.606542Z",
     "start_time": "2024-03-22T00:58:09.912115Z"
    }
   },
   "id": "f6d4684e6aca316b",
   "execution_count": 3
  },
  {
   "cell_type": "markdown",
   "source": [
    "# Conversion, Compression and Normalisation"
   ],
   "metadata": {
    "collapsed": false
   },
   "id": "abee602f31169a9e"
  },
  {
   "cell_type": "code",
   "outputs": [
    {
     "name": "stdout",
     "output_type": "stream",
     "text": [
      "finish conversion and compression\n"
     ]
    }
   ],
   "source": [
    "top_db = 80\n",
    "for i in range(len(x)):\n",
    "    signal = x[i][:min_length]\n",
    "    mel_spect = librosa.feature.melspectrogram(y=signal,sr=sr,n_fft=1024) # convert signals to mel spectrogram\n",
    "    mel_spect = librosa.power_to_db(mel_spect, ref=np.max, top_db=top_db) # log compression\n",
    "    x[i] = mel_spect/-top_db # normalisation\n",
    "print(\"finish conversion and compression\")"
   ],
   "metadata": {
    "collapsed": false,
    "ExecuteTime": {
     "end_time": "2024-03-22T00:58:28.363107Z",
     "start_time": "2024-03-22T00:58:17.607516Z"
    }
   },
   "id": "10d08606be2ee6a5",
   "execution_count": 4
  },
  {
   "cell_type": "markdown",
   "source": [
    "# Split Data"
   ],
   "metadata": {
    "collapsed": false
   },
   "id": "5f5a457feb048e00"
  },
  {
   "cell_type": "code",
   "outputs": [
    {
     "name": "stdout",
     "output_type": "stream",
     "text": [
      "(1000, 936, 128)\n"
     ]
    }
   ],
   "source": [
    "x = np.asarray(x)\n",
    "x = x.transpose((0,2,1))\n",
    "y = np.asarray(y)\n",
    "print(x.shape)"
   ],
   "metadata": {
    "collapsed": false,
    "ExecuteTime": {
     "end_time": "2024-03-22T00:58:28.539373Z",
     "start_time": "2024-03-22T00:58:28.364084Z"
    }
   },
   "id": "e4568465986543d",
   "execution_count": 5
  },
  {
   "cell_type": "code",
   "outputs": [
    {
     "name": "stdout",
     "output_type": "stream",
     "text": [
      "finish splitting data\n"
     ]
    }
   ],
   "source": [
    "x_train, x_test, y_train, y_test = train_test_split(x, y, test_size=0.2,\n",
    "                                                    stratify=y,shuffle=True)\n",
    "# k-fold cross validation\n",
    "k = 5\n",
    "xs_train, ys_train, xs_valid, ys_valid = k_fold_cross_validation(x_train,y_train,k)\n",
    "print(\"finish splitting data\")"
   ],
   "metadata": {
    "collapsed": false,
    "ExecuteTime": {
     "end_time": "2024-03-22T00:58:28.887068Z",
     "start_time": "2024-03-22T00:58:28.540350Z"
    }
   },
   "id": "df2254735832f87e",
   "execution_count": 6
  },
  {
   "cell_type": "code",
   "outputs": [
    {
     "name": "stdout",
     "output_type": "stream",
     "text": [
      "finish creating dataloaders\n"
     ]
    }
   ],
   "source": [
    "batch_size = 16\n",
    "dataloaders_train = []\n",
    "dataloaders_valid = []\n",
    "for i in range(k):\n",
    "    dataloaders_train.append(create_dataloader(xs_train[i], ys_train[i], batch_size=batch_size))\n",
    "    dataloaders_valid.append(create_dataloader(xs_valid[i], ys_valid[i], batch_size=batch_size))\n",
    "dataloader_test = create_dataloader(x_test, y_test, batch_size=batch_size)\n",
    "print(\"finish creating dataloaders\")"
   ],
   "metadata": {
    "collapsed": false,
    "ExecuteTime": {
     "end_time": "2024-03-22T00:58:29.649499Z",
     "start_time": "2024-03-22T00:58:28.888964Z"
    }
   },
   "id": "b6af9344bf4293da",
   "execution_count": 7
  },
  {
   "cell_type": "code",
   "outputs": [
    {
     "name": "stdout",
     "output_type": "stream",
     "text": [
      "frequncey stride=10, time stride=10\n",
      "number of patches=1116\n"
     ]
    },
    {
     "name": "stderr",
     "output_type": "stream",
     "text": [
      "E:\\learning\\master\\1.2\\COMP47700SA\\Music-Genre-Classification\\venv\\lib\\site-packages\\timm\\models\\vision_transformer.py:91: UserWarning: 1Torch was not compiled with flash attention. (Triggered internally at ..\\aten\\src\\ATen\\native\\transformers\\cuda\\sdp_utils.cpp:263.)\n",
      "  x = F.scaled_dot_product_attention(\n"
     ]
    },
    {
     "data": {
      "text/plain": "===============================================================================================\nLayer (type:depth-idx)                        Output Shape              Param #\n===============================================================================================\nAST                                           [16, 10]                  2,398,160\n├─VisionTransformerDistilled: 1-3             --                        (recursive)\n│    └─ASTPatchEmbed: 2-1                     [16, 1116, 768]           --\n│    │    └─Conv2d: 3-1                       [16, 768, 12, 93]         197,376\n│    └─Dropout: 2-2                           [16, 1118, 768]           --\n├─ModuleList: 1-2                             --                        --\n│    └─Sequential: 2-3                        [16, 1118, 768]           --\n│    │    └─Block: 3-2                        [16, 1118, 768]           7,087,872\n│    │    └─Dropout: 3-3                      [16, 1118, 768]           --\n│    └─Sequential: 2-4                        [16, 1118, 768]           --\n│    │    └─Block: 3-4                        [16, 1118, 768]           7,087,872\n│    │    └─Dropout: 3-5                      [16, 1118, 768]           --\n│    └─Sequential: 2-5                        [16, 1118, 768]           --\n│    │    └─Block: 3-6                        [16, 1118, 768]           7,087,872\n│    │    └─Dropout: 3-7                      [16, 1118, 768]           --\n│    └─Sequential: 2-6                        [16, 1118, 768]           --\n│    │    └─Block: 3-8                        [16, 1118, 768]           7,087,872\n│    │    └─Dropout: 3-9                      [16, 1118, 768]           --\n│    └─Sequential: 2-7                        [16, 1118, 768]           --\n│    │    └─Block: 3-10                       [16, 1118, 768]           7,087,872\n│    │    └─Dropout: 3-11                     [16, 1118, 768]           --\n│    └─Sequential: 2-8                        [16, 1118, 768]           --\n│    │    └─Block: 3-12                       [16, 1118, 768]           7,087,872\n│    │    └─Dropout: 3-13                     [16, 1118, 768]           --\n│    └─Sequential: 2-9                        [16, 1118, 768]           --\n│    │    └─Block: 3-14                       [16, 1118, 768]           7,087,872\n│    │    └─Dropout: 3-15                     [16, 1118, 768]           --\n│    └─Sequential: 2-10                       [16, 1118, 768]           --\n│    │    └─Block: 3-16                       [16, 1118, 768]           7,087,872\n│    │    └─Dropout: 3-17                     [16, 1118, 768]           --\n│    └─Sequential: 2-11                       [16, 1118, 768]           --\n│    │    └─Block: 3-18                       [16, 1118, 768]           7,087,872\n│    │    └─Dropout: 3-19                     [16, 1118, 768]           --\n│    └─Sequential: 2-12                       [16, 1118, 768]           --\n│    │    └─Block: 3-20                       [16, 1118, 768]           7,087,872\n│    │    └─Dropout: 3-21                     [16, 1118, 768]           --\n│    └─Sequential: 2-13                       [16, 1118, 768]           --\n│    │    └─Block: 3-22                       [16, 1118, 768]           7,087,872\n│    │    └─Dropout: 3-23                     [16, 1118, 768]           --\n│    └─Sequential: 2-14                       [16, 1118, 768]           --\n│    │    └─Block: 3-24                       [16, 1118, 768]           7,087,872\n│    │    └─Dropout: 3-25                     [16, 1118, 768]           --\n├─VisionTransformerDistilled: 1-3             --                        (recursive)\n│    └─LayerNorm: 2-15                        [16, 1118, 768]           1,536\n├─Sequential: 1-4                             [16, 10]                  --\n│    └─LayerNorm: 2-16                        [16, 768]                 1,536\n│    └─Linear: 2-17                           [16, 10]                  7,690\n│    └─BatchNorm1d: 2-18                      [16, 10]                  20\n│    └─Sigmoid: 2-19                          [16, 10]                  --\n===============================================================================================\nTotal params: 87,660,782\nTrainable params: 87,660,782\nNon-trainable params: 0\nTotal mult-adds (G): 4.89\n===============================================================================================\nInput size (MB): 7.67\nForward/backward pass size (MB): 8737.36\nParams size (MB): 341.05\nEstimated Total Size (MB): 9086.08\n==============================================================================================="
     },
     "execution_count": 8,
     "metadata": {},
     "output_type": "execute_result"
    }
   ],
   "source": [
    "model = AST(10,input_fdim=x.shape[2],input_tdim=x.shape[1])\n",
    "model.cuda()\n",
    "loss_function = nn.CrossEntropyLoss()\n",
    "opt = Adam(model.parameters(), lr=1e-5)\n",
    "summary(model,[(batch_size,x.shape[1],x.shape[2])])"
   ],
   "metadata": {
    "collapsed": false,
    "ExecuteTime": {
     "end_time": "2024-03-22T00:58:32.042386Z",
     "start_time": "2024-03-22T00:58:29.650476Z"
    }
   },
   "id": "8ac890d4d4ca0df0",
   "execution_count": 8
  },
  {
   "cell_type": "code",
   "outputs": [
    {
     "name": "stdout",
     "output_type": "stream",
     "text": [
      "-------epoch  1 -------\n",
      "fold 1:\n",
      "train set loss: 2.31796875\n",
      "train set accuracy: 0.09687500447034836\n",
      "valid set loss: 2.374609375\n",
      "valid set accuracy: 0.08125000447034836\n",
      "fold 2:\n",
      "train set loss: 2.318603515625\n",
      "train set accuracy: 0.10000000149011612\n",
      "valid set loss: 2.3205078125\n",
      "valid set accuracy: 0.11250000447034836\n",
      "fold 3:\n",
      "train set loss: 2.31259765625\n",
      "train set accuracy: 0.11562500149011612\n",
      "valid set loss: 2.32109375\n",
      "valid set accuracy: 0.10000000149011612\n",
      "fold 4:\n",
      "train set loss: 2.31669921875\n",
      "train set accuracy: 0.10312499850988388\n",
      "valid set loss: 2.2873046875\n",
      "valid set accuracy: 0.13125000894069672\n",
      "fold 5:\n",
      "train set loss: 2.303955078125\n",
      "train set accuracy: 0.09218750149011612\n",
      "valid set loss: 2.321875\n",
      "valid set accuracy: 0.11874999850988388\n",
      "epoch loss: 2.325078125\n",
      "epoch accuracy: 0.10875000059604645\n",
      "-------epoch  2 -------\n",
      "fold 1:\n",
      "train set loss: 2.2982421875\n",
      "train set accuracy: 0.12812499701976776\n",
      "valid set loss: 2.3455078125\n",
      "valid set accuracy: 0.08749999850988388\n",
      "fold 2:\n",
      "train set loss: 2.303271484375\n",
      "train set accuracy: 0.11093749850988388\n",
      "valid set loss: 2.28125\n",
      "valid set accuracy: 0.16875000298023224\n",
      "fold 3:\n",
      "train set loss: 2.292431640625\n",
      "train set accuracy: 0.12187500298023224\n",
      "valid set loss: 2.272265625\n",
      "valid set accuracy: 0.14374999701976776\n",
      "fold 4:\n",
      "train set loss: 2.285205078125\n",
      "train set accuracy: 0.14218750596046448\n",
      "valid set loss: 2.27578125\n",
      "valid set accuracy: 0.16875000298023224\n",
      "fold 5:\n",
      "train set loss: 2.28212890625\n",
      "train set accuracy: 0.13750000298023224\n",
      "valid set loss: 2.28515625\n",
      "valid set accuracy: 0.18125000596046448\n",
      "epoch loss: 2.2919921875\n",
      "epoch accuracy: 0.15000000596046448\n",
      "-------epoch  3 -------\n",
      "fold 1:\n",
      "train set loss: 2.26337890625\n",
      "train set accuracy: 0.15000000596046448\n",
      "valid set loss: 2.308203125\n",
      "valid set accuracy: 0.16875000298023224\n",
      "fold 2:\n",
      "train set loss: 2.24638671875\n",
      "train set accuracy: 0.16093750298023224\n",
      "valid set loss: 2.173046875\n",
      "valid set accuracy: 0.20624999701976776\n",
      "fold 3:\n",
      "train set loss: 2.206103515625\n",
      "train set accuracy: 0.23906250298023224\n",
      "valid set loss: 2.171484375\n",
      "valid set accuracy: 0.23125000298023224\n",
      "fold 4:\n",
      "train set loss: 2.196533203125\n",
      "train set accuracy: 0.22812500596046448\n",
      "valid set loss: 2.1265625\n",
      "valid set accuracy: 0.1875\n",
      "fold 5:\n",
      "train set loss: 2.1712890625\n",
      "train set accuracy: 0.25312501192092896\n",
      "valid set loss: 2.104296875\n",
      "valid set accuracy: 0.30000001192092896\n",
      "epoch loss: 2.17671875\n",
      "epoch accuracy: 0.21875\n",
      "-------epoch  4 -------\n",
      "fold 1:\n",
      "train set loss: 2.164892578125\n",
      "train set accuracy: 0.2750000059604645\n",
      "valid set loss: 2.1283203125\n",
      "valid set accuracy: 0.25\n",
      "fold 2:\n",
      "train set loss: 2.16337890625\n",
      "train set accuracy: 0.265625\n",
      "valid set loss: 2.04052734375\n",
      "valid set accuracy: 0.3499999940395355\n",
      "fold 3:\n",
      "train set loss: 2.141748046875\n",
      "train set accuracy: 0.2734375\n",
      "valid set loss: 2.06728515625\n",
      "valid set accuracy: 0.39375001192092896\n",
      "fold 4:\n",
      "train set loss: 2.133642578125\n",
      "train set accuracy: 0.29218751192092896\n",
      "valid set loss: 2.07919921875\n",
      "valid set accuracy: 0.30000001192092896\n",
      "fold 5:\n",
      "train set loss: 2.139208984375\n",
      "train set accuracy: 0.29218751192092896\n",
      "valid set loss: 2.05068359375\n",
      "valid set accuracy: 0.34375\n",
      "epoch loss: 2.073203125\n",
      "epoch accuracy: 0.32750001549720764\n",
      "-------epoch  5 -------\n",
      "fold 1:\n",
      "train set loss: 2.13076171875\n",
      "train set accuracy: 0.3109374940395355\n",
      "valid set loss: 2.0970703125\n",
      "valid set accuracy: 0.26250001788139343\n",
      "fold 2:\n",
      "train set loss: 2.127392578125\n",
      "train set accuracy: 0.3203125\n",
      "valid set loss: 2.019921875\n",
      "valid set accuracy: 0.3499999940395355\n",
      "fold 3:\n",
      "train set loss: 2.119091796875\n",
      "train set accuracy: 0.3046875\n",
      "valid set loss: 2.036328125\n",
      "valid set accuracy: 0.3687500059604645\n",
      "fold 4:\n",
      "train set loss: 2.11806640625\n",
      "train set accuracy: 0.34843751788139343\n",
      "valid set loss: 2.00546875\n",
      "valid set accuracy: 0.3812499940395355\n",
      "fold 5:\n",
      "train set loss: 2.116845703125\n",
      "train set accuracy: 0.3453125059604645\n",
      "valid set loss: 2.03720703125\n",
      "valid set accuracy: 0.3187499940395355\n",
      "epoch loss: 2.0391992187500003\n",
      "epoch accuracy: 0.33625003695487976\n",
      "-------epoch  6 -------\n",
      "fold 1:\n",
      "train set loss: 2.109521484375\n",
      "train set accuracy: 0.3125\n",
      "valid set loss: 2.03740234375\n",
      "valid set accuracy: 0.32500001788139343\n",
      "fold 2:\n",
      "train set loss: 2.109912109375\n",
      "train set accuracy: 0.3421874940395355\n",
      "valid set loss: 1.9904296875\n",
      "valid set accuracy: 0.39375001192092896\n",
      "fold 3:\n",
      "train set loss: 2.106591796875\n",
      "train set accuracy: 0.3578124940395355\n",
      "valid set loss: 2.0056640625\n",
      "valid set accuracy: 0.3375000059604645\n",
      "fold 4:\n",
      "train set loss: 2.10205078125\n",
      "train set accuracy: 0.3499999940395355\n",
      "valid set loss: 2.02900390625\n",
      "valid set accuracy: 0.3187499940395355\n",
      "fold 5:\n",
      "train set loss: 2.09736328125\n",
      "train set accuracy: 0.38593751192092896\n",
      "valid set loss: 1.99853515625\n",
      "valid set accuracy: 0.33125001192092896\n",
      "epoch loss: 2.01220703125\n",
      "epoch accuracy: 0.3412500023841858\n",
      "-------epoch  7 -------\n",
      "fold 1:\n",
      "train set loss: 2.09052734375\n",
      "train set accuracy: 0.37031251192092896\n",
      "valid set loss: 1.97548828125\n",
      "valid set accuracy: 0.38750001788139343\n",
      "fold 2:\n",
      "train set loss: 2.094091796875\n",
      "train set accuracy: 0.3671875\n",
      "valid set loss: 1.942578125\n",
      "valid set accuracy: 0.45000001788139343\n",
      "fold 3:\n",
      "train set loss: 2.091357421875\n",
      "train set accuracy: 0.37812501192092896\n",
      "valid set loss: 1.97509765625\n",
      "valid set accuracy: 0.4124999940395355\n",
      "fold 4:\n",
      "train set loss: 2.090576171875\n",
      "train set accuracy: 0.390625\n",
      "valid set loss: 1.98466796875\n",
      "valid set accuracy: 0.39375001192092896\n",
      "fold 5:\n",
      "train set loss: 2.085498046875\n",
      "train set accuracy: 0.42500001192092896\n",
      "valid set loss: 1.95830078125\n",
      "valid set accuracy: 0.39375001192092896\n",
      "epoch loss: 1.9672265625\n",
      "epoch accuracy: 0.4074999988079071\n",
      "-------epoch  8 -------\n",
      "fold 1:\n",
      "train set loss: 2.078369140625\n",
      "train set accuracy: 0.41875001788139343\n",
      "valid set loss: 1.9505859375\n",
      "valid set accuracy: 0.40625\n",
      "fold 2:\n",
      "train set loss: 2.078564453125\n",
      "train set accuracy: 0.41718751192092896\n",
      "valid set loss: 1.91689453125\n",
      "valid set accuracy: 0.4625000059604645\n",
      "fold 3:\n",
      "train set loss: 2.07626953125\n",
      "train set accuracy: 0.40156251192092896\n",
      "valid set loss: 2.0619140625\n",
      "valid set accuracy: 0.3187499940395355\n",
      "fold 4:\n",
      "train set loss: 2.070556640625\n",
      "train set accuracy: 0.4609375\n",
      "valid set loss: 1.93994140625\n",
      "valid set accuracy: 0.40625\n",
      "fold 5:\n",
      "train set loss: 2.0713134765625\n",
      "train set accuracy: 0.43437501788139343\n",
      "valid set loss: 1.94794921875\n",
      "valid set accuracy: 0.42500001192092896\n",
      "epoch loss: 1.9634570312500004\n",
      "epoch accuracy: 0.4037500023841858\n",
      "-------epoch  9 -------\n",
      "fold 1:\n",
      "train set loss: 2.06298828125\n",
      "train set accuracy: 0.4609375\n",
      "valid set loss: 1.9810546875\n",
      "valid set accuracy: 0.40625\n",
      "fold 2:\n",
      "train set loss: 2.0597900390625\n",
      "train set accuracy: 0.4703125059604645\n",
      "valid set loss: 1.9177734375\n",
      "valid set accuracy: 0.4749999940395355\n",
      "fold 3:\n",
      "train set loss: 2.059033203125\n",
      "train set accuracy: 0.4453125\n",
      "valid set loss: 2.04228515625\n",
      "valid set accuracy: 0.3125\n",
      "fold 4:\n",
      "train set loss: 2.0545166015625\n",
      "train set accuracy: 0.5\n",
      "valid set loss: 1.990234375\n",
      "valid set accuracy: 0.4000000059604645\n",
      "fold 5:\n",
      "train set loss: 2.048095703125\n",
      "train set accuracy: 0.4906249940395355\n",
      "valid set loss: 2.0095703125\n",
      "valid set accuracy: 0.3375000059604645\n",
      "epoch loss: 1.98818359375\n",
      "epoch accuracy: 0.38624998927116394\n",
      "-------epoch  10 -------\n",
      "fold 1:\n",
      "train set loss: 2.047998046875\n",
      "train set accuracy: 0.512499988079071\n",
      "valid set loss: 1.93955078125\n",
      "valid set accuracy: 0.4000000059604645\n",
      "fold 2:\n",
      "train set loss: 2.04248046875\n",
      "train set accuracy: 0.528124988079071\n",
      "valid set loss: 1.9873046875\n",
      "valid set accuracy: 0.3812499940395355\n",
      "fold 3:\n",
      "train set loss: 2.0416015625\n",
      "train set accuracy: 0.5296875238418579\n",
      "valid set loss: 2.09501953125\n",
      "valid set accuracy: 0.33125001192092896\n",
      "fold 4:\n",
      "train set loss: 2.04306640625\n",
      "train set accuracy: 0.5140625238418579\n",
      "valid set loss: 1.9544921875\n",
      "valid set accuracy: 0.38750001788139343\n",
      "fold 5:\n",
      "train set loss: 2.0348388671875\n",
      "train set accuracy: 0.543749988079071\n",
      "valid set loss: 2.0953125\n",
      "valid set accuracy: 0.26250001788139343\n",
      "epoch loss: 2.0143359375\n",
      "epoch accuracy: 0.3525000214576721\n",
      "finish training\n"
     ]
    }
   ],
   "source": [
    "for i in range(20):\n",
    "    print(\"-------epoch  {} -------\".format(i + 1))\n",
    "    epoch_loss = 0\n",
    "    epoch_accuracy = 0\n",
    "    for j in range(k):\n",
    "        print(f'fold {j+1}:')\n",
    "        loss_train = 0\n",
    "        accuracy_train = 0\n",
    "        train_size = 0\n",
    "        for batch_idx, (data, target) in enumerate(dataloaders_train[j]):\n",
    "            model.train()\n",
    "            output = model(data)\n",
    "            loss = loss_function(output, target)\n",
    "            opt.zero_grad()\n",
    "            loss.backward()\n",
    "            opt.step()\n",
    "            loss_train += loss.item()*len(data)\n",
    "            accuracy = (output.argmax(1) == target).sum()\n",
    "            accuracy_train += accuracy\n",
    "            train_size += len(data)\n",
    "        print(\"train set loss: {}\".format(loss_train/train_size))\n",
    "        print(\"train set accuracy: {}\".format(accuracy_train /train_size))\n",
    "\n",
    "        loss_valid = 0\n",
    "        accuracy_valid = 0\n",
    "        valid_size = 0\n",
    "        for batch_idx, (data, target) in enumerate(dataloaders_valid[j]):\n",
    "            model.eval()\n",
    "            with torch.no_grad():\n",
    "                output = model(data)\n",
    "                loss = loss_function(output, target)\n",
    "                loss_valid += loss.item()*len(data)\n",
    "                accuracy = (output.argmax(1) == target).sum()\n",
    "                accuracy_valid += accuracy\n",
    "                valid_size += len(data)\n",
    "        print(\"valid set loss: {}\".format(loss_valid/valid_size))\n",
    "        print(\"valid set accuracy: {}\".format(accuracy_valid/valid_size))\n",
    "        epoch_loss += loss_valid/valid_size\n",
    "        epoch_accuracy += accuracy_valid/valid_size\n",
    "    print(\"epoch loss: {}\".format(epoch_loss/k))\n",
    "    print(\"epoch accuracy: {}\".format(epoch_accuracy/k))\n",
    "print(\"finish training\")"
   ],
   "metadata": {
    "collapsed": false,
    "ExecuteTime": {
     "end_time": "2024-03-22T01:18:26.249755Z",
     "start_time": "2024-03-22T00:58:32.044339Z"
    }
   },
   "id": "f337739ec944959",
   "execution_count": 9
  },
  {
   "cell_type": "code",
   "outputs": [
    {
     "name": "stdout",
     "output_type": "stream",
     "text": [
      "test set loss: 2.04\n",
      "test set accuracy: 0.3050000071525574\n",
      "test set AUC: 0.7442171573638916\n",
      "test set f1-score: 0.3050000071525574\n"
     ]
    }
   ],
   "source": [
    "loss_test = 0\n",
    "accuracy_test = 0\n",
    "AUC_test = 0\n",
    "f1_score_test = 0\n",
    "test_size = 0\n",
    "for batch_idx, (data, target) in enumerate(dataloader_test):\n",
    "    model.eval()\n",
    "    with torch.no_grad():\n",
    "        output = model(data)\n",
    "        loss = loss_function(output, target)\n",
    "        loss_test += loss.item()*len(data)\n",
    "        accuracy = (output.argmax(1) == target).sum()\n",
    "        accuracy_test += accuracy\n",
    "        test_size += len(data)\n",
    "        auc = MulticlassAUROC(num_classes=10)\n",
    "        auc.update(output, target)\n",
    "        AUC_test += auc.compute()*len(data)\n",
    "        f1 = MulticlassF1Score(num_classes=10)\n",
    "        f1.update(output,target)\n",
    "        f1_score_test += f1.compute()*len(data)        \n",
    "print(\"test set loss: {}\".format(loss_test/test_size))\n",
    "print(\"test set accuracy: {}\".format(accuracy_test/test_size))\n",
    "print(\"test set AUC: {}\".format(AUC_test/test_size))\n",
    "print(\"test set f1-score: {}\".format(f1_score_test/test_size))"
   ],
   "metadata": {
    "collapsed": false,
    "ExecuteTime": {
     "end_time": "2024-03-22T01:18:28.561561Z",
     "start_time": "2024-03-22T01:18:26.251749Z"
    }
   },
   "id": "b6485bffb786659c",
   "execution_count": 10
  }
 ],
 "metadata": {
  "kernelspec": {
   "display_name": "Python 3",
   "language": "python",
   "name": "python3"
  },
  "language_info": {
   "codemirror_mode": {
    "name": "ipython",
    "version": 2
   },
   "file_extension": ".py",
   "mimetype": "text/x-python",
   "name": "python",
   "nbconvert_exporter": "python",
   "pygments_lexer": "ipython2",
   "version": "2.7.6"
  }
 },
 "nbformat": 4,
 "nbformat_minor": 5
}
