{
 "cells": [
  {
   "cell_type": "code",
   "execution_count": 1,
   "id": "initial_id",
   "metadata": {
    "collapsed": true,
    "ExecuteTime": {
     "end_time": "2024-04-09T20:49:41.915474Z",
     "start_time": "2024-04-09T20:49:34.330550Z"
    }
   },
   "outputs": [],
   "source": [
    "from sklearn.model_selection import train_test_split\n",
    "from models.ResNet import ResNet\n",
    "import librosa\n",
    "import numpy as np\n",
    "from torchinfo import summary\n",
    "from torch import nn\n",
    "from torch.optim import Adam\n",
    "from Utils import read_data,create_dataloader, k_fold_cross_validation, train, test\n",
    "import matplotlib.pyplot as plt"
   ]
  },
  {
   "cell_type": "markdown",
   "source": [
    "# Read Data "
   ],
   "metadata": {
    "collapsed": false
   },
   "id": "35bfab0a09f68507"
  },
  {
   "cell_type": "code",
   "outputs": [
    {
     "name": "stdout",
     "output_type": "stream",
     "text": [
      "finsh reading data\n"
     ]
    }
   ],
   "source": [
    "sr = 16 * 1000\n",
    "x,y,min_length = read_data(root='../Data/genres_original', sr=sr)\n",
    "print(\"finsh reading data\")"
   ],
   "metadata": {
    "collapsed": false,
    "ExecuteTime": {
     "end_time": "2024-04-09T20:49:53.509884Z",
     "start_time": "2024-04-09T20:49:41.916973Z"
    }
   },
   "id": "f6d4684e6aca316b",
   "execution_count": 2
  },
  {
   "cell_type": "markdown",
   "source": [
    "# Conversion, Compression and Normalisation"
   ],
   "metadata": {
    "collapsed": false
   },
   "id": "abee602f31169a9e"
  },
  {
   "cell_type": "code",
   "outputs": [
    {
     "name": "stdout",
     "output_type": "stream",
     "text": [
      "finish conversion and compression\n"
     ]
    }
   ],
   "source": [
    "top_db = 80\n",
    "for i in range(len(x)):\n",
    "    signal = x[i][:min_length]\n",
    "    mel_spect = librosa.feature.melspectrogram(y=signal,sr=sr,n_fft=1024) # convert signals to mel spectrogram\n",
    "    mel_spect = librosa.power_to_db(mel_spect, ref=np.max, top_db=top_db) # log compression\n",
    "    x[i] = mel_spect/-top_db # normalisation\n",
    "print(\"finish conversion and compression\")"
   ],
   "metadata": {
    "collapsed": false,
    "ExecuteTime": {
     "end_time": "2024-04-09T20:50:05.503243Z",
     "start_time": "2024-04-09T20:49:53.511883Z"
    }
   },
   "id": "10d08606be2ee6a5",
   "execution_count": 3
  },
  {
   "cell_type": "markdown",
   "source": [
    "# Split Data"
   ],
   "metadata": {
    "collapsed": false
   },
   "id": "5f5a457feb048e00"
  },
  {
   "cell_type": "code",
   "outputs": [
    {
     "name": "stdout",
     "output_type": "stream",
     "text": [
      "(1000, 1, 128, 936)\n"
     ]
    }
   ],
   "source": [
    "x = np.asarray(x)\n",
    "x = x.reshape(x.shape[0],1,x.shape[1],x.shape[2])\n",
    "y = np.asarray(y)\n",
    "print(x.shape)"
   ],
   "metadata": {
    "collapsed": false,
    "ExecuteTime": {
     "end_time": "2024-04-09T20:50:05.703685Z",
     "start_time": "2024-04-09T20:50:05.504938Z"
    }
   },
   "id": "fdb0312ac9fdb7c0",
   "execution_count": 4
  },
  {
   "cell_type": "code",
   "outputs": [
    {
     "name": "stdout",
     "output_type": "stream",
     "text": [
      "finish splitting data\n"
     ]
    }
   ],
   "source": [
    "x_train, x_test, y_train, y_test = train_test_split(x, y, test_size=0.2,\n",
    "                                                    stratify=y,shuffle=True)\n",
    "# k-fold cross validation\n",
    "k = 5\n",
    "xs_train, ys_train, xs_valid, ys_valid = k_fold_cross_validation(x_train,y_train,k)\n",
    "print(\"finish splitting data\")"
   ],
   "metadata": {
    "collapsed": false,
    "ExecuteTime": {
     "end_time": "2024-04-09T20:50:06.215497Z",
     "start_time": "2024-04-09T20:50:05.706181Z"
    }
   },
   "id": "df2254735832f87e",
   "execution_count": 5
  },
  {
   "cell_type": "code",
   "outputs": [
    {
     "name": "stdout",
     "output_type": "stream",
     "text": [
      "finish creating dataloaders\n"
     ]
    }
   ],
   "source": [
    "batch_size = 64\n",
    "dataloaders_train = []\n",
    "dataloaders_valid = []\n",
    "for i in range(k):\n",
    "    dataloaders_train.append(create_dataloader(xs_train[i], ys_train[i], batch_size=batch_size))\n",
    "    dataloaders_valid.append(create_dataloader(xs_valid[i], ys_valid[i], batch_size=batch_size))\n",
    "dataloader_test = create_dataloader(x_test, y_test, batch_size=batch_size)\n",
    "print(\"finish creating dataloaders\")"
   ],
   "metadata": {
    "collapsed": false,
    "ExecuteTime": {
     "end_time": "2024-04-09T20:50:07.436834Z",
     "start_time": "2024-04-09T20:50:06.216999Z"
    }
   },
   "id": "b6af9344bf4293da",
   "execution_count": 6
  },
  {
   "cell_type": "markdown",
   "source": [
    "# Model Construction"
   ],
   "metadata": {
    "collapsed": false
   },
   "id": "75bac39738931f71"
  },
  {
   "cell_type": "code",
   "outputs": [
    {
     "data": {
      "text/plain": "==========================================================================================\nLayer (type:depth-idx)                   Output Shape              Param #\n==========================================================================================\nResNet                                   [64, 10]                  --\n├─Sequential: 1-1                        [64, 64, 32, 234]         --\n│    └─Conv2d: 2-1                       [64, 64, 64, 468]         640\n│    └─BatchNorm2d: 2-2                  [64, 64, 64, 468]         128\n│    └─ReLU: 2-3                         [64, 64, 64, 468]         --\n│    └─MaxPool2d: 2-4                    [64, 64, 32, 234]         --\n├─ResidualBlock: 1-2                     [64, 64, 32, 234]         --\n│    └─Conv2d: 2-5                       [64, 64, 32, 234]         36,928\n│    └─BatchNorm2d: 2-6                  [64, 64, 32, 234]         128\n│    └─ReLU: 2-7                         [64, 64, 32, 234]         --\n│    └─Conv2d: 2-8                       [64, 64, 32, 234]         36,928\n│    └─BatchNorm2d: 2-9                  [64, 64, 32, 234]         128\n│    └─ReLU: 2-10                        [64, 64, 32, 234]         --\n├─ResidualBlock: 1-3                     [64, 64, 32, 234]         --\n│    └─Conv2d: 2-11                      [64, 64, 32, 234]         36,928\n│    └─BatchNorm2d: 2-12                 [64, 64, 32, 234]         128\n│    └─ReLU: 2-13                        [64, 64, 32, 234]         --\n│    └─Conv2d: 2-14                      [64, 64, 32, 234]         36,928\n│    └─BatchNorm2d: 2-15                 [64, 64, 32, 234]         128\n│    └─ReLU: 2-16                        [64, 64, 32, 234]         --\n├─ResidualBlock: 1-4                     [64, 128, 16, 117]        --\n│    └─Conv2d: 2-17                      [64, 128, 16, 117]        73,856\n│    └─BatchNorm2d: 2-18                 [64, 128, 16, 117]        256\n│    └─ReLU: 2-19                        [64, 128, 16, 117]        --\n│    └─Conv2d: 2-20                      [64, 128, 16, 117]        147,584\n│    └─BatchNorm2d: 2-21                 [64, 128, 16, 117]        256\n│    └─Sequential: 2-22                  [64, 128, 16, 117]        --\n│    │    └─Conv2d: 3-1                  [64, 128, 16, 117]        8,320\n│    │    └─BatchNorm2d: 3-2             [64, 128, 16, 117]        256\n│    └─ReLU: 2-23                        [64, 128, 16, 117]        --\n├─ResidualBlock: 1-5                     [64, 128, 16, 117]        --\n│    └─Conv2d: 2-24                      [64, 128, 16, 117]        147,584\n│    └─BatchNorm2d: 2-25                 [64, 128, 16, 117]        256\n│    └─ReLU: 2-26                        [64, 128, 16, 117]        --\n│    └─Conv2d: 2-27                      [64, 128, 16, 117]        147,584\n│    └─BatchNorm2d: 2-28                 [64, 128, 16, 117]        256\n│    └─ReLU: 2-29                        [64, 128, 16, 117]        --\n├─ResidualBlock: 1-6                     [64, 256, 8, 59]          --\n│    └─Conv2d: 2-30                      [64, 256, 8, 59]          295,168\n│    └─BatchNorm2d: 2-31                 [64, 256, 8, 59]          512\n│    └─ReLU: 2-32                        [64, 256, 8, 59]          --\n│    └─Conv2d: 2-33                      [64, 256, 8, 59]          590,080\n│    └─BatchNorm2d: 2-34                 [64, 256, 8, 59]          512\n│    └─Sequential: 2-35                  [64, 256, 8, 59]          --\n│    │    └─Conv2d: 3-3                  [64, 256, 8, 59]          33,024\n│    │    └─BatchNorm2d: 3-4             [64, 256, 8, 59]          512\n│    └─ReLU: 2-36                        [64, 256, 8, 59]          --\n├─ResidualBlock: 1-7                     [64, 256, 8, 59]          --\n│    └─Conv2d: 2-37                      [64, 256, 8, 59]          590,080\n│    └─BatchNorm2d: 2-38                 [64, 256, 8, 59]          512\n│    └─ReLU: 2-39                        [64, 256, 8, 59]          --\n│    └─Conv2d: 2-40                      [64, 256, 8, 59]          590,080\n│    └─BatchNorm2d: 2-41                 [64, 256, 8, 59]          512\n│    └─ReLU: 2-42                        [64, 256, 8, 59]          --\n├─ResidualBlock: 1-8                     [64, 512, 4, 30]          --\n│    └─Conv2d: 2-43                      [64, 512, 4, 30]          1,180,160\n│    └─BatchNorm2d: 2-44                 [64, 512, 4, 30]          1,024\n│    └─ReLU: 2-45                        [64, 512, 4, 30]          --\n│    └─Conv2d: 2-46                      [64, 512, 4, 30]          2,359,808\n│    └─BatchNorm2d: 2-47                 [64, 512, 4, 30]          1,024\n│    └─Sequential: 2-48                  [64, 512, 4, 30]          --\n│    │    └─Conv2d: 3-5                  [64, 512, 4, 30]          131,584\n│    │    └─BatchNorm2d: 3-6             [64, 512, 4, 30]          1,024\n│    └─ReLU: 2-49                        [64, 512, 4, 30]          --\n├─ResidualBlock: 1-9                     [64, 512, 4, 30]          --\n│    └─Conv2d: 2-50                      [64, 512, 4, 30]          2,359,808\n│    └─BatchNorm2d: 2-51                 [64, 512, 4, 30]          1,024\n│    └─ReLU: 2-52                        [64, 512, 4, 30]          --\n│    └─Conv2d: 2-53                      [64, 512, 4, 30]          2,359,808\n│    └─BatchNorm2d: 2-54                 [64, 512, 4, 30]          1,024\n│    └─ReLU: 2-55                        [64, 512, 4, 30]          --\n├─AdaptiveAvgPool2d: 1-10                [64, 512, 1, 1]           --\n├─Sequential: 1-11                       [64, 10]                  --\n│    └─Linear: 2-56                      [64, 10]                  5,130\n│    └─BatchNorm1d: 2-57                 [64, 10]                  20\n│    └─Sigmoid: 2-58                     [64, 10]                  --\n==========================================================================================\nTotal params: 11,177,630\nTrainable params: 11,177,630\nNon-trainable params: 0\nTotal mult-adds (G): 262.74\n==========================================================================================\nInput size (MB): 30.67\nForward/backward pass size (MB): 6085.95\nParams size (MB): 44.71\nEstimated Total Size (MB): 6161.33\n=========================================================================================="
     },
     "execution_count": 16,
     "metadata": {},
     "output_type": "execute_result"
    }
   ],
   "source": [
    "model = ResNet(10,pre_filter_size=3,in_channels=1)\n",
    "model.cuda()\n",
    "loss_function = nn.CrossEntropyLoss()\n",
    "opt = Adam(model.parameters(), lr=0.001)\n",
    "summary(model,[(batch_size,1,x.shape[2],x.shape[3])])"
   ],
   "metadata": {
    "collapsed": false,
    "ExecuteTime": {
     "end_time": "2024-04-09T20:58:47.100031Z",
     "start_time": "2024-04-09T20:58:46.959659Z"
    }
   },
   "id": "8ac890d4d4ca0df0",
   "execution_count": 16
  },
  {
   "cell_type": "markdown",
   "source": [
    "# Train"
   ],
   "metadata": {
    "collapsed": false
   },
   "id": "5934b88b153c69e5"
  },
  {
   "cell_type": "code",
   "outputs": [
    {
     "name": "stdout",
     "output_type": "stream",
     "text": [
      "-------epoch  1 -------\n",
      "fold 1:\n",
      "train set loss: 2.1501692056655886\n",
      "train set accuracy: 0.3296875059604645\n",
      "valid set loss: 2.3547335147857664\n",
      "valid set accuracy: 0.0625\n",
      "fold 2:\n",
      "train set loss: 2.052811598777771\n",
      "train set accuracy: 0.5078125\n",
      "valid set loss: 2.258776092529297\n",
      "valid set accuracy: 0.21875\n",
      "fold 3:\n",
      "train set loss: 2.021955597400665\n",
      "train set accuracy: 0.5765625238418579\n",
      "valid set loss: 2.3211721897125246\n",
      "valid set accuracy: 0.125\n",
      "fold 4:\n",
      "train set loss: 1.9998619079589843\n",
      "train set accuracy: 0.6187500357627869\n",
      "valid set loss: 2.285362720489502\n",
      "valid set accuracy: 0.09375\n",
      "fold 5:\n",
      "train set loss: 1.9900289177894592\n",
      "train set accuracy: 0.6390625238418579\n",
      "valid set loss: 2.2235060691833497\n",
      "valid set accuracy: 0.26250001788139343\n",
      "epoch loss: 2.289\n",
      "epoch accuracy: 0.153\n",
      "-------epoch  2 -------\n",
      "fold 1:\n",
      "train set loss: 1.9699124336242675\n",
      "train set accuracy: 0.667187511920929\n",
      "valid set loss: 2.2065674304962157\n",
      "valid set accuracy: 0.23749999701976776\n",
      "fold 2:\n",
      "train set loss: 1.9617822885513305\n",
      "train set accuracy: 0.698437511920929\n",
      "valid set loss: 2.0336599826812742\n",
      "valid set accuracy: 0.512499988079071\n",
      "fold 3:\n",
      "train set loss: 1.940738320350647\n",
      "train set accuracy: 0.737500011920929\n",
      "valid set loss: 2.007222032546997\n",
      "valid set accuracy: 0.5375000238418579\n",
      "fold 4:\n",
      "train set loss: 1.9285811066627503\n",
      "train set accuracy: 0.7671875357627869\n",
      "valid set loss: 1.9703889846801759\n",
      "valid set accuracy: 0.6875\n",
      "fold 5:\n",
      "train set loss: 1.9088024377822876\n",
      "train set accuracy: 0.8203125\n",
      "valid set loss: 1.981464648246765\n",
      "valid set accuracy: 0.574999988079071\n",
      "epoch loss: 2.04\n",
      "epoch accuracy: 0.51\n",
      "-------epoch  3 -------\n",
      "fold 1:\n",
      "train set loss: 1.8985305190086366\n",
      "train set accuracy: 0.828125\n",
      "valid set loss: 1.9945467948913573\n",
      "valid set accuracy: 0.5375000238418579\n",
      "fold 2:\n",
      "train set loss: 1.8825241565704345\n",
      "train set accuracy: 0.8531250357627869\n",
      "valid set loss: 1.9352597713470459\n",
      "valid set accuracy: 0.7562500238418579\n",
      "fold 3:\n",
      "train set loss: 1.8707579970359802\n",
      "train set accuracy: 0.8812500238418579\n",
      "valid set loss: 1.8761505365371705\n",
      "valid set accuracy: 0.856249988079071\n",
      "fold 4:\n",
      "train set loss: 1.867541289329529\n",
      "train set accuracy: 0.8921875357627869\n",
      "valid set loss: 1.9165096998214721\n",
      "valid set accuracy: 0.71875\n",
      "fold 5:\n",
      "train set loss: 1.8550353646278381\n",
      "train set accuracy: 0.909375011920929\n",
      "valid set loss: 1.941611361503601\n",
      "valid set accuracy: 0.6937500238418579\n",
      "epoch loss: 1.933\n",
      "epoch accuracy: 0.713\n",
      "-------epoch  4 -------\n",
      "fold 1:\n",
      "train set loss: 1.8506438732147217\n",
      "train set accuracy: 0.9203125238418579\n",
      "valid set loss: 1.889240550994873\n",
      "valid set accuracy: 0.7750000357627869\n",
      "fold 2:\n",
      "train set loss: 1.8507461905479432\n",
      "train set accuracy: 0.9078125357627869\n",
      "valid set loss: 1.9427150011062622\n",
      "valid set accuracy: 0.6875\n",
      "fold 3:\n",
      "train set loss: 1.8458621501922607\n",
      "train set accuracy: 0.910937488079071\n",
      "valid set loss: 1.8694325685501099\n",
      "valid set accuracy: 0.824999988079071\n",
      "fold 4:\n",
      "train set loss: 1.8277345776557923\n",
      "train set accuracy: 0.948437511920929\n",
      "valid set loss: 1.9157468795776367\n",
      "valid set accuracy: 0.7250000238418579\n",
      "fold 5:\n",
      "train set loss: 1.8190978288650512\n",
      "train set accuracy: 0.953125\n",
      "valid set loss: 1.842239546775818\n",
      "valid set accuracy: 0.887499988079071\n",
      "epoch loss: 1.892\n",
      "epoch accuracy: 0.78\n",
      "-------epoch  5 -------\n",
      "fold 1:\n",
      "train set loss: 1.8180874347686768\n",
      "train set accuracy: 0.957812488079071\n",
      "valid set loss: 1.8784531831741333\n",
      "valid set accuracy: 0.8187500238418579\n",
      "fold 2:\n",
      "train set loss: 1.8200645804405213\n",
      "train set accuracy: 0.940625011920929\n",
      "valid set loss: 1.8357892036437988\n",
      "valid set accuracy: 0.887499988079071\n",
      "fold 3:\n",
      "train set loss: 1.8127458453178407\n",
      "train set accuracy: 0.948437511920929\n",
      "valid set loss: 1.8566675662994385\n",
      "valid set accuracy: 0.800000011920929\n",
      "fold 4:\n",
      "train set loss: 1.7996708273887634\n",
      "train set accuracy: 0.973437488079071\n",
      "valid set loss: 1.7995971202850343\n",
      "valid set accuracy: 0.949999988079071\n",
      "fold 5:\n",
      "train set loss: 1.7924524903297425\n",
      "train set accuracy: 0.973437488079071\n",
      "valid set loss: 1.8216612577438354\n",
      "valid set accuracy: 0.9125000238418579\n",
      "epoch loss: 1.838\n",
      "epoch accuracy: 0.874\n",
      "-------epoch  6 -------\n",
      "fold 1:\n",
      "train set loss: 1.7887671828269958\n",
      "train set accuracy: 0.9859375357627869\n",
      "valid set loss: 1.784698247909546\n",
      "valid set accuracy: 0.987500011920929\n",
      "fold 2:\n",
      "train set loss: 1.7847542881965637\n",
      "train set accuracy: 0.9781250357627869\n",
      "valid set loss: 1.781470251083374\n",
      "valid set accuracy: 1.0\n",
      "fold 3:\n",
      "train set loss: 1.7774712085723876\n",
      "train set accuracy: 0.9937500357627869\n",
      "valid set loss: 1.7691296815872193\n",
      "valid set accuracy: 1.0\n",
      "fold 4:\n",
      "train set loss: 1.772790288925171\n",
      "train set accuracy: 0.995312511920929\n",
      "valid set loss: 1.8376104354858398\n",
      "valid set accuracy: 0.862500011920929\n",
      "fold 5:\n",
      "train set loss: 1.7675106167793273\n",
      "train set accuracy: 0.9937500357627869\n",
      "valid set loss: 1.7632985830307006\n",
      "valid set accuracy: 0.9937500357627869\n",
      "epoch loss: 1.787\n",
      "epoch accuracy: 0.969\n",
      "-------epoch  7 -------\n",
      "fold 1:\n",
      "train set loss: 1.7614638447761535\n",
      "train set accuracy: 0.995312511920929\n",
      "valid set loss: 1.7540554046630858\n",
      "valid set accuracy: 1.0\n",
      "fold 2:\n",
      "train set loss: 1.7597365498542785\n",
      "train set accuracy: 0.9921875\n",
      "valid set loss: 1.7896321296691895\n",
      "valid set accuracy: 0.9375\n",
      "fold 3:\n",
      "train set loss: 1.7553595423698425\n",
      "train set accuracy: 0.996874988079071\n",
      "valid set loss: 1.7528939723968506\n",
      "valid set accuracy: 1.0\n",
      "fold 4:\n",
      "train set loss: 1.7523890495300294\n",
      "train set accuracy: 0.9984375238418579\n",
      "valid set loss: 1.7521876573562623\n",
      "valid set accuracy: 0.9937500357627869\n",
      "fold 5:\n",
      "train set loss: 1.7509003639221192\n",
      "train set accuracy: 0.9984375238418579\n",
      "valid set loss: 1.7390583753585815\n",
      "valid set accuracy: 1.0\n",
      "epoch loss: 1.758\n",
      "epoch accuracy: 0.986\n",
      "-------epoch  8 -------\n",
      "fold 1:\n",
      "train set loss: 1.7460682153701783\n",
      "train set accuracy: 0.996874988079071\n",
      "valid set loss: 1.744055700302124\n",
      "valid set accuracy: 1.0\n",
      "fold 2:\n",
      "train set loss: 1.7445889353752135\n",
      "train set accuracy: 0.9937500357627869\n",
      "valid set loss: 1.7381048440933227\n",
      "valid set accuracy: 1.0\n",
      "fold 3:\n",
      "train set loss: 1.7417556643486023\n",
      "train set accuracy: 0.996874988079071\n",
      "valid set loss: 1.7453374862670898\n",
      "valid set accuracy: 1.0\n",
      "fold 4:\n",
      "train set loss: 1.7367119789123535\n",
      "train set accuracy: 0.9984375238418579\n",
      "valid set loss: 1.7385337829589844\n",
      "valid set accuracy: 1.0\n",
      "fold 5:\n",
      "train set loss: 1.7370397090911864\n",
      "train set accuracy: 0.996874988079071\n",
      "valid set loss: 1.7479506492614747\n",
      "valid set accuracy: 0.9937500357627869\n",
      "epoch loss: 1.743\n",
      "epoch accuracy: 0.999\n",
      "-------epoch  9 -------\n",
      "fold 1:\n",
      "train set loss: 1.7311325669288635\n",
      "train set accuracy: 0.9984375238418579\n",
      "valid set loss: 1.7251153945922852\n",
      "valid set accuracy: 1.0\n",
      "fold 2:\n",
      "train set loss: 1.7298959612846374\n",
      "train set accuracy: 0.995312511920929\n",
      "valid set loss: 1.7190101623535157\n",
      "valid set accuracy: 1.0\n",
      "fold 3:\n",
      "train set loss: 1.7278236746788025\n",
      "train set accuracy: 0.9984375238418579\n",
      "valid set loss: 1.7217058658599853\n",
      "valid set accuracy: 1.0\n",
      "fold 4:\n",
      "train set loss: 1.72490736246109\n",
      "train set accuracy: 0.9984375238418579\n",
      "valid set loss: 1.7167394638061524\n",
      "valid set accuracy: 0.9937500357627869\n",
      "fold 5:\n",
      "train set loss: 1.7247384309768676\n",
      "train set accuracy: 0.9984375238418579\n",
      "valid set loss: 1.729405450820923\n",
      "valid set accuracy: 0.9937500357627869\n",
      "epoch loss: 1.722\n",
      "epoch accuracy: 0.998\n",
      "-------epoch  10 -------\n",
      "fold 1:\n",
      "train set loss: 1.7191914916038513\n",
      "train set accuracy: 0.996874988079071\n",
      "valid set loss: 1.754418134689331\n",
      "valid set accuracy: 0.987500011920929\n",
      "fold 2:\n",
      "train set loss: 1.7207785487174987\n",
      "train set accuracy: 0.9984375238418579\n",
      "valid set loss: 1.7137756824493409\n",
      "valid set accuracy: 0.9937500357627869\n",
      "fold 3:\n",
      "train set loss: 1.7160424590110779\n",
      "train set accuracy: 0.996874988079071\n",
      "valid set loss: 1.7145370960235595\n",
      "valid set accuracy: 1.0\n",
      "fold 4:\n",
      "train set loss: 1.7168423175811767\n",
      "train set accuracy: 0.996874988079071\n",
      "valid set loss: 1.7309191226959229\n",
      "valid set accuracy: 0.981249988079071\n",
      "fold 5:\n",
      "train set loss: 1.7129369139671327\n",
      "train set accuracy: 0.9984375238418579\n",
      "valid set loss: 1.709795308113098\n",
      "valid set accuracy: 1.0\n",
      "epoch loss: 1.725\n",
      "epoch accuracy: 0.993\n",
      "finish training\n"
     ]
    }
   ],
   "source": [
    "epoch = 10\n",
    "history = train(model,loss_function,opt,dataloaders_train,dataloaders_valid,k,epoch=epoch)\n",
    "print(\"finish training\")"
   ],
   "metadata": {
    "collapsed": false,
    "ExecuteTime": {
     "end_time": "2024-04-09T21:00:31.708551Z",
     "start_time": "2024-04-09T20:58:50.101627Z"
    }
   },
   "id": "f337739ec944959",
   "execution_count": 17
  },
  {
   "cell_type": "code",
   "outputs": [
    {
     "data": {
      "text/plain": "<Figure size 640x480 with 1 Axes>",
      "image/png": "[encoded data removed]"
     },
     "metadata": {},
     "output_type": "display_data"
    }
   ],
   "source": [
    "plt.plot(range(epoch),history['loss'])\n",
    "plt.xlabel('Epoch')\n",
    "plt.ylabel('Loss')\n",
    "plt.show()"
   ],
   "metadata": {
    "collapsed": false,
    "ExecuteTime": {
     "end_time": "2024-04-09T21:00:31.785695Z",
     "start_time": "2024-04-09T21:00:31.710406Z"
    }
   },
   "id": "e9886d660052e25",
   "execution_count": 18
  },
  {
   "cell_type": "code",
   "outputs": [
    {
     "data": {
      "text/plain": "<Figure size 640x480 with 1 Axes>",
      "image/png": "[encoded data removed]"
     },
     "metadata": {},
     "output_type": "display_data"
    }
   ],
   "source": [
    "plt.plot(range(epoch),history['accuracy'])\n",
    "plt.xlabel('Epoch')\n",
    "plt.ylabel('Accuracy')\n",
    "plt.show()"
   ],
   "metadata": {
    "collapsed": false,
    "ExecuteTime": {
     "end_time": "2024-04-09T21:00:31.863375Z",
     "start_time": "2024-04-09T21:00:31.787195Z"
    }
   },
   "id": "a8414674895804af",
   "execution_count": 19
  },
  {
   "cell_type": "markdown",
   "source": [
    "# Test"
   ],
   "metadata": {
    "collapsed": false
   },
   "id": "5c0911516d6f57ea"
  },
  {
   "cell_type": "code",
   "outputs": [
    {
     "name": "stdout",
     "output_type": "stream",
     "text": [
      "test set loss: 1.854\n",
      "test set accuracy: 0.825\n",
      "test set AUC: 0.952\n",
      "test set f1-score: 0.825\n"
     ]
    }
   ],
   "source": [
    "loss, acc, AUC, f1 = test(model,loss_function,dataloader_test)"
   ],
   "metadata": {
    "collapsed": false,
    "ExecuteTime": {
     "end_time": "2024-04-09T21:00:32.065764Z",
     "start_time": "2024-04-09T21:00:31.864377Z"
    }
   },
   "id": "f6fbd2319ef5abaa",
   "execution_count": 20
  }
 ],
 "metadata": {
  "kernelspec": {
   "display_name": "Python 3",
   "language": "python",
   "name": "python3"
  },
  "language_info": {
   "codemirror_mode": {
    "name": "ipython",
    "version": 2
   },
   "file_extension": ".py",
   "mimetype": "text/x-python",
   "name": "python",
   "nbconvert_exporter": "python",
   "pygments_lexer": "ipython2",
   "version": "2.7.6"
  }
 },
 "nbformat": 4,
 "nbformat_minor": 5
}
