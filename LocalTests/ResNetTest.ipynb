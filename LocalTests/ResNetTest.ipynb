{
 "cells": [
  {
   "cell_type": "code",
   "execution_count": 1,
   "id": "initial_id",
   "metadata": {
    "collapsed": true,
    "ExecuteTime": {
     "end_time": "2024-04-09T19:58:23.568544Z",
     "start_time": "2024-04-09T19:58:18.652484Z"
    }
   },
   "outputs": [],
   "source": [
    "from sklearn.model_selection import train_test_split\n",
    "from models.ResNet import ResNet\n",
    "import librosa\n",
    "import numpy as np\n",
    "from torchinfo import summary\n",
    "from torch import nn\n",
    "from torch.optim import Adam\n",
    "from Utils import read_data,create_dataloader, k_fold_cross_validation, train, test\n",
    "import matplotlib.pyplot as plt"
   ]
  },
  {
   "cell_type": "markdown",
   "source": [
    "# Read Data "
   ],
   "metadata": {
    "collapsed": false
   },
   "id": "35bfab0a09f68507"
  },
  {
   "cell_type": "code",
   "outputs": [
    {
     "name": "stdout",
     "output_type": "stream",
     "text": [
      "finsh reading data\n"
     ]
    }
   ],
   "source": [
    "sr = 16 * 1000\n",
    "x,y,min_length = read_data(root='../Data/genres_original', sr=sr)\n",
    "print(\"finsh reading data\")"
   ],
   "metadata": {
    "collapsed": false,
    "ExecuteTime": {
     "end_time": "2024-04-09T19:58:31.935884Z",
     "start_time": "2024-04-09T19:58:23.569544Z"
    }
   },
   "id": "f6d4684e6aca316b",
   "execution_count": 2
  },
  {
   "cell_type": "markdown",
   "source": [
    "# Conversion, Compression and Normalisation"
   ],
   "metadata": {
    "collapsed": false
   },
   "id": "abee602f31169a9e"
  },
  {
   "cell_type": "code",
   "outputs": [
    {
     "name": "stdout",
     "output_type": "stream",
     "text": [
      "finish conversion and compression\n"
     ]
    }
   ],
   "source": [
    "top_db = 80\n",
    "for i in range(len(x)):\n",
    "    signal = x[i][:min_length]\n",
    "    mel_spect = librosa.feature.melspectrogram(y=signal,sr=sr,n_fft=1024) # convert signals to mel spectrogram\n",
    "    mel_spect = librosa.power_to_db(mel_spect, ref=np.max, top_db=top_db) # log compression\n",
    "    x[i] = mel_spect/-top_db # normalisation\n",
    "print(\"finish conversion and compression\")"
   ],
   "metadata": {
    "collapsed": false,
    "ExecuteTime": {
     "end_time": "2024-04-09T19:58:44.274066Z",
     "start_time": "2024-04-09T19:58:31.938856Z"
    }
   },
   "id": "10d08606be2ee6a5",
   "execution_count": 3
  },
  {
   "cell_type": "markdown",
   "source": [
    "# Split Data"
   ],
   "metadata": {
    "collapsed": false
   },
   "id": "5f5a457feb048e00"
  },
  {
   "cell_type": "code",
   "outputs": [
    {
     "name": "stdout",
     "output_type": "stream",
     "text": [
      "(1000, 1, 128, 936)\n"
     ]
    }
   ],
   "source": [
    "x = np.asarray(x)\n",
    "x = x.reshape(x.shape[0],1,x.shape[1],x.shape[2])\n",
    "y = np.asarray(y)\n",
    "print(x.shape)"
   ],
   "metadata": {
    "collapsed": false,
    "ExecuteTime": {
     "end_time": "2024-04-09T19:58:44.417354Z",
     "start_time": "2024-04-09T19:58:44.275991Z"
    }
   },
   "id": "fdb0312ac9fdb7c0",
   "execution_count": 4
  },
  {
   "cell_type": "code",
   "outputs": [
    {
     "name": "stdout",
     "output_type": "stream",
     "text": [
      "finish splitting data\n"
     ]
    }
   ],
   "source": [
    "x_train, x_test, y_train, y_test = train_test_split(x, y, test_size=0.2,\n",
    "                                                    stratify=y,shuffle=True)\n",
    "# k-fold cross validation\n",
    "k = 5\n",
    "xs_train, ys_train, xs_valid, ys_valid = k_fold_cross_validation(x_train,y_train,k)\n",
    "print(\"finish splitting data\")"
   ],
   "metadata": {
    "collapsed": false,
    "ExecuteTime": {
     "end_time": "2024-04-09T19:58:44.779429Z",
     "start_time": "2024-04-09T19:58:44.419356Z"
    }
   },
   "id": "df2254735832f87e",
   "execution_count": 5
  },
  {
   "cell_type": "code",
   "outputs": [
    {
     "name": "stdout",
     "output_type": "stream",
     "text": [
      "finish creating dataloaders\n"
     ]
    }
   ],
   "source": [
    "batch_size = 32\n",
    "dataloaders_train = []\n",
    "dataloaders_valid = []\n",
    "for i in range(k):\n",
    "    dataloaders_train.append(create_dataloader(xs_train[i], ys_train[i], batch_size=batch_size))\n",
    "    dataloaders_valid.append(create_dataloader(xs_valid[i], ys_valid[i], batch_size=batch_size))\n",
    "dataloader_test = create_dataloader(x_test, y_test, batch_size=batch_size)\n",
    "print(\"finish creating dataloaders\")"
   ],
   "metadata": {
    "collapsed": false,
    "ExecuteTime": {
     "end_time": "2024-04-09T19:58:45.028076Z",
     "start_time": "2024-04-09T19:58:44.781430Z"
    }
   },
   "id": "b6af9344bf4293da",
   "execution_count": 6
  },
  {
   "cell_type": "markdown",
   "source": [
    "# Model Construction"
   ],
   "metadata": {
    "collapsed": false
   },
   "id": "75bac39738931f71"
  },
  {
   "cell_type": "code",
   "outputs": [
    {
     "data": {
      "text/plain": "==========================================================================================\nLayer (type:depth-idx)                   Output Shape              Param #\n==========================================================================================\nResNet                                   [32, 10]                  --\n├─Sequential: 1-1                        [32, 64, 32, 234]         --\n│    └─Conv2d: 2-1                       [32, 64, 64, 468]         640\n│    └─BatchNorm2d: 2-2                  [32, 64, 64, 468]         128\n│    └─ReLU: 2-3                         [32, 64, 64, 468]         --\n│    └─MaxPool2d: 2-4                    [32, 64, 32, 234]         --\n├─ResidualBlock: 1-2                     [32, 64, 32, 234]         --\n│    └─Conv2d: 2-5                       [32, 64, 32, 234]         36,928\n│    └─BatchNorm2d: 2-6                  [32, 64, 32, 234]         128\n│    └─ReLU: 2-7                         [32, 64, 32, 234]         --\n│    └─Conv2d: 2-8                       [32, 64, 32, 234]         36,928\n│    └─BatchNorm2d: 2-9                  [32, 64, 32, 234]         128\n│    └─ReLU: 2-10                        [32, 64, 32, 234]         --\n├─ResidualBlock: 1-3                     [32, 64, 32, 234]         --\n│    └─Conv2d: 2-11                      [32, 64, 32, 234]         36,928\n│    └─BatchNorm2d: 2-12                 [32, 64, 32, 234]         128\n│    └─ReLU: 2-13                        [32, 64, 32, 234]         --\n│    └─Conv2d: 2-14                      [32, 64, 32, 234]         36,928\n│    └─BatchNorm2d: 2-15                 [32, 64, 32, 234]         128\n│    └─ReLU: 2-16                        [32, 64, 32, 234]         --\n├─ResidualBlock: 1-4                     [32, 128, 16, 117]        --\n│    └─Conv2d: 2-17                      [32, 128, 16, 117]        73,856\n│    └─BatchNorm2d: 2-18                 [32, 128, 16, 117]        256\n│    └─ReLU: 2-19                        [32, 128, 16, 117]        --\n│    └─Conv2d: 2-20                      [32, 128, 16, 117]        147,584\n│    └─BatchNorm2d: 2-21                 [32, 128, 16, 117]        256\n│    └─Sequential: 2-22                  [32, 128, 16, 117]        --\n│    │    └─Conv2d: 3-1                  [32, 128, 16, 117]        8,320\n│    │    └─BatchNorm2d: 3-2             [32, 128, 16, 117]        256\n│    └─ReLU: 2-23                        [32, 128, 16, 117]        --\n├─ResidualBlock: 1-5                     [32, 128, 16, 117]        --\n│    └─Conv2d: 2-24                      [32, 128, 16, 117]        147,584\n│    └─BatchNorm2d: 2-25                 [32, 128, 16, 117]        256\n│    └─ReLU: 2-26                        [32, 128, 16, 117]        --\n│    └─Conv2d: 2-27                      [32, 128, 16, 117]        147,584\n│    └─BatchNorm2d: 2-28                 [32, 128, 16, 117]        256\n│    └─ReLU: 2-29                        [32, 128, 16, 117]        --\n├─ResidualBlock: 1-6                     [32, 256, 8, 59]          --\n│    └─Conv2d: 2-30                      [32, 256, 8, 59]          295,168\n│    └─BatchNorm2d: 2-31                 [32, 256, 8, 59]          512\n│    └─ReLU: 2-32                        [32, 256, 8, 59]          --\n│    └─Conv2d: 2-33                      [32, 256, 8, 59]          590,080\n│    └─BatchNorm2d: 2-34                 [32, 256, 8, 59]          512\n│    └─Sequential: 2-35                  [32, 256, 8, 59]          --\n│    │    └─Conv2d: 3-3                  [32, 256, 8, 59]          33,024\n│    │    └─BatchNorm2d: 3-4             [32, 256, 8, 59]          512\n│    └─ReLU: 2-36                        [32, 256, 8, 59]          --\n├─ResidualBlock: 1-7                     [32, 256, 8, 59]          --\n│    └─Conv2d: 2-37                      [32, 256, 8, 59]          590,080\n│    └─BatchNorm2d: 2-38                 [32, 256, 8, 59]          512\n│    └─ReLU: 2-39                        [32, 256, 8, 59]          --\n│    └─Conv2d: 2-40                      [32, 256, 8, 59]          590,080\n│    └─BatchNorm2d: 2-41                 [32, 256, 8, 59]          512\n│    └─ReLU: 2-42                        [32, 256, 8, 59]          --\n├─ResidualBlock: 1-8                     [32, 512, 4, 30]          --\n│    └─Conv2d: 2-43                      [32, 512, 4, 30]          1,180,160\n│    └─BatchNorm2d: 2-44                 [32, 512, 4, 30]          1,024\n│    └─ReLU: 2-45                        [32, 512, 4, 30]          --\n│    └─Conv2d: 2-46                      [32, 512, 4, 30]          2,359,808\n│    └─BatchNorm2d: 2-47                 [32, 512, 4, 30]          1,024\n│    └─Sequential: 2-48                  [32, 512, 4, 30]          --\n│    │    └─Conv2d: 3-5                  [32, 512, 4, 30]          131,584\n│    │    └─BatchNorm2d: 3-6             [32, 512, 4, 30]          1,024\n│    └─ReLU: 2-49                        [32, 512, 4, 30]          --\n├─ResidualBlock: 1-9                     [32, 512, 4, 30]          --\n│    └─Conv2d: 2-50                      [32, 512, 4, 30]          2,359,808\n│    └─BatchNorm2d: 2-51                 [32, 512, 4, 30]          1,024\n│    └─ReLU: 2-52                        [32, 512, 4, 30]          --\n│    └─Conv2d: 2-53                      [32, 512, 4, 30]          2,359,808\n│    └─BatchNorm2d: 2-54                 [32, 512, 4, 30]          1,024\n│    └─ReLU: 2-55                        [32, 512, 4, 30]          --\n├─AdaptiveAvgPool2d: 1-10                [32, 512, 1, 1]           --\n├─Sequential: 1-11                       [32, 10]                  --\n│    └─Linear: 2-56                      [32, 10]                  5,130\n│    └─BatchNorm1d: 2-57                 [32, 10]                  20\n│    └─Sigmoid: 2-58                     [32, 10]                  --\n==========================================================================================\nTotal params: 11,177,630\nTrainable params: 11,177,630\nNon-trainable params: 0\nTotal mult-adds (G): 131.37\n==========================================================================================\nInput size (MB): 15.34\nForward/backward pass size (MB): 3042.97\nParams size (MB): 44.71\nEstimated Total Size (MB): 3103.02\n=========================================================================================="
     },
     "execution_count": 7,
     "metadata": {},
     "output_type": "execute_result"
    }
   ],
   "source": [
    "model = ResNet(10,pre_filter_size=3,in_channels=1)\n",
    "model.cuda()\n",
    "loss_function = nn.CrossEntropyLoss()\n",
    "opt = Adam(model.parameters(), lr=0.001)\n",
    "summary(model,[(batch_size,1,x.shape[2],x.shape[3])])"
   ],
   "metadata": {
    "collapsed": false,
    "ExecuteTime": {
     "end_time": "2024-04-09T19:58:45.641062Z",
     "start_time": "2024-04-09T19:58:45.029074Z"
    }
   },
   "id": "8ac890d4d4ca0df0",
   "execution_count": 7
  },
  {
   "cell_type": "markdown",
   "source": [
    "# Train"
   ],
   "metadata": {
    "collapsed": false
   },
   "id": "5934b88b153c69e5"
  },
  {
   "cell_type": "code",
   "outputs": [
    {
     "name": "stdout",
     "output_type": "stream",
     "text": [
      "-------epoch  1 -------\n",
      "fold 1:\n",
      "train set loss: 2.144842290878296\n",
      "train set accuracy: 0.30156251788139343\n",
      "valid set loss: 2.3399184226989744\n",
      "valid set accuracy: 0.10000000149011612\n",
      "fold 2:\n",
      "train set loss: 2.074795091152191\n",
      "train set accuracy: 0.45625001192092896\n",
      "valid set loss: 2.314945697784424\n",
      "valid set accuracy: 0.07500000298023224\n",
      "fold 3:\n",
      "train set loss: 2.0481742143630983\n",
      "train set accuracy: 0.4765625\n",
      "valid set loss: 2.1490945339202883\n",
      "valid set accuracy: 0.3062500059604645\n",
      "fold 4:\n",
      "train set loss: 2.039948010444641\n",
      "train set accuracy: 0.4937500059604645\n",
      "valid set loss: 2.0332194328308106\n",
      "valid set accuracy: 0.5\n",
      "fold 5:\n",
      "train set loss: 2.0147507011890413\n",
      "train set accuracy: 0.5453125238418579\n",
      "valid set loss: 1.999215316772461\n",
      "valid set accuracy: 0.3812499940395355\n",
      "epoch loss: 2.167\n",
      "epoch accuracy: 0.273\n",
      "-------epoch  2 -------\n",
      "fold 1:\n",
      "train set loss: 1.997525805234909\n",
      "train set accuracy: 0.5765625238418579\n",
      "valid set loss: 2.005119514465332\n",
      "valid set accuracy: 0.4937500059604645\n",
      "fold 2:\n",
      "train set loss: 1.9932579040527343\n",
      "train set accuracy: 0.574999988079071\n",
      "valid set loss: 2.0099514961242675\n",
      "valid set accuracy: 0.5062500238418579\n",
      "fold 3:\n",
      "train set loss: 1.9605525135993958\n",
      "train set accuracy: 0.6578125357627869\n",
      "valid set loss: 1.9938100814819335\n",
      "valid set accuracy: 0.4937500059604645\n",
      "fold 4:\n",
      "train set loss: 1.9529669404029846\n",
      "train set accuracy: 0.6703125238418579\n",
      "valid set loss: 1.9426958560943604\n",
      "valid set accuracy: 0.668749988079071\n",
      "fold 5:\n",
      "train set loss: 1.9309423506259917\n",
      "train set accuracy: 0.7015625238418579\n",
      "valid set loss: 1.9600361108779907\n",
      "valid set accuracy: 0.6625000238418579\n",
      "epoch loss: 1.982\n",
      "epoch accuracy: 0.565\n",
      "-------epoch  3 -------\n",
      "fold 1:\n",
      "train set loss: 1.9134555220603944\n",
      "train set accuracy: 0.760937511920929\n",
      "valid set loss: 1.9008165836334228\n",
      "valid set accuracy: 0.731249988079071\n",
      "fold 2:\n",
      "train set loss: 1.8927659451961518\n",
      "train set accuracy: 0.7640625238418579\n",
      "valid set loss: 1.913658571243286\n",
      "valid set accuracy: 0.668749988079071\n",
      "fold 3:\n",
      "train set loss: 1.8902524411678314\n",
      "train set accuracy: 0.762499988079071\n",
      "valid set loss: 1.957545566558838\n",
      "valid set accuracy: 0.5562500357627869\n",
      "fold 4:\n",
      "train set loss: 1.8831697046756743\n",
      "train set accuracy: 0.7828125357627869\n",
      "valid set loss: 1.9633241176605225\n",
      "valid set accuracy: 0.5875000357627869\n",
      "fold 5:\n",
      "train set loss: 1.8649563491344452\n",
      "train set accuracy: 0.809374988079071\n",
      "valid set loss: 1.8864407062530517\n",
      "valid set accuracy: 0.706250011920929\n",
      "epoch loss: 1.924\n",
      "epoch accuracy: 0.65\n",
      "-------epoch  4 -------\n",
      "fold 1:\n",
      "train set loss: 1.852947175502777\n",
      "train set accuracy: 0.8203125\n",
      "valid set loss: 1.9055065393447876\n",
      "valid set accuracy: 0.6937500238418579\n",
      "fold 2:\n",
      "train set loss: 1.8468737602233887\n",
      "train set accuracy: 0.817187488079071\n",
      "valid set loss: 1.8942282915115356\n",
      "valid set accuracy: 0.699999988079071\n",
      "fold 3:\n",
      "train set loss: 1.8338931620121002\n",
      "train set accuracy: 0.8531250357627869\n",
      "valid set loss: 1.8716195583343507\n",
      "valid set accuracy: 0.793749988079071\n",
      "fold 4:\n",
      "train set loss: 1.8253303647041321\n",
      "train set accuracy: 0.8812500238418579\n",
      "valid set loss: 1.7833785533905029\n",
      "valid set accuracy: 0.875\n",
      "fold 5:\n",
      "train set loss: 1.8193709135055542\n",
      "train set accuracy: 0.862500011920929\n",
      "valid set loss: 1.8250414609909058\n",
      "valid set accuracy: 0.887499988079071\n",
      "epoch loss: 1.856\n",
      "epoch accuracy: 0.79\n",
      "-------epoch  5 -------\n",
      "fold 1:\n",
      "train set loss: 1.81121746301651\n",
      "train set accuracy: 0.887499988079071\n",
      "valid set loss: 1.802609920501709\n",
      "valid set accuracy: 0.887499988079071\n",
      "fold 2:\n",
      "train set loss: 1.8048615455627441\n",
      "train set accuracy: 0.8734375238418579\n",
      "valid set loss: 1.809010672569275\n",
      "valid set accuracy: 0.875\n",
      "fold 3:\n",
      "train set loss: 1.8065931141376494\n",
      "train set accuracy: 0.870312511920929\n",
      "valid set loss: 1.8364736795425416\n",
      "valid set accuracy: 0.737500011920929\n",
      "fold 4:\n",
      "train set loss: 1.8006245374679566\n",
      "train set accuracy: 0.8828125\n",
      "valid set loss: 1.8177949905395507\n",
      "valid set accuracy: 0.793749988079071\n",
      "fold 5:\n",
      "train set loss: 1.790477740764618\n",
      "train set accuracy: 0.8843750357627869\n",
      "valid set loss: 1.8036880970001221\n",
      "valid set accuracy: 0.8687500357627869\n",
      "epoch loss: 1.814\n",
      "epoch accuracy: 0.832\n",
      "-------epoch  6 -------\n",
      "fold 1:\n",
      "train set loss: 1.7772312045097352\n",
      "train set accuracy: 0.9125000238418579\n",
      "valid set loss: 1.7593497276306151\n",
      "valid set accuracy: 0.949999988079071\n",
      "fold 2:\n",
      "train set loss: 1.7734265506267548\n",
      "train set accuracy: 0.90625\n",
      "valid set loss: 1.7607611656188964\n",
      "valid set accuracy: 0.9437500238418579\n",
      "fold 3:\n",
      "train set loss: 1.7648874044418335\n",
      "train set accuracy: 0.921875\n",
      "valid set loss: 1.7880723476409912\n",
      "valid set accuracy: 0.84375\n",
      "fold 4:\n",
      "train set loss: 1.757148540019989\n",
      "train set accuracy: 0.9359375238418579\n",
      "valid set loss: 1.7747505187988282\n",
      "valid set accuracy: 0.856249988079071\n",
      "fold 5:\n",
      "train set loss: 1.7514121413230896\n",
      "train set accuracy: 0.934374988079071\n",
      "valid set loss: 1.719912838935852\n",
      "valid set accuracy: 0.981249988079071\n",
      "epoch loss: 1.761\n",
      "epoch accuracy: 0.915\n",
      "-------epoch  7 -------\n",
      "fold 1:\n",
      "train set loss: 1.7365290343761444\n",
      "train set accuracy: 0.9625000357627869\n",
      "valid set loss: 1.7393869876861572\n",
      "valid set accuracy: 0.96875\n",
      "fold 2:\n",
      "train set loss: 1.7347330272197723\n",
      "train set accuracy: 0.957812488079071\n",
      "valid set loss: 1.7180598020553588\n",
      "valid set accuracy: 0.9750000238418579\n",
      "fold 3:\n",
      "train set loss: 1.7324142694473266\n",
      "train set accuracy: 0.956250011920929\n",
      "valid set loss: 1.708642601966858\n",
      "valid set accuracy: 0.981249988079071\n",
      "fold 4:\n",
      "train set loss: 1.7270403802394867\n",
      "train set accuracy: 0.9625000357627869\n",
      "valid set loss: 1.7495118379592896\n",
      "valid set accuracy: 0.887499988079071\n",
      "fold 5:\n",
      "train set loss: 1.7358470499515533\n",
      "train set accuracy: 0.9390625357627869\n",
      "valid set loss: 1.7522435665130616\n",
      "valid set accuracy: 0.8812500238418579\n",
      "epoch loss: 1.734\n",
      "epoch accuracy: 0.939\n",
      "-------epoch  8 -------\n",
      "fold 1:\n",
      "train set loss: 1.7209207355976104\n",
      "train set accuracy: 0.953125\n",
      "valid set loss: 1.709398341178894\n",
      "valid set accuracy: 0.956250011920929\n",
      "fold 2:\n",
      "train set loss: 1.725041288137436\n",
      "train set accuracy: 0.9390625357627869\n",
      "valid set loss: 1.7226576805114746\n",
      "valid set accuracy: 0.9312500357627869\n",
      "fold 3:\n",
      "train set loss: 1.7145929157733917\n",
      "train set accuracy: 0.9593750238418579\n",
      "valid set loss: 1.7112119913101196\n",
      "valid set accuracy: 0.956250011920929\n",
      "fold 4:\n",
      "train set loss: 1.7056615352630615\n",
      "train set accuracy: 0.953125\n",
      "valid set loss: 1.6922709465026855\n",
      "valid set accuracy: 0.9750000238418579\n",
      "fold 5:\n",
      "train set loss: 1.7008510887622834\n",
      "train set accuracy: 0.964062511920929\n",
      "valid set loss: 1.7089395999908448\n",
      "valid set accuracy: 0.9312500357627869\n",
      "epoch loss: 1.709\n",
      "epoch accuracy: 0.95\n",
      "-------epoch  9 -------\n",
      "fold 1:\n",
      "train set loss: 1.6976613461971284\n",
      "train set accuracy: 0.964062511920929\n",
      "valid set loss: 1.6883106231689453\n",
      "valid set accuracy: 0.981249988079071\n",
      "fold 2:\n",
      "train set loss: 1.6949840426445006\n",
      "train set accuracy: 0.9750000238418579\n",
      "valid set loss: 1.6671302795410157\n",
      "valid set accuracy: 0.9937500357627869\n",
      "fold 3:\n",
      "train set loss: 1.6944548606872558\n",
      "train set accuracy: 0.965624988079071\n",
      "valid set loss: 1.7253116607666015\n",
      "valid set accuracy: 0.8812500238418579\n",
      "fold 4:\n",
      "train set loss: 1.6861082375049592\n",
      "train set accuracy: 0.9703125357627869\n",
      "valid set loss: 1.7016718149185182\n",
      "valid set accuracy: 0.9437500238418579\n",
      "fold 5:\n",
      "train set loss: 1.6822435200214385\n",
      "train set accuracy: 0.9703125357627869\n",
      "valid set loss: 1.6546523094177246\n",
      "valid set accuracy: 1.0\n",
      "epoch loss: 1.687\n",
      "epoch accuracy: 0.96\n",
      "-------epoch  10 -------\n",
      "fold 1:\n",
      "train set loss: 1.6778813362121583\n",
      "train set accuracy: 0.973437488079071\n",
      "valid set loss: 1.695244026184082\n",
      "valid set accuracy: 0.949999988079071\n",
      "fold 2:\n",
      "train set loss: 1.6712939500808717\n",
      "train set accuracy: 0.9781250357627869\n",
      "valid set loss: 1.6972819089889526\n",
      "valid set accuracy: 0.9125000238418579\n",
      "fold 3:\n",
      "train set loss: 1.6751995086669922\n",
      "train set accuracy: 0.9468750357627869\n",
      "valid set loss: 1.6744295835494996\n",
      "valid set accuracy: 0.9750000238418579\n",
      "fold 4:\n",
      "train set loss: 1.6689951360225677\n",
      "train set accuracy: 0.971875011920929\n",
      "valid set loss: 1.632566261291504\n",
      "valid set accuracy: 1.0\n",
      "fold 5:\n",
      "train set loss: 1.664031171798706\n",
      "train set accuracy: 0.973437488079071\n",
      "valid set loss: 1.6451121330261231\n",
      "valid set accuracy: 1.0\n",
      "epoch loss: 1.669\n",
      "epoch accuracy: 0.968\n",
      "finish training\n"
     ]
    }
   ],
   "source": [
    "epoch = 10\n",
    "history = train(model,loss_function,opt,dataloaders_train,dataloaders_valid,k,epoch=epoch)\n",
    "print(\"finish training\")"
   ],
   "metadata": {
    "collapsed": false,
    "ExecuteTime": {
     "end_time": "2024-04-09T20:00:17.917586Z",
     "start_time": "2024-04-09T19:58:45.642066Z"
    }
   },
   "id": "f337739ec944959",
   "execution_count": 8
  },
  {
   "cell_type": "code",
   "outputs": [
    {
     "data": {
      "text/plain": "<Figure size 640x480 with 1 Axes>",
      "image/png": "[encoded data removed]"
     },
     "metadata": {},
     "output_type": "display_data"
    }
   ],
   "source": [
    "plt.plot(range(epoch),history['loss'])\n",
    "plt.xlabel('Epoch')\n",
    "plt.ylabel('Loss')\n",
    "plt.show()"
   ],
   "metadata": {
    "collapsed": false,
    "ExecuteTime": {
     "end_time": "2024-04-09T20:00:18.027315Z",
     "start_time": "2024-04-09T20:00:17.918484Z"
    }
   },
   "id": "e9886d660052e25",
   "execution_count": 9
  },
  {
   "cell_type": "code",
   "outputs": [
    {
     "data": {
      "text/plain": "<Figure size 640x480 with 1 Axes>",
      "image/png": "[encoded data removed]"
     },
     "metadata": {},
     "output_type": "display_data"
    }
   ],
   "source": [
    "plt.plot(range(epoch),history['accuracy'])\n",
    "plt.xlabel('Epoch')\n",
    "plt.ylabel('Accuracy')\n",
    "plt.show()"
   ],
   "metadata": {
    "collapsed": false,
    "ExecuteTime": {
     "end_time": "2024-04-09T20:00:18.138507Z",
     "start_time": "2024-04-09T20:00:18.028349Z"
    }
   },
   "id": "a8414674895804af",
   "execution_count": 10
  },
  {
   "cell_type": "markdown",
   "source": [
    "# Test"
   ],
   "metadata": {
    "collapsed": false
   },
   "id": "5c0911516d6f57ea"
  },
  {
   "cell_type": "code",
   "outputs": [
    {
     "name": "stdout",
     "output_type": "stream",
     "text": [
      "test set loss: 1.791\n",
      "test set accuracy: 0.795\n",
      "test set AUC: 0.947\n",
      "test set f1-score: 0.795\n"
     ]
    }
   ],
   "source": [
    "loss, acc, AUC, f1 = test(model,loss_function,dataloader_test)"
   ],
   "metadata": {
    "collapsed": false,
    "ExecuteTime": {
     "end_time": "2024-04-09T20:00:18.470838Z",
     "start_time": "2024-04-09T20:00:18.139565Z"
    }
   },
   "id": "f6fbd2319ef5abaa",
   "execution_count": 11
  }
 ],
 "metadata": {
  "kernelspec": {
   "display_name": "Python 3",
   "language": "python",
   "name": "python3"
  },
  "language_info": {
   "codemirror_mode": {
    "name": "ipython",
    "version": 2
   },
   "file_extension": ".py",
   "mimetype": "text/x-python",
   "name": "python",
   "nbconvert_exporter": "python",
   "pygments_lexer": "ipython2",
   "version": "2.7.6"
  }
 },
 "nbformat": 4,
 "nbformat_minor": 5
}
