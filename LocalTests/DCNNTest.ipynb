{
 "cells": [
  {
   "cell_type": "code",
   "execution_count": 9,
   "id": "initial_id",
   "metadata": {
    "collapsed": true,
    "ExecuteTime": {
     "end_time": "2024-04-02T16:18:01.491084Z",
     "start_time": "2024-04-02T16:18:01.473084Z"
    }
   },
   "outputs": [],
   "source": [
    "from sklearn.model_selection import train_test_split\n",
    "from models.DCNN import DCNN\n",
    "import librosa\n",
    "import numpy as np\n",
    "from torchinfo import summary\n",
    "from torch import nn\n",
    "from torch.optim import Adam\n",
    "from Utils import read_data,create_dataloader, k_fold_cross_validation, train, test\n",
    "import matplotlib.pyplot as plt"
   ]
  },
  {
   "cell_type": "markdown",
   "source": [
    "# Read Data"
   ],
   "metadata": {
    "collapsed": false
   },
   "id": "51a5db70937b662"
  },
  {
   "cell_type": "code",
   "outputs": [
    {
     "name": "stdout",
     "output_type": "stream",
     "text": [
      "finsh reading data\n"
     ]
    }
   ],
   "source": [
    "sr = 16 * 1000\n",
    "x,y,min_length = read_data(root='../Data/genres_original', sr=sr)\n",
    "print(\"finsh reading data\")"
   ],
   "metadata": {
    "collapsed": false,
    "ExecuteTime": {
     "end_time": "2024-04-02T16:18:07.957080Z",
     "start_time": "2024-04-02T16:18:01.492084Z"
    }
   },
   "id": "688fcddfa5166508",
   "execution_count": 10
  },
  {
   "cell_type": "markdown",
   "source": [
    "# Segment and Normalise "
   ],
   "metadata": {
    "collapsed": false
   },
   "id": "cb9b1d09933e8c"
  },
  {
   "cell_type": "code",
   "outputs": [
    {
     "name": "stdout",
     "output_type": "stream",
     "text": [
      "finish segmentation and normalisation\n"
     ]
    }
   ],
   "source": [
    "for i in range(len(x)):\n",
    "    x[i] = x[i][0:min_length]\n",
    "    x[i] = librosa.util.normalize(x[i])\n",
    "x = np.asarray(x)\n",
    "y = np.asarray(y)\n",
    "seg_length = 59049 # segment length must be 59049\n",
    "frame_num = int(x.shape[1]/seg_length)\n",
    "x = x[:, :frame_num*seg_length].reshape(frame_num*x.shape[0],1,seg_length)\n",
    "y = (y.reshape(y.shape[0],1)*np.ones((y.shape[0],frame_num))).reshape(y.shape[0]*frame_num)\n",
    "print(\"finish segmentation and normalisation\")"
   ],
   "metadata": {
    "collapsed": false,
    "ExecuteTime": {
     "end_time": "2024-04-02T16:18:12.418075Z",
     "start_time": "2024-04-02T16:18:07.958079Z"
    }
   },
   "id": "adde1dd7a93a75bf",
   "execution_count": 11
  },
  {
   "cell_type": "markdown",
   "source": [
    "# Split Data "
   ],
   "metadata": {
    "collapsed": false
   },
   "id": "980160b9ea266574"
  },
  {
   "cell_type": "code",
   "outputs": [
    {
     "name": "stdout",
     "output_type": "stream",
     "text": [
      "finish splitting data\n"
     ]
    }
   ],
   "source": [
    "x_train, x_test, y_train, y_test = train_test_split(x, y, test_size=0.2,\n",
    "                                                    stratify=y,shuffle=True)\n",
    "# k-fold cross validation\n",
    "k = 5\n",
    "xs_train, ys_train, xs_valid, ys_valid = k_fold_cross_validation(x_train,y_train,k)\n",
    "print(\"finish splitting data\")"
   ],
   "metadata": {
    "collapsed": false,
    "ExecuteTime": {
     "end_time": "2024-04-02T16:18:15.490069Z",
     "start_time": "2024-04-02T16:18:12.420072Z"
    }
   },
   "id": "9beb60e3ce30783e",
   "execution_count": 12
  },
  {
   "cell_type": "markdown",
   "source": [
    "# Create Dataloaders"
   ],
   "metadata": {
    "collapsed": false
   },
   "id": "4e3231aec7017b9d"
  },
  {
   "cell_type": "code",
   "outputs": [
    {
     "name": "stdout",
     "output_type": "stream",
     "text": [
      "finish creating dataloaders\n"
     ]
    }
   ],
   "source": [
    "batch_size = 64\n",
    "dataloaders_train = []\n",
    "dataloaders_valid = []\n",
    "for i in range(k):\n",
    "    dataloaders_train.append(create_dataloader(xs_train[i], ys_train[i], batch_size=batch_size))\n",
    "    dataloaders_valid.append(create_dataloader(xs_valid[i], ys_valid[i], batch_size=batch_size))\n",
    "dataloader_test = create_dataloader(x_test, y_test, batch_size=batch_size)\n",
    "print(\"finish creating dataloaders\")"
   ],
   "metadata": {
    "collapsed": false,
    "ExecuteTime": {
     "end_time": "2024-04-02T16:18:21.696060Z",
     "start_time": "2024-04-02T16:18:15.493068Z"
    }
   },
   "id": "96d7659a191d6c43",
   "execution_count": 13
  },
  {
   "cell_type": "markdown",
   "source": [
    "# Model Construction"
   ],
   "metadata": {
    "collapsed": false
   },
   "id": "5d6cbe706ea9b080"
  },
  {
   "cell_type": "code",
   "outputs": [
    {
     "data": {
      "text/plain": "==========================================================================================\nLayer (type:depth-idx)                   Output Shape              Param #\n==========================================================================================\nDCNN                                     [64, 10]                  --\n├─ConLayer: 1-1                          [64, 128, 19683]          --\n│    └─Conv1d: 2-1                       [64, 128, 19683]          512\n│    └─BatchNorm1d: 2-2                  [64, 128, 19683]          256\n│    └─ReLU: 2-3                         [64, 128, 19683]          --\n├─Sequential: 1-2                        [64, 128, 2187]           --\n│    └─ConLayer: 2-4                     [64, 128, 6561]           --\n│    │    └─Conv1d: 3-1                  [64, 128, 19683]          49,280\n│    │    └─BatchNorm1d: 3-2             [64, 128, 19683]          256\n│    │    └─ReLU: 3-3                    [64, 128, 19683]          --\n│    │    └─MaxPool1d: 3-4               [64, 128, 6561]           --\n│    └─ConLayer: 2-5                     [64, 128, 2187]           --\n│    │    └─Conv1d: 3-5                  [64, 128, 6561]           49,280\n│    │    └─BatchNorm1d: 3-6             [64, 128, 6561]           256\n│    │    └─ReLU: 3-7                    [64, 128, 6561]           --\n│    │    └─MaxPool1d: 3-8               [64, 128, 2187]           --\n├─Sequential: 1-3                        [64, 256, 3]              --\n│    └─ConLayer: 2-6                     [64, 256, 729]            --\n│    │    └─Conv1d: 3-9                  [64, 256, 2187]           98,560\n│    │    └─BatchNorm1d: 3-10            [64, 256, 2187]           512\n│    │    └─ReLU: 3-11                   [64, 256, 2187]           --\n│    │    └─MaxPool1d: 3-12              [64, 256, 729]            --\n│    └─ConLayer: 2-7                     [64, 256, 243]            --\n│    │    └─Conv1d: 3-13                 [64, 256, 729]            196,864\n│    │    └─BatchNorm1d: 3-14            [64, 256, 729]            512\n│    │    └─ReLU: 3-15                   [64, 256, 729]            --\n│    │    └─MaxPool1d: 3-16              [64, 256, 243]            --\n│    └─ConLayer: 2-8                     [64, 256, 81]             --\n│    │    └─Conv1d: 3-17                 [64, 256, 243]            196,864\n│    │    └─BatchNorm1d: 3-18            [64, 256, 243]            512\n│    │    └─ReLU: 3-19                   [64, 256, 243]            --\n│    │    └─MaxPool1d: 3-20              [64, 256, 81]             --\n│    └─ConLayer: 2-9                     [64, 256, 27]             --\n│    │    └─Conv1d: 3-21                 [64, 256, 81]             196,864\n│    │    └─BatchNorm1d: 3-22            [64, 256, 81]             512\n│    │    └─ReLU: 3-23                   [64, 256, 81]             --\n│    │    └─MaxPool1d: 3-24              [64, 256, 27]             --\n│    └─ConLayer: 2-10                    [64, 256, 9]              --\n│    │    └─Conv1d: 3-25                 [64, 256, 27]             196,864\n│    │    └─BatchNorm1d: 3-26            [64, 256, 27]             512\n│    │    └─ReLU: 3-27                   [64, 256, 27]             --\n│    │    └─MaxPool1d: 3-28              [64, 256, 9]              --\n│    └─ConLayer: 2-11                    [64, 256, 3]              --\n│    │    └─Conv1d: 3-29                 [64, 256, 9]              196,864\n│    │    └─BatchNorm1d: 3-30            [64, 256, 9]              512\n│    │    └─ReLU: 3-31                   [64, 256, 9]              --\n│    │    └─MaxPool1d: 3-32              [64, 256, 3]              --\n├─ConLayer: 1-4                          [64, 512, 1]              --\n│    └─Conv1d: 2-12                      [64, 512, 3]              393,728\n│    └─BatchNorm1d: 2-13                 [64, 512, 3]              1,024\n│    └─ReLU: 2-14                        [64, 512, 3]              --\n│    └─MaxPool1d: 2-15                   [64, 512, 1]              --\n├─Sequential: 1-5                        [64, 512, 1]              --\n│    └─ConLayer: 2-16                    [64, 512, 1]              --\n│    │    └─Conv1d: 3-33                 [64, 512, 1]              262,656\n│    │    └─BatchNorm1d: 3-34            [64, 512, 1]              1,024\n│    │    └─ReLU: 3-35                   [64, 512, 1]              --\n│    └─Dropout: 2-17                     [64, 512, 1]              --\n├─Sequential: 1-6                        [64, 10]                  --\n│    └─Linear: 2-18                      [64, 10]                  5,130\n│    └─BatchNorm1d: 2-19                 [64, 10]                  20\n│    └─Sigmoid: 2-20                     [64, 10]                  --\n==========================================================================================\nTotal params: 1,849,374\nTrainable params: 1,849,374\nNon-trainable params: 0\nTotal mult-adds (G): 111.03\n==========================================================================================\nInput size (MB): 15.12\nForward/backward pass size (MB): 6880.63\nParams size (MB): 7.40\nEstimated Total Size (MB): 6903.15\n=========================================================================================="
     },
     "execution_count": 14,
     "metadata": {},
     "output_type": "execute_result"
    }
   ],
   "source": [
    "model = DCNN(10)\n",
    "model.cuda()\n",
    "loss_function = nn.CrossEntropyLoss()\n",
    "opt = Adam(model.parameters(), lr=0.001)\n",
    "summary(model,[(batch_size,1,seg_length)])"
   ],
   "metadata": {
    "collapsed": false,
    "ExecuteTime": {
     "end_time": "2024-04-02T16:18:21.944060Z",
     "start_time": "2024-04-02T16:18:21.697060Z"
    }
   },
   "id": "586f84b92fed94cc",
   "execution_count": 14
  },
  {
   "cell_type": "markdown",
   "source": [
    "# Train"
   ],
   "metadata": {
    "collapsed": false
   },
   "id": "ba0478e4d3367b5f"
  },
  {
   "cell_type": "code",
   "outputs": [
    {
     "name": "stdout",
     "output_type": "stream",
     "text": [
      "-------epoch  1 -------\n",
      "fold 1:\n",
      "train set loss: 2.0730071023106573\n",
      "train set accuracy: 0.44511720538139343\n",
      "valid set loss: 1.9938128650188447\n",
      "valid set accuracy: 0.557812511920929\n",
      "fold 2:\n",
      "train set loss: 1.978340095281601\n",
      "train set accuracy: 0.610546886920929\n",
      "valid set loss: 1.9609238743782043\n",
      "valid set accuracy: 0.625\n",
      "fold 3:\n",
      "train set loss: 1.9311869323253632\n",
      "train set accuracy: 0.6957031488418579\n",
      "valid set loss: 1.9656750202178954\n",
      "valid set accuracy: 0.5679687857627869\n",
      "fold 4:\n",
      "train set loss: 1.8976799741387367\n",
      "train set accuracy: 0.7289062738418579\n",
      "valid set loss: 1.901911187171936\n",
      "valid set accuracy: 0.6664062738418579\n",
      "fold 5:\n",
      "train set loss: 1.858638896048069\n",
      "train set accuracy: 0.781054675579071\n",
      "valid set loss: 1.9485240399837493\n",
      "valid set accuracy: 0.5609375238418579\n",
      "epoch loss: 1.954\n",
      "epoch accuracy: 0.596\n",
      "-------epoch  2 -------\n",
      "fold 1:\n",
      "train set loss: 1.8289418399333954\n",
      "train set accuracy: 0.808398425579071\n",
      "valid set loss: 1.9036247432231903\n",
      "valid set accuracy: 0.6000000238418579\n",
      "fold 2:\n",
      "train set loss: 1.8026531055569648\n",
      "train set accuracy: 0.8414062857627869\n",
      "valid set loss: 1.824671357870102\n",
      "valid set accuracy: 0.75390625\n",
      "fold 3:\n",
      "train set loss: 1.7761329844594003\n",
      "train set accuracy: 0.858203113079071\n",
      "valid set loss: 1.8212838470935822\n",
      "valid set accuracy: 0.750781238079071\n",
      "fold 4:\n",
      "train set loss: 1.7525571122765542\n",
      "train set accuracy: 0.880664050579071\n",
      "valid set loss: 1.7714701473712922\n",
      "valid set accuracy: 0.832812488079071\n",
      "fold 5:\n",
      "train set loss: 1.724216802418232\n",
      "train set accuracy: 0.9097656607627869\n",
      "valid set loss: 1.8782555103302\n",
      "valid set accuracy: 0.530468761920929\n",
      "epoch loss: 1.84\n",
      "epoch accuracy: 0.694\n",
      "-------epoch  3 -------\n",
      "fold 1:\n",
      "train set loss: 1.7134593561291696\n",
      "train set accuracy: 0.914257824420929\n",
      "valid set loss: 1.7396250545978547\n",
      "valid set accuracy: 0.81640625\n",
      "fold 2:\n",
      "train set loss: 1.6969415619969368\n",
      "train set accuracy: 0.915820300579071\n",
      "valid set loss: 1.7675991892814635\n",
      "valid set accuracy: 0.788281261920929\n",
      "fold 3:\n",
      "train set loss: 1.6756700858473779\n",
      "train set accuracy: 0.9410156607627869\n",
      "valid set loss: 1.6846964716911317\n",
      "valid set accuracy: 0.928906261920929\n",
      "fold 4:\n",
      "train set loss: 1.6600965440273285\n",
      "train set accuracy: 0.948437511920929\n",
      "valid set loss: 1.6574923276901246\n",
      "valid set accuracy: 0.9320312738418579\n",
      "fold 5:\n",
      "train set loss: 1.6448824107646942\n",
      "train set accuracy: 0.959765613079071\n",
      "valid set loss: 1.6541433930397034\n",
      "valid set accuracy: 0.917187511920929\n",
      "epoch loss: 1.701\n",
      "epoch accuracy: 0.877\n",
      "-------epoch  4 -------\n",
      "fold 1:\n",
      "train set loss: 1.6345408126711845\n",
      "train set accuracy: 0.9613281488418579\n",
      "valid set loss: 1.6289179563522338\n",
      "valid set accuracy: 0.9554687738418579\n",
      "fold 2:\n",
      "train set loss: 1.6245422780513763\n",
      "train set accuracy: 0.9619140625\n",
      "valid set loss: 1.6320069134235382\n",
      "valid set accuracy: 0.9453125\n",
      "fold 3:\n",
      "train set loss: 1.6132249400019645\n",
      "train set accuracy: 0.9703125357627869\n",
      "valid set loss: 1.599894779920578\n",
      "valid set accuracy: 0.9789062738418579\n",
      "fold 4:\n",
      "train set loss: 1.6066169708967208\n",
      "train set accuracy: 0.967578113079071\n",
      "valid set loss: 1.6167085766792297\n",
      "valid set accuracy: 0.949999988079071\n",
      "fold 5:\n",
      "train set loss: 1.5955419287085533\n",
      "train set accuracy: 0.974804699420929\n",
      "valid set loss: 1.593387508392334\n",
      "valid set accuracy: 0.96484375\n",
      "epoch loss: 1.614\n",
      "epoch accuracy: 0.959\n",
      "-------epoch  5 -------\n",
      "fold 1:\n",
      "train set loss: 1.5891169533133507\n",
      "train set accuracy: 0.9779297113418579\n",
      "valid set loss: 1.6029349386692047\n",
      "valid set accuracy: 0.9476562738418579\n",
      "fold 2:\n",
      "train set loss: 1.5834951356053353\n",
      "train set accuracy: 0.9761719107627869\n",
      "valid set loss: 1.6002424120903016\n",
      "valid set accuracy: 0.9437500238418579\n",
      "fold 3:\n",
      "train set loss: 1.5740288004279137\n",
      "train set accuracy: 0.9830078482627869\n",
      "valid set loss: 1.5811313331127166\n",
      "valid set accuracy: 0.971875011920929\n",
      "fold 4:\n",
      "train set loss: 1.5643625259399414\n",
      "train set accuracy: 0.987109363079071\n",
      "valid set loss: 1.5571202754974365\n",
      "valid set accuracy: 0.9921875\n",
      "fold 5:\n",
      "train set loss: 1.5599833339452744\n",
      "train set accuracy: 0.986328125\n",
      "valid set loss: 1.5981163382530212\n",
      "valid set accuracy: 0.926562488079071\n",
      "epoch loss: 1.588\n",
      "epoch accuracy: 0.956\n",
      "-------epoch  6 -------\n",
      "fold 1:\n",
      "train set loss: 1.5572588324546814\n",
      "train set accuracy: 0.984179675579071\n",
      "valid set loss: 1.5722672045230865\n",
      "valid set accuracy: 0.9546875357627869\n",
      "fold 2:\n",
      "train set loss: 1.559486284852028\n",
      "train set accuracy: 0.9765625\n",
      "valid set loss: 1.5808741867542266\n",
      "valid set accuracy: 0.9476562738418579\n",
      "fold 3:\n",
      "train set loss: 1.5531558305025102\n",
      "train set accuracy: 0.982617199420929\n",
      "valid set loss: 1.5607209503650665\n",
      "valid set accuracy: 0.9671875238418579\n",
      "fold 4:\n",
      "train set loss: 1.55193912088871\n",
      "train set accuracy: 0.9791015982627869\n",
      "valid set loss: 1.5983632147312163\n",
      "valid set accuracy: 0.9039062857627869\n",
      "fold 5:\n",
      "train set loss: 1.5451895847916604\n",
      "train set accuracy: 0.9818359613418579\n",
      "valid set loss: 1.555654388666153\n",
      "valid set accuracy: 0.9703125357627869\n",
      "epoch loss: 1.574\n",
      "epoch accuracy: 0.949\n",
      "-------epoch  7 -------\n",
      "fold 1:\n",
      "train set loss: 1.541144886612892\n",
      "train set accuracy: 0.9857422113418579\n",
      "valid set loss: 1.5755023241043091\n",
      "valid set accuracy: 0.9375\n",
      "fold 2:\n",
      "train set loss: 1.5388197347521781\n",
      "train set accuracy: 0.985546886920929\n",
      "valid set loss: 1.5176654636859894\n",
      "valid set accuracy: 0.99609375\n",
      "fold 3:\n",
      "train set loss: 1.5304146230220794\n",
      "train set accuracy: 0.990429699420929\n",
      "valid set loss: 1.5255879938602448\n",
      "valid set accuracy: 0.991406261920929\n",
      "fold 4:\n",
      "train set loss: 1.5256132155656814\n",
      "train set accuracy: 0.9912109375\n",
      "valid set loss: 1.5126973271369935\n",
      "valid set accuracy: 0.999218761920929\n",
      "fold 5:\n",
      "train set loss: 1.5240105971693994\n",
      "train set accuracy: 0.9878906607627869\n",
      "valid set loss: 1.5146180987358093\n",
      "valid set accuracy: 0.995312511920929\n",
      "epoch loss: 1.529\n",
      "epoch accuracy: 0.984\n",
      "-------epoch  8 -------\n",
      "fold 1:\n",
      "train set loss: 1.5251486226916313\n",
      "train set accuracy: 0.9869140982627869\n",
      "valid set loss: 1.588094460964203\n",
      "valid set accuracy: 0.895312488079071\n",
      "fold 2:\n",
      "train set loss: 1.5231659725308417\n",
      "train set accuracy: 0.987500011920929\n",
      "valid set loss: 1.5123999893665314\n",
      "valid set accuracy: 0.991406261920929\n",
      "fold 3:\n",
      "train set loss: 1.518913945555687\n",
      "train set accuracy: 0.990039050579071\n",
      "valid set loss: 1.5086384892463685\n",
      "valid set accuracy: 0.9937500357627869\n",
      "fold 4:\n",
      "train set loss: 1.5137813284993171\n",
      "train set accuracy: 0.994140625\n",
      "valid set loss: 1.5040470600128173\n",
      "valid set accuracy: 0.9984375238418579\n",
      "fold 5:\n",
      "train set loss: 1.5109619736671447\n",
      "train set accuracy: 0.9937500357627869\n",
      "valid set loss: 1.5147790133953094\n",
      "valid set accuracy: 0.989062488079071\n",
      "epoch loss: 1.526\n",
      "epoch accuracy: 0.974\n",
      "-------epoch  9 -------\n",
      "fold 1:\n",
      "train set loss: 1.5101890563964844\n",
      "train set accuracy: 0.992968738079071\n",
      "valid set loss: 1.5140820562839508\n",
      "valid set accuracy: 0.9828125238418579\n",
      "fold 2:\n",
      "train set loss: 1.5120106101036073\n",
      "train set accuracy: 0.9906250238418579\n",
      "valid set loss: 1.5070976614952087\n",
      "valid set accuracy: 0.9867187738418579\n",
      "fold 3:\n",
      "train set loss: 1.5102767571806908\n",
      "train set accuracy: 0.989062488079071\n",
      "valid set loss: 1.510068917274475\n",
      "valid set accuracy: 0.985156238079071\n",
      "fold 4:\n",
      "train set loss: 1.5079702883958817\n",
      "train set accuracy: 0.9908203482627869\n",
      "valid set loss: 1.500048929452896\n",
      "valid set accuracy: 0.9976562857627869\n",
      "fold 5:\n",
      "train set loss: 1.5071706354618073\n",
      "train set accuracy: 0.990429699420929\n",
      "valid set loss: 1.5101516127586365\n",
      "valid set accuracy: 0.985156238079071\n",
      "epoch loss: 1.508\n",
      "epoch accuracy: 0.988\n",
      "-------epoch  10 -------\n",
      "fold 1:\n",
      "train set loss: 1.505974169075489\n",
      "train set accuracy: 0.990429699420929\n",
      "valid set loss: 1.4975240290164948\n",
      "valid set accuracy: 0.995312511920929\n",
      "fold 2:\n",
      "train set loss: 1.505292257666588\n",
      "train set accuracy: 0.9876953363418579\n",
      "valid set loss: 1.5043105840682984\n",
      "valid set accuracy: 0.991406261920929\n",
      "fold 3:\n",
      "train set loss: 1.5029704228043557\n",
      "train set accuracy: 0.9898437857627869\n",
      "valid set loss: 1.5043799817562102\n",
      "valid set accuracy: 0.985156238079071\n",
      "fold 4:\n",
      "train set loss: 1.5011398479342462\n",
      "train set accuracy: 0.9917969107627869\n",
      "valid set loss: 1.488140457868576\n",
      "valid set accuracy: 0.999218761920929\n",
      "fold 5:\n",
      "train set loss: 1.4962825387716294\n",
      "train set accuracy: 0.993945300579071\n",
      "valid set loss: 1.4857783496379853\n",
      "valid set accuracy: 1.0\n",
      "epoch loss: 1.496\n",
      "epoch accuracy: 0.994\n",
      "finish training\n"
     ]
    }
   ],
   "source": [
    "epoch = 10\n",
    "history = train(model,loss_function,opt,dataloaders_train,dataloaders_valid,k,epoch=epoch)\n",
    "print(\"finish training\")"
   ],
   "metadata": {
    "collapsed": false,
    "ExecuteTime": {
     "end_time": "2024-04-02T16:30:51.260747Z",
     "start_time": "2024-04-02T16:18:21.946061Z"
    }
   },
   "id": "156ba58e4ff24277",
   "execution_count": 15
  },
  {
   "cell_type": "code",
   "outputs": [
    {
     "data": {
      "text/plain": "<Figure size 640x480 with 1 Axes>",
      "image/png": "[encoded data removed]"
     },
     "metadata": {},
     "output_type": "display_data"
    }
   ],
   "source": [
    "plt.plot(range(epoch),history['loss'])\n",
    "plt.xlabel('Epoch')\n",
    "plt.ylabel('Loss')\n",
    "plt.show()"
   ],
   "metadata": {
    "collapsed": false,
    "ExecuteTime": {
     "end_time": "2024-04-02T16:30:51.461967Z",
     "start_time": "2024-04-02T16:30:51.261759Z"
    }
   },
   "id": "a6cdeb64e0c6afbe",
   "execution_count": 16
  },
  {
   "cell_type": "code",
   "outputs": [
    {
     "data": {
      "text/plain": "<Figure size 640x480 with 1 Axes>",
      "image/png": "[encoded data removed]"
     },
     "metadata": {},
     "output_type": "display_data"
    }
   ],
   "source": [
    "plt.show()\n",
    "plt.plot(range(epoch), history['accuracy'])\n",
    "plt.xlabel('Epoch')\n",
    "plt.ylabel('Accuracy')\n",
    "plt.show()"
   ],
   "metadata": {
    "collapsed": false,
    "ExecuteTime": {
     "end_time": "2024-04-02T16:30:51.601009Z",
     "start_time": "2024-04-02T16:30:51.463006Z"
    }
   },
   "id": "f5b6e881f2dc1033",
   "execution_count": 17
  },
  {
   "cell_type": "markdown",
   "source": [
    "# Test"
   ],
   "metadata": {
    "collapsed": false
   },
   "id": "9fd11d0b594c7140"
  },
  {
   "cell_type": "code",
   "outputs": [
    {
     "name": "stdout",
     "output_type": "stream",
     "text": [
      "test set loss: 1.602\n",
      "test set accuracy: 0.879\n",
      "test set AUC: 0.985\n",
      "test set f1-score: 0.879\n"
     ]
    },
    {
     "data": {
      "text/plain": "(1.602, 0.879, 0.985, 0.879)"
     },
     "execution_count": 18,
     "metadata": {},
     "output_type": "execute_result"
    }
   ],
   "source": [
    "loss, acc, AUC, f1 = test(model,loss_function,dataloader_test)"
   ],
   "metadata": {
    "collapsed": false,
    "ExecuteTime": {
     "end_time": "2024-04-02T16:30:53.202538Z",
     "start_time": "2024-04-02T16:30:51.603010Z"
    }
   },
   "id": "f65311f27441f0d6",
   "execution_count": 18
  }
 ],
 "metadata": {
  "kernelspec": {
   "display_name": "Python 3",
   "language": "python",
   "name": "python3"
  },
  "language_info": {
   "codemirror_mode": {
    "name": "ipython",
    "version": 2
   },
   "file_extension": ".py",
   "mimetype": "text/x-python",
   "name": "python",
   "nbconvert_exporter": "python",
   "pygments_lexer": "ipython2",
   "version": "2.7.6"
  }
 },
 "nbformat": 4,
 "nbformat_minor": 5
}
