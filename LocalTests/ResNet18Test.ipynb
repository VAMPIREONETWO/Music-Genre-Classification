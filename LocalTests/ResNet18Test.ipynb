{
 "cells": [
  {
   "cell_type": "code",
   "execution_count": 1,
   "id": "initial_id",
   "metadata": {
    "collapsed": true,
    "ExecuteTime": {
     "end_time": "2024-04-02T16:34:33.059811Z",
     "start_time": "2024-04-02T16:34:26.855748Z"
    }
   },
   "outputs": [],
   "source": [
    "from sklearn.model_selection import train_test_split\n",
    "from models.ResNet import ResNet18\n",
    "import librosa\n",
    "import numpy as np\n",
    "from torchinfo import summary\n",
    "from torch import nn\n",
    "from torch.optim import Adam\n",
    "from Utils import read_data,create_dataloader, k_fold_cross_validation, train, test\n",
    "import matplotlib.pyplot as plt"
   ]
  },
  {
   "cell_type": "markdown",
   "source": [
    "# Read Data "
   ],
   "metadata": {
    "collapsed": false
   },
   "id": "35bfab0a09f68507"
  },
  {
   "cell_type": "code",
   "outputs": [
    {
     "name": "stdout",
     "output_type": "stream",
     "text": [
      "finsh reading data\n"
     ]
    }
   ],
   "source": [
    "sr = 16 * 1000\n",
    "x,y,min_length = read_data(root='../Data/genres_original', sr=sr)\n",
    "print(\"finsh reading data\")"
   ],
   "metadata": {
    "collapsed": false,
    "ExecuteTime": {
     "end_time": "2024-04-02T16:34:40.005030Z",
     "start_time": "2024-04-02T16:34:33.061811Z"
    }
   },
   "id": "f6d4684e6aca316b",
   "execution_count": 2
  },
  {
   "cell_type": "markdown",
   "source": [
    "# Conversion, Compression and Normalisation"
   ],
   "metadata": {
    "collapsed": false
   },
   "id": "abee602f31169a9e"
  },
  {
   "cell_type": "code",
   "outputs": [
    {
     "name": "stdout",
     "output_type": "stream",
     "text": [
      "finish conversion and compression\n"
     ]
    }
   ],
   "source": [
    "top_db = 80\n",
    "for i in range(len(x)):\n",
    "    signal = x[i][:min_length]\n",
    "    mel_spect = librosa.feature.melspectrogram(y=signal,sr=sr,n_fft=1024) # convert signals to mel spectrogram\n",
    "    mel_spect = librosa.power_to_db(mel_spect, ref=np.max, top_db=top_db) # log compression\n",
    "    x[i] = mel_spect/-top_db # normalisation\n",
    "print(\"finish conversion and compression\")"
   ],
   "metadata": {
    "collapsed": false,
    "ExecuteTime": {
     "end_time": "2024-04-02T16:34:51.858684Z",
     "start_time": "2024-04-02T16:34:40.008965Z"
    }
   },
   "id": "10d08606be2ee6a5",
   "execution_count": 3
  },
  {
   "cell_type": "markdown",
   "source": [
    "# Split Data"
   ],
   "metadata": {
    "collapsed": false
   },
   "id": "5f5a457feb048e00"
  },
  {
   "cell_type": "code",
   "outputs": [
    {
     "name": "stdout",
     "output_type": "stream",
     "text": [
      "(1000, 1, 936, 128)\n"
     ]
    }
   ],
   "source": [
    "x = np.asarray(x)\n",
    "x = x.transpose((0,2,1))\n",
    "x = x.reshape(x.shape[0],1,x.shape[1],x.shape[2])\n",
    "y = np.asarray(y)\n",
    "print(x.shape)"
   ],
   "metadata": {
    "collapsed": false,
    "ExecuteTime": {
     "end_time": "2024-04-02T16:34:52.080679Z",
     "start_time": "2024-04-02T16:34:51.860667Z"
    }
   },
   "id": "fdb0312ac9fdb7c0",
   "execution_count": 4
  },
  {
   "cell_type": "code",
   "outputs": [
    {
     "name": "stdout",
     "output_type": "stream",
     "text": [
      "finish splitting data\n"
     ]
    }
   ],
   "source": [
    "x_train, x_test, y_train, y_test = train_test_split(x, y, test_size=0.2,\n",
    "                                                    stratify=y,shuffle=True)\n",
    "# k-fold cross validation\n",
    "k = 5\n",
    "xs_train, ys_train, xs_valid, ys_valid = k_fold_cross_validation(x_train,y_train,k)\n",
    "print(\"finish splitting data\")"
   ],
   "metadata": {
    "collapsed": false,
    "ExecuteTime": {
     "end_time": "2024-04-02T16:34:52.552701Z",
     "start_time": "2024-04-02T16:34:52.083618Z"
    }
   },
   "id": "df2254735832f87e",
   "execution_count": 5
  },
  {
   "cell_type": "code",
   "outputs": [
    {
     "name": "stdout",
     "output_type": "stream",
     "text": [
      "finish creating dataloaders\n"
     ]
    }
   ],
   "source": [
    "batch_size = 64\n",
    "dataloaders_train = []\n",
    "dataloaders_valid = []\n",
    "for i in range(k):\n",
    "    dataloaders_train.append(create_dataloader(xs_train[i], ys_train[i], batch_size=batch_size))\n",
    "    dataloaders_valid.append(create_dataloader(xs_valid[i], ys_valid[i], batch_size=batch_size))\n",
    "dataloader_test = create_dataloader(x_test, y_test, batch_size=batch_size)\n",
    "print(\"finish creating dataloaders\")"
   ],
   "metadata": {
    "collapsed": false,
    "ExecuteTime": {
     "end_time": "2024-04-02T16:34:52.866619Z",
     "start_time": "2024-04-02T16:34:52.554617Z"
    }
   },
   "id": "b6af9344bf4293da",
   "execution_count": 6
  },
  {
   "cell_type": "markdown",
   "source": [
    "# Model Construction"
   ],
   "metadata": {
    "collapsed": false
   },
   "id": "75bac39738931f71"
  },
  {
   "cell_type": "code",
   "outputs": [
    {
     "data": {
      "text/plain": "==========================================================================================\nLayer (type:depth-idx)                   Output Shape              Param #\n==========================================================================================\nResNet18                                 [64, 10]                  --\n├─Sequential: 1-1                        [64, 64, 235, 33]         --\n│    └─Conv2d: 2-1                       [64, 64, 469, 65]         640\n│    └─BatchNorm2d: 2-2                  [64, 64, 469, 65]         128\n│    └─ReLU: 2-3                         [64, 64, 469, 65]         --\n│    └─MaxPool2d: 2-4                    [64, 64, 235, 33]         --\n├─ResidualBlock: 1-2                     [64, 64, 235, 33]         --\n│    └─Conv2d: 2-5                       [64, 64, 235, 33]         36,928\n│    └─BatchNorm2d: 2-6                  [64, 64, 235, 33]         128\n│    └─ReLU: 2-7                         [64, 64, 235, 33]         --\n│    └─Conv2d: 2-8                       [64, 64, 235, 33]         36,928\n│    └─BatchNorm2d: 2-9                  [64, 64, 235, 33]         128\n│    └─ReLU: 2-10                        [64, 64, 235, 33]         --\n├─ResidualBlock: 1-3                     [64, 64, 235, 33]         --\n│    └─Conv2d: 2-11                      [64, 64, 235, 33]         36,928\n│    └─BatchNorm2d: 2-12                 [64, 64, 235, 33]         128\n│    └─ReLU: 2-13                        [64, 64, 235, 33]         --\n│    └─Conv2d: 2-14                      [64, 64, 235, 33]         36,928\n│    └─BatchNorm2d: 2-15                 [64, 64, 235, 33]         128\n│    └─ReLU: 2-16                        [64, 64, 235, 33]         --\n├─ResidualBlock: 1-4                     [64, 128, 118, 17]        --\n│    └─Conv2d: 2-17                      [64, 128, 118, 17]        73,856\n│    └─BatchNorm2d: 2-18                 [64, 128, 118, 17]        256\n│    └─ReLU: 2-19                        [64, 128, 118, 17]        --\n│    └─Conv2d: 2-20                      [64, 128, 118, 17]        147,584\n│    └─BatchNorm2d: 2-21                 [64, 128, 118, 17]        256\n│    └─Sequential: 2-22                  [64, 128, 118, 17]        --\n│    │    └─Conv2d: 3-1                  [64, 128, 118, 17]        8,320\n│    │    └─BatchNorm2d: 3-2             [64, 128, 118, 17]        256\n│    └─ReLU: 2-23                        [64, 128, 118, 17]        --\n├─ResidualBlock: 1-5                     [64, 128, 118, 17]        --\n│    └─Conv2d: 2-24                      [64, 128, 118, 17]        147,584\n│    └─BatchNorm2d: 2-25                 [64, 128, 118, 17]        256\n│    └─ReLU: 2-26                        [64, 128, 118, 17]        --\n│    └─Conv2d: 2-27                      [64, 128, 118, 17]        147,584\n│    └─BatchNorm2d: 2-28                 [64, 128, 118, 17]        256\n│    └─ReLU: 2-29                        [64, 128, 118, 17]        --\n│    └─Dropout: 2-30                     [64, 128, 118, 17]        --\n├─ResidualBlock: 1-6                     [64, 256, 59, 9]          --\n│    └─Conv2d: 2-31                      [64, 256, 59, 9]          295,168\n│    └─BatchNorm2d: 2-32                 [64, 256, 59, 9]          512\n│    └─ReLU: 2-33                        [64, 256, 59, 9]          --\n│    └─Conv2d: 2-34                      [64, 256, 59, 9]          590,080\n│    └─BatchNorm2d: 2-35                 [64, 256, 59, 9]          512\n│    └─Sequential: 2-36                  [64, 256, 59, 9]          --\n│    │    └─Conv2d: 3-3                  [64, 256, 59, 9]          33,024\n│    │    └─BatchNorm2d: 3-4             [64, 256, 59, 9]          512\n│    └─ReLU: 2-37                        [64, 256, 59, 9]          --\n├─ResidualBlock: 1-7                     [64, 256, 59, 9]          --\n│    └─Conv2d: 2-38                      [64, 256, 59, 9]          590,080\n│    └─BatchNorm2d: 2-39                 [64, 256, 59, 9]          512\n│    └─ReLU: 2-40                        [64, 256, 59, 9]          --\n│    └─Conv2d: 2-41                      [64, 256, 59, 9]          590,080\n│    └─BatchNorm2d: 2-42                 [64, 256, 59, 9]          512\n│    └─ReLU: 2-43                        [64, 256, 59, 9]          --\n├─ResidualBlock: 1-8                     [64, 512, 30, 5]          --\n│    └─Conv2d: 2-44                      [64, 512, 30, 5]          1,180,160\n│    └─BatchNorm2d: 2-45                 [64, 512, 30, 5]          1,024\n│    └─ReLU: 2-46                        [64, 512, 30, 5]          --\n│    └─Conv2d: 2-47                      [64, 512, 30, 5]          2,359,808\n│    └─BatchNorm2d: 2-48                 [64, 512, 30, 5]          1,024\n│    └─Sequential: 2-49                  [64, 512, 30, 5]          --\n│    │    └─Conv2d: 3-5                  [64, 512, 30, 5]          131,584\n│    │    └─BatchNorm2d: 3-6             [64, 512, 30, 5]          1,024\n│    └─ReLU: 2-50                        [64, 512, 30, 5]          --\n├─ResidualBlock: 1-9                     [64, 512, 30, 5]          --\n│    └─Conv2d: 2-51                      [64, 512, 30, 5]          2,359,808\n│    └─BatchNorm2d: 2-52                 [64, 512, 30, 5]          1,024\n│    └─ReLU: 2-53                        [64, 512, 30, 5]          --\n│    └─Conv2d: 2-54                      [64, 512, 30, 5]          2,359,808\n│    └─BatchNorm2d: 2-55                 [64, 512, 30, 5]          1,024\n│    └─ReLU: 2-56                        [64, 512, 30, 5]          --\n├─AdaptiveAvgPool2d: 1-10                [64, 512, 1, 1]           --\n├─Sequential: 1-11                       [64, 10]                  --\n│    └─Linear: 2-57                      [64, 10]                  5,130\n│    └─BatchNorm1d: 2-58                 [64, 10]                  20\n│    └─Sigmoid: 2-59                     [64, 10]                  --\n==========================================================================================\nTotal params: 11,177,630\nTrainable params: 11,177,630\nNon-trainable params: 0\nTotal mult-adds (G): 293.82\n==========================================================================================\nInput size (MB): 30.67\nForward/backward pass size (MB): 6434.66\nParams size (MB): 44.71\nEstimated Total Size (MB): 6510.04\n=========================================================================================="
     },
     "execution_count": 7,
     "metadata": {},
     "output_type": "execute_result"
    }
   ],
   "source": [
    "model = ResNet18(10,pre_filter_size=3,in_channels=1)\n",
    "model.cuda()\n",
    "loss_function = nn.CrossEntropyLoss()\n",
    "opt = Adam(model.parameters(), lr=0.001)\n",
    "summary(model,[(batch_size,1,x.shape[2],x.shape[3])])"
   ],
   "metadata": {
    "collapsed": false,
    "ExecuteTime": {
     "end_time": "2024-04-02T16:34:53.771281Z",
     "start_time": "2024-04-02T16:34:52.868617Z"
    }
   },
   "id": "8ac890d4d4ca0df0",
   "execution_count": 7
  },
  {
   "cell_type": "markdown",
   "source": [
    "# Train"
   ],
   "metadata": {
    "collapsed": false
   },
   "id": "5934b88b153c69e5"
  },
  {
   "cell_type": "code",
   "outputs": [
    {
     "name": "stdout",
     "output_type": "stream",
     "text": [
      "-------epoch  1 -------\n",
      "fold 1:\n",
      "train set loss: 2.1882755041122435\n",
      "train set accuracy: 0.234375\n",
      "valid set loss: 2.318132209777832\n",
      "valid set accuracy: 0.08749999850988388\n",
      "fold 2:\n",
      "train set loss: 2.0830790996551514\n",
      "train set accuracy: 0.4046874940395355\n",
      "valid set loss: 2.4007166385650636\n",
      "valid set accuracy: 0.03750000149011612\n",
      "fold 3:\n",
      "train set loss: 2.0545371532440186\n",
      "train set accuracy: 0.4906249940395355\n",
      "valid set loss: 2.2637523651123046\n",
      "valid set accuracy: 0.26250001788139343\n",
      "fold 4:\n",
      "train set loss: 2.033642888069153\n",
      "train set accuracy: 0.534375011920929\n",
      "valid set loss: 2.3277678966522215\n",
      "valid set accuracy: 0.13125000894069672\n",
      "fold 5:\n",
      "train set loss: 2.0166523575782778\n",
      "train set accuracy: 0.5484375357627869\n",
      "valid set loss: 2.21683554649353\n",
      "valid set accuracy: 0.13125000894069672\n",
      "epoch loss: 2.305\n",
      "epoch accuracy: 0.13\n",
      "-------epoch  2 -------\n",
      "fold 1:\n",
      "train set loss: 2.0069323778152466\n",
      "train set accuracy: 0.582812488079071\n",
      "valid set loss: 2.0861892223358156\n",
      "valid set accuracy: 0.3187499940395355\n",
      "fold 2:\n",
      "train set loss: 1.9822722911834716\n",
      "train set accuracy: 0.6468750238418579\n",
      "valid set loss: 2.0907702922821043\n",
      "valid set accuracy: 0.36250001192092896\n",
      "fold 3:\n",
      "train set loss: 1.9671642065048218\n",
      "train set accuracy: 0.65625\n",
      "valid set loss: 1.9753687620162963\n",
      "valid set accuracy: 0.5625\n",
      "fold 4:\n",
      "train set loss: 1.9593281745910645\n",
      "train set accuracy: 0.676562488079071\n",
      "valid set loss: 1.9658291578292846\n",
      "valid set accuracy: 0.625\n",
      "fold 5:\n",
      "train set loss: 1.947343397140503\n",
      "train set accuracy: 0.7109375\n",
      "valid set loss: 1.950457763671875\n",
      "valid set accuracy: 0.643750011920929\n",
      "epoch loss: 2.014\n",
      "epoch accuracy: 0.503\n",
      "-------epoch  3 -------\n",
      "fold 1:\n",
      "train set loss: 1.931080937385559\n",
      "train set accuracy: 0.729687511920929\n",
      "valid set loss: 1.990976047515869\n",
      "valid set accuracy: 0.5687500238418579\n",
      "fold 2:\n",
      "train set loss: 1.9211832523345946\n",
      "train set accuracy: 0.754687488079071\n",
      "valid set loss: 2.0079352140426634\n",
      "valid set accuracy: 0.518750011920929\n",
      "fold 3:\n",
      "train set loss: 1.915364158153534\n",
      "train set accuracy: 0.7718750238418579\n",
      "valid set loss: 1.9505000591278077\n",
      "valid set accuracy: 0.65625\n",
      "fold 4:\n",
      "train set loss: 1.902736783027649\n",
      "train set accuracy: 0.8031250238418579\n",
      "valid set loss: 2.0374279499053953\n",
      "valid set accuracy: 0.38750001788139343\n",
      "fold 5:\n",
      "train set loss: 1.8974861741065978\n",
      "train set accuracy: 0.800000011920929\n",
      "valid set loss: 1.9598441123962402\n",
      "valid set accuracy: 0.5625\n",
      "epoch loss: 1.989\n",
      "epoch accuracy: 0.539\n",
      "-------epoch  4 -------\n",
      "fold 1:\n",
      "train set loss: 1.895893657207489\n",
      "train set accuracy: 0.785937488079071\n",
      "valid set loss: 1.9921476364135742\n",
      "valid set accuracy: 0.39375001192092896\n",
      "fold 2:\n",
      "train set loss: 1.8859291911125182\n",
      "train set accuracy: 0.801562488079071\n",
      "valid set loss: 1.9093944787979127\n",
      "valid set accuracy: 0.75\n",
      "fold 3:\n",
      "train set loss: 1.8761616468429565\n",
      "train set accuracy: 0.8203125\n",
      "valid set loss: 1.91282000541687\n",
      "valid set accuracy: 0.668749988079071\n",
      "fold 4:\n",
      "train set loss: 1.8698623180389404\n",
      "train set accuracy: 0.846875011920929\n",
      "valid set loss: 1.883848452568054\n",
      "valid set accuracy: 0.737500011920929\n",
      "fold 5:\n",
      "train set loss: 1.8603806138038634\n",
      "train set accuracy: 0.8578125238418579\n",
      "valid set loss: 1.8706053256988526\n",
      "valid set accuracy: 0.7875000238418579\n",
      "epoch loss: 1.914\n",
      "epoch accuracy: 0.668\n",
      "-------epoch  5 -------\n",
      "fold 1:\n",
      "train set loss: 1.861481249332428\n",
      "train set accuracy: 0.846875011920929\n",
      "valid set loss: 1.9654630661010741\n",
      "valid set accuracy: 0.518750011920929\n",
      "fold 2:\n",
      "train set loss: 1.843415904045105\n",
      "train set accuracy: 0.879687488079071\n",
      "valid set loss: 1.9019055604934691\n",
      "valid set accuracy: 0.7125000357627869\n",
      "fold 3:\n",
      "train set loss: 1.8388203978538513\n",
      "train set accuracy: 0.8765625357627869\n",
      "valid set loss: 1.9430388927459716\n",
      "valid set accuracy: 0.625\n",
      "fold 4:\n",
      "train set loss: 1.8338471412658692\n",
      "train set accuracy: 0.9000000357627869\n",
      "valid set loss: 1.903784155845642\n",
      "valid set accuracy: 0.675000011920929\n",
      "fold 5:\n",
      "train set loss: 1.8221112966537476\n",
      "train set accuracy: 0.925000011920929\n",
      "valid set loss: 1.841086220741272\n",
      "valid set accuracy: 0.8125\n",
      "epoch loss: 1.911\n",
      "epoch accuracy: 0.669\n",
      "-------epoch  6 -------\n",
      "fold 1:\n",
      "train set loss: 1.822313416004181\n",
      "train set accuracy: 0.909375011920929\n",
      "valid set loss: 1.9098831176757813\n",
      "valid set accuracy: 0.6937500238418579\n",
      "fold 2:\n",
      "train set loss: 1.8096766591072082\n",
      "train set accuracy: 0.9281250238418579\n",
      "valid set loss: 1.8082429885864257\n",
      "valid set accuracy: 0.893750011920929\n",
      "fold 3:\n",
      "train set loss: 1.8078841686248779\n",
      "train set accuracy: 0.9546875357627869\n",
      "valid set loss: 1.8300091743469238\n",
      "valid set accuracy: 0.84375\n",
      "fold 4:\n",
      "train set loss: 1.8132826089859009\n",
      "train set accuracy: 0.9156250357627869\n",
      "valid set loss: 1.8702946186065674\n",
      "valid set accuracy: 0.7250000238418579\n",
      "fold 5:\n",
      "train set loss: 1.8053069472312928\n",
      "train set accuracy: 0.9296875\n",
      "valid set loss: 1.8885273933410645\n",
      "valid set accuracy: 0.7562500238418579\n",
      "epoch loss: 1.861\n",
      "epoch accuracy: 0.782\n",
      "-------epoch  7 -------\n",
      "fold 1:\n",
      "train set loss: 1.8045721292495727\n",
      "train set accuracy: 0.9203125238418579\n",
      "valid set loss: 1.8416682481765747\n",
      "valid set accuracy: 0.737500011920929\n",
      "fold 2:\n",
      "train set loss: 1.7965857982635498\n",
      "train set accuracy: 0.9453125\n",
      "valid set loss: 1.816559624671936\n",
      "valid set accuracy: 0.887499988079071\n",
      "fold 3:\n",
      "train set loss: 1.789284360408783\n",
      "train set accuracy: 0.9468750357627869\n",
      "valid set loss: 1.8202535152435302\n",
      "valid set accuracy: 0.824999988079071\n",
      "fold 4:\n",
      "train set loss: 1.7859422326087953\n",
      "train set accuracy: 0.9546875357627869\n",
      "valid set loss: 1.8272308588027955\n",
      "valid set accuracy: 0.7875000238418579\n",
      "fold 5:\n",
      "train set loss: 1.7788065671920776\n",
      "train set accuracy: 0.956250011920929\n",
      "valid set loss: 1.7577962160110474\n",
      "valid set accuracy: 0.9750000238418579\n",
      "epoch loss: 1.813\n",
      "epoch accuracy: 0.843\n",
      "-------epoch  8 -------\n",
      "fold 1:\n",
      "train set loss: 1.7778448820114137\n",
      "train set accuracy: 0.9468750357627869\n",
      "valid set loss: 1.7724200963974\n",
      "valid set accuracy: 0.9437500238418579\n",
      "fold 2:\n",
      "train set loss: 1.7690017342567443\n",
      "train set accuracy: 0.9703125357627869\n",
      "valid set loss: 1.9194173336029052\n",
      "valid set accuracy: 0.668749988079071\n",
      "fold 3:\n",
      "train set loss: 1.7677767157554627\n",
      "train set accuracy: 0.96875\n",
      "valid set loss: 1.8010027408599854\n",
      "valid set accuracy: 0.862500011920929\n",
      "fold 4:\n",
      "train set loss: 1.762533438205719\n",
      "train set accuracy: 0.981249988079071\n",
      "valid set loss: 1.9013176918029786\n",
      "valid set accuracy: 0.675000011920929\n",
      "fold 5:\n",
      "train set loss: 1.7583332061767578\n",
      "train set accuracy: 0.9765625\n",
      "valid set loss: 1.7584665298461915\n",
      "valid set accuracy: 0.956250011920929\n",
      "epoch loss: 1.831\n",
      "epoch accuracy: 0.821\n",
      "-------epoch  9 -------\n",
      "fold 1:\n",
      "train set loss: 1.7545577526092528\n",
      "train set accuracy: 0.9828125238418579\n",
      "valid set loss: 1.7490240812301636\n",
      "valid set accuracy: 0.96875\n",
      "fold 2:\n",
      "train set loss: 1.7474717855453492\n",
      "train set accuracy: 0.987500011920929\n",
      "valid set loss: 1.811705470085144\n",
      "valid set accuracy: 0.8812500238418579\n",
      "fold 3:\n",
      "train set loss: 1.7477699995040894\n",
      "train set accuracy: 0.9781250357627869\n",
      "valid set loss: 1.7379451990127563\n",
      "valid set accuracy: 0.981249988079071\n",
      "fold 4:\n",
      "train set loss: 1.7378382802009582\n",
      "train set accuracy: 0.984375\n",
      "valid set loss: 1.7404033660888671\n",
      "valid set accuracy: 0.9625000357627869\n",
      "fold 5:\n",
      "train set loss: 1.7331174969673158\n",
      "train set accuracy: 0.9921875\n",
      "valid set loss: 1.7184201955795289\n",
      "valid set accuracy: 1.0\n",
      "epoch loss: 1.751\n",
      "epoch accuracy: 0.959\n",
      "-------epoch  10 -------\n",
      "fold 1:\n",
      "train set loss: 1.7292873024940492\n",
      "train set accuracy: 0.995312511920929\n",
      "valid set loss: 1.7338191747665406\n",
      "valid set accuracy: 1.0\n",
      "fold 2:\n",
      "train set loss: 1.7277284502983092\n",
      "train set accuracy: 0.996874988079071\n",
      "valid set loss: 1.7243680238723755\n",
      "valid set accuracy: 0.9937500357627869\n",
      "fold 3:\n",
      "train set loss: 1.7302812933921814\n",
      "train set accuracy: 0.987500011920929\n",
      "valid set loss: 1.7455342769622804\n",
      "valid set accuracy: 0.96875\n",
      "fold 4:\n",
      "train set loss: 1.722673237323761\n",
      "train set accuracy: 0.9906250238418579\n",
      "valid set loss: 1.7156461000442504\n",
      "valid set accuracy: 0.987500011920929\n",
      "fold 5:\n",
      "train set loss: 1.7203901171684266\n",
      "train set accuracy: 0.9984375238418579\n",
      "valid set loss: 1.7020607709884643\n",
      "valid set accuracy: 1.0\n",
      "epoch loss: 1.724\n",
      "epoch accuracy: 0.99\n",
      "finish training\n"
     ]
    }
   ],
   "source": [
    "epoch = 10\n",
    "history = train(model,loss_function,opt,dataloaders_train,dataloaders_valid,k,epoch=epoch)\n",
    "print(\"finish training\")"
   ],
   "metadata": {
    "collapsed": false,
    "ExecuteTime": {
     "end_time": "2024-04-02T16:36:23.649394Z",
     "start_time": "2024-04-02T16:34:53.772283Z"
    }
   },
   "id": "f337739ec944959",
   "execution_count": 8
  },
  {
   "cell_type": "code",
   "outputs": [
    {
     "data": {
      "text/plain": "<Figure size 640x480 with 1 Axes>",
      "image/png": "[encoded data removed]"
     },
     "metadata": {},
     "output_type": "display_data"
    }
   ],
   "source": [
    "plt.plot(range(epoch),history['loss'])\n",
    "plt.xlabel('Epoch')\n",
    "plt.ylabel('Loss')\n",
    "plt.show()"
   ],
   "metadata": {
    "collapsed": false,
    "ExecuteTime": {
     "end_time": "2024-04-02T16:36:23.744439Z",
     "start_time": "2024-04-02T16:36:23.650399Z"
    }
   },
   "id": "e9886d660052e25",
   "execution_count": 9
  },
  {
   "cell_type": "code",
   "outputs": [
    {
     "data": {
      "text/plain": "<Figure size 640x480 with 1 Axes>",
      "image/png": "[encoded data removed]"
     },
     "metadata": {},
     "output_type": "display_data"
    }
   ],
   "source": [
    "plt.plot(range(epoch),history['accuracy'])\n",
    "plt.xlabel('Epoch')\n",
    "plt.ylabel('Accuracy')\n",
    "plt.show()"
   ],
   "metadata": {
    "collapsed": false,
    "ExecuteTime": {
     "end_time": "2024-04-02T16:36:23.855449Z",
     "start_time": "2024-04-02T16:36:23.745474Z"
    }
   },
   "id": "a8414674895804af",
   "execution_count": 10
  },
  {
   "cell_type": "markdown",
   "source": [
    "# Test"
   ],
   "metadata": {
    "collapsed": false
   },
   "id": "5c0911516d6f57ea"
  },
  {
   "cell_type": "code",
   "outputs": [
    {
     "name": "stdout",
     "output_type": "stream",
     "text": [
      "test set loss: 1.871\n",
      "test set accuracy: 0.75\n",
      "test set AUC: 0.937\n",
      "test set f1-score: 0.75\n"
     ]
    },
    {
     "data": {
      "text/plain": "(1.871, 0.75, 0.937, 0.75)"
     },
     "execution_count": 11,
     "metadata": {},
     "output_type": "execute_result"
    }
   ],
   "source": [
    "loss, acc, AUC, f1 = test(model,loss_function,dataloader_test)"
   ],
   "metadata": {
    "collapsed": false,
    "ExecuteTime": {
     "end_time": "2024-04-02T16:36:24.164451Z",
     "start_time": "2024-04-02T16:36:23.856438Z"
    }
   },
   "id": "f6fbd2319ef5abaa",
   "execution_count": 11
  }
 ],
 "metadata": {
  "kernelspec": {
   "display_name": "Python 3",
   "language": "python",
   "name": "python3"
  },
  "language_info": {
   "codemirror_mode": {
    "name": "ipython",
    "version": 2
   },
   "file_extension": ".py",
   "mimetype": "text/x-python",
   "name": "python",
   "nbconvert_exporter": "python",
   "pygments_lexer": "ipython2",
   "version": "2.7.6"
  }
 },
 "nbformat": 4,
 "nbformat_minor": 5
}
