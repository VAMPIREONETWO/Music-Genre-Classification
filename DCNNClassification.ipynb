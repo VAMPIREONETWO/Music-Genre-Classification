{
 "cells": [
  {
   "cell_type": "code",
   "execution_count": 27,
   "id": "initial_id",
   "metadata": {
    "collapsed": true,
    "ExecuteTime": {
     "end_time": "2024-03-17T22:30:39.701730300Z",
     "start_time": "2024-03-17T22:30:39.676385Z"
    }
   },
   "outputs": [],
   "source": [
    "from DCNN import DCNN\n",
    "import os\n",
    "import librosa\n",
    "import numpy as np"
   ]
  },
  {
   "cell_type": "markdown",
   "source": [
    "# Read Data"
   ],
   "metadata": {
    "collapsed": false
   },
   "id": "51a5db70937b662"
  },
  {
   "cell_type": "code",
   "outputs": [],
   "source": [
    "root = 'Data/genres_original'\n",
    "genres = os.listdir(root)\n",
    "x = []\n",
    "y = []\n",
    "length = []\n",
    "sr = 22050\n",
    "for genre in genres:\n",
    "    genre_root = os.path.join(root, genre)\n",
    "    audios = os.listdir(genre_root)\n",
    "    for audio in audios:\n",
    "        audio_path = os.path.join(genre_root, audio)\n",
    "        signal, _ = librosa.load(audio_path, sr=sr)\n",
    "        x.append(signal)\n",
    "        length.append(len(signal))\n",
    "        y.append(genre)\n",
    "min_length = min(length)"
   ],
   "metadata": {
    "collapsed": false,
    "ExecuteTime": {
     "end_time": "2024-03-17T22:30:41.096501900Z",
     "start_time": "2024-03-17T22:30:39.801574Z"
    }
   },
   "id": "688fcddfa5166508",
   "execution_count": 28
  },
  {
   "cell_type": "markdown",
   "source": [
    "# Segment and Normalise "
   ],
   "metadata": {
    "collapsed": false
   },
   "id": "cb9b1d09933e8c"
  },
  {
   "cell_type": "code",
   "outputs": [
    {
     "name": "stdout",
     "output_type": "stream",
     "text": [
      "(1000, 660000) (1000,)\n"
     ]
    }
   ],
   "source": [
    "for i in range(1000):\n",
    "    x[i] = x[i][0:min_length]\n",
    "    x[i] = librosa.util.normalize(x[i])\n",
    "x = np.asarray(x)\n",
    "y = np.asarray(y)\n",
    "print(x.shape,y.shape)"
   ],
   "metadata": {
    "collapsed": false,
    "ExecuteTime": {
     "end_time": "2024-03-17T22:32:50.797694400Z",
     "start_time": "2024-03-17T22:32:47.316717200Z"
    }
   },
   "id": "adde1dd7a93a75bf",
   "execution_count": 30
  },
  {
   "cell_type": "code",
   "outputs": [],
   "source": [],
   "metadata": {
    "collapsed": false,
    "ExecuteTime": {
     "end_time": "2024-03-17T22:30:41.645222200Z",
     "start_time": "2024-03-17T22:30:41.617398900Z"
    }
   },
   "id": "b077e90e23dfb5f2",
   "execution_count": 29
  }
 ],
 "metadata": {
  "kernelspec": {
   "display_name": "Python 3",
   "language": "python",
   "name": "python3"
  },
  "language_info": {
   "codemirror_mode": {
    "name": "ipython",
    "version": 2
   },
   "file_extension": ".py",
   "mimetype": "text/x-python",
   "name": "python",
   "nbconvert_exporter": "python",
   "pygments_lexer": "ipython2",
   "version": "2.7.6"
  }
 },
 "nbformat": 4,
 "nbformat_minor": 5
}
